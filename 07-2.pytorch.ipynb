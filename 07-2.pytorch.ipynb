{
  "nbformat": 4,
  "nbformat_minor": 0,
  "metadata": {
    "colab": {
      "provenance": [],
      "gpuType": "T4",
      "authorship_tag": "ABX9TyMHufqwiFrJECdA6pHLWxQk"
    },
    "kernelspec": {
      "name": "python3",
      "display_name": "Python 3"
    },
    "language_info": {
      "name": "python"
    },
    "accelerator": "GPU"
  },
  "cells": [
    {
      "cell_type": "markdown",
      "source": [
        "# 심층 신경망 (파이토치)"
      ],
      "metadata": {
        "id": "fvpweBdmFXqG"
      }
    },
    {
      "cell_type": "markdown",
      "source": [
        "<table align=\"left\"><tr><td>\n",
        "<a href=\"https://colab.research.google.com/github/rickiepark/hg-mldl2/blob/main/07-2-pt.ipynb\" target=\"_parent\"><img src=\"https://colab.research.google.com/assets/colab-badge.svg\" alt=\"코랩에서 실행하기\"/></a>\n",
        "</td></tr></table>"
      ],
      "metadata": {
        "id": "0E7dkJR8FXi3"
      }
    },
    {
      "cell_type": "code",
      "source": [
        "import torch\n",
        "\n",
        "torch.manual_seed(42)\n",
        "if torch.cuda.is_available():\n",
        "    torch.cuda.manual_seed(42)\n",
        "    torch.backends.cudnn.deterministic = True"
      ],
      "metadata": {
        "id": "KIajgl2aEAzX"
      },
      "execution_count": 1,
      "outputs": []
    },
    {
      "cell_type": "code",
      "source": [
        "from torchvision.datasets import FashionMNIST\n",
        "\n",
        "# 패션 MNIST 데이터셋 다운로드\n",
        "train = FashionMNIST(root='.', train=True, download=True)\n",
        "test = FashionMNIST(root='.', train=False, download=True)"
      ],
      "metadata": {
        "id": "240rE4p-Hih8"
      },
      "execution_count": 2,
      "outputs": []
    },
    {
      "cell_type": "code",
      "source": [
        "type(train.data)"
      ],
      "metadata": {
        "colab": {
          "base_uri": "https://localhost:8080/"
        },
        "id": "91hTn5Gp1StX",
        "outputId": "286e23cf-a4e2-480c-c721-1d518c4f5eb9"
      },
      "execution_count": 3,
      "outputs": [
        {
          "output_type": "execute_result",
          "data": {
            "text/plain": [
              "torch.Tensor"
            ]
          },
          "metadata": {},
          "execution_count": 3
        }
      ]
    },
    {
      "cell_type": "code",
      "source": [
        "print(train.data.shape, test.data.shape)"
      ],
      "metadata": {
        "colab": {
          "base_uri": "https://localhost:8080/"
        },
        "id": "Wic0FYPY0e2D",
        "outputId": "591ed51b-2886-43f0-ca93-dbb576314126"
      },
      "execution_count": 4,
      "outputs": [
        {
          "output_type": "stream",
          "name": "stdout",
          "text": [
            "torch.Size([60000, 28, 28]) torch.Size([10000, 28, 28])\n"
          ]
        }
      ]
    },
    {
      "cell_type": "code",
      "source": [
        "print(train.targets.shape, test.targets.shape)"
      ],
      "metadata": {
        "colab": {
          "base_uri": "https://localhost:8080/"
        },
        "id": "CqOKT1Ry154_",
        "outputId": "27be4ed2-2118-426f-d671-d588e9c42809"
      },
      "execution_count": 5,
      "outputs": [
        {
          "output_type": "stream",
          "name": "stdout",
          "text": [
            "torch.Size([60000]) torch.Size([10000])\n"
          ]
        }
      ]
    },
    {
      "cell_type": "code",
      "source": [
        "train_input = train.data\n",
        "train_target = train.targets"
      ],
      "metadata": {
        "id": "Ep2HHMl92Ced"
      },
      "execution_count": 6,
      "outputs": []
    },
    {
      "cell_type": "code",
      "source": [
        "train_scaled = train_input / 255.0"
      ],
      "metadata": {
        "id": "oldlijP41Vb-"
      },
      "execution_count": 7,
      "outputs": []
    },
    {
      "cell_type": "code",
      "source": [
        "from sklearn.model_selection import train_test_split\n",
        "\n",
        "train_scaled, val_scaled, train_target, val_target = train_test_split(\n",
        "    train_scaled, train_target, test_size=0.2, random_state=42)"
      ],
      "metadata": {
        "id": "Fb6FsF1H1LQ9"
      },
      "execution_count": 8,
      "outputs": []
    },
    {
      "cell_type": "code",
      "source": [
        "print(train_scaled.shape, val_scaled.shape)"
      ],
      "metadata": {
        "colab": {
          "base_uri": "https://localhost:8080/"
        },
        "id": "UZvX0OeSAg0N",
        "outputId": "6172ff1f-9d6b-4e14-90f9-c0dd846e21cf"
      },
      "execution_count": 9,
      "outputs": [
        {
          "output_type": "stream",
          "name": "stdout",
          "text": [
            "torch.Size([48000, 28, 28]) torch.Size([12000, 28, 28])\n"
          ]
        }
      ]
    },
    {
      "cell_type": "code",
      "execution_count": 10,
      "metadata": {
        "id": "hiZNXVSWHOZe"
      },
      "outputs": [],
      "source": [
        "import torch\n",
        "import torch.nn as nn\n",
        "\n",
        "model = nn.Sequential(\n",
        "    nn.Flatten(),\n",
        "    nn.Linear(784, 100),\n",
        "    nn.ReLU(),\n",
        "    nn.Linear(100, 10)\n",
        ")\n",
        "\n",
        "if torch.cuda.is_available():\n",
        "    model.to('cuda')"
      ]
    },
    {
      "cell_type": "code",
      "source": [
        "!pip install torchinfo"
      ],
      "metadata": {
        "colab": {
          "base_uri": "https://localhost:8080/"
        },
        "id": "90PBcqbHH_ym",
        "outputId": "75ec654c-f125-439c-8b2f-2b9f2752996e"
      },
      "execution_count": 11,
      "outputs": [
        {
          "output_type": "stream",
          "name": "stdout",
          "text": [
            "Requirement already satisfied: torchinfo in /usr/local/lib/python3.10/dist-packages (1.8.0)\n"
          ]
        }
      ]
    },
    {
      "cell_type": "code",
      "source": [
        "from torchinfo import summary\n",
        "\n",
        "summary(model, input_size=(32, 784))"
      ],
      "metadata": {
        "colab": {
          "base_uri": "https://localhost:8080/"
        },
        "id": "bcoB-NNoH7P7",
        "outputId": "1e9a73d8-68d5-4676-84ff-b3c387d9c875"
      },
      "execution_count": 12,
      "outputs": [
        {
          "output_type": "execute_result",
          "data": {
            "text/plain": [
              "==========================================================================================\n",
              "Layer (type:depth-idx)                   Output Shape              Param #\n",
              "==========================================================================================\n",
              "Sequential                               [32, 10]                  --\n",
              "├─Flatten: 1-1                           [32, 784]                 --\n",
              "├─Linear: 1-2                            [32, 100]                 78,500\n",
              "├─ReLU: 1-3                              [32, 100]                 --\n",
              "├─Linear: 1-4                            [32, 10]                  1,010\n",
              "==========================================================================================\n",
              "Total params: 79,510\n",
              "Trainable params: 79,510\n",
              "Non-trainable params: 0\n",
              "Total mult-adds (M): 2.54\n",
              "==========================================================================================\n",
              "Input size (MB): 0.10\n",
              "Forward/backward pass size (MB): 0.03\n",
              "Params size (MB): 0.32\n",
              "Estimated Total Size (MB): 0.45\n",
              "=========================================================================================="
            ]
          },
          "metadata": {},
          "execution_count": 12
        }
      ]
    },
    {
      "cell_type": "code",
      "source": [
        "import torch.optim as optim\n",
        "\n",
        "criterion = nn.CrossEntropyLoss()\n",
        "optimizer = optim.Adam(model.parameters())\n",
        "\n",
        "epochs = 5\n",
        "batches = int(len(train_scaled)/32)\n",
        "for epoch in range(epochs):\n",
        "    model.train()\n",
        "    epoch_loss = 0\n",
        "    for i in range(batches):\n",
        "        inputs = train_scaled[i*32:(i+1)*32]\n",
        "        targets = train_target[i*32:(i+1)*32]\n",
        "        if torch.cuda.is_available():\n",
        "            inputs = inputs.to('cuda')\n",
        "            targets = targets.to('cuda')\n",
        "        optimizer.zero_grad()\n",
        "        outputs = model(inputs)\n",
        "        loss = criterion(outputs, targets)\n",
        "        loss.backward()\n",
        "        optimizer.step()\n",
        "        epoch_loss += loss.item()\n",
        "    print(f\"에포크:{epoch + 1}, 손실:{epoch_loss/batches:.4f}\")"
      ],
      "metadata": {
        "colab": {
          "base_uri": "https://localhost:8080/"
        },
        "id": "4y_lnuYWFFp6",
        "outputId": "c82aa6a3-076a-4e29-d2e3-91602e2b12ce"
      },
      "execution_count": 13,
      "outputs": [
        {
          "output_type": "stream",
          "name": "stdout",
          "text": [
            "에포크:1, 손실:0.5428\n",
            "에포크:2, 손실:0.4004\n",
            "에포크:3, 손실:0.3594\n",
            "에포크:4, 손실:0.3320\n",
            "에포크:5, 손실:0.3119\n"
          ]
        }
      ]
    },
    {
      "cell_type": "code",
      "source": [
        "model.eval()\n",
        "with torch.no_grad():\n",
        "    if torch.cuda.is_available():\n",
        "        val_scaled = val_scaled.to('cuda')\n",
        "        val_target = val_target.to('cuda')\n",
        "    output = model(val_scaled)\n",
        "    predicted = torch.argmax(output, 1)\n",
        "    corrects = (predicted == val_target).sum().item()\n",
        "\n",
        "accuracy = corrects / len(val_target)\n",
        "print(f\"검증 정확도: {accuracy:.4f}\")"
      ],
      "metadata": {
        "colab": {
          "base_uri": "https://localhost:8080/"
        },
        "id": "qUEWtfLa6pKu",
        "outputId": "f460f265-6069-43c4-a960-db0ed3af8ed1"
      },
      "execution_count": 14,
      "outputs": [
        {
          "output_type": "stream",
          "name": "stdout",
          "text": [
            "검증 정확도: 0.8719\n"
          ]
        }
      ]
    }
  ]
}