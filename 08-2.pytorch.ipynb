{
  "nbformat": 4,
  "nbformat_minor": 0,
  "metadata": {
    "colab": {
      "name": "08-2 합성곱 신경망을 사용한 이미지 분류 (파이토치)",
      "provenance": [],
      "gpuType": "T4",
      "authorship_tag": "ABX9TyNklvGyDACqlBn12+j7eBya"
    },
    "kernelspec": {
      "name": "python3",
      "display_name": "Python 3"
    },
    "language_info": {
      "name": "python"
    },
    "accelerator": "GPU"
  },
  "cells": [
    {
      "cell_type": "markdown",
      "source": [
        "# 합성곱 신경망을 사용한 이미지 분류 (파이토치)"
      ],
      "metadata": {
        "id": "fvpweBdmFXqG"
      }
    },
    {
      "cell_type": "markdown",
      "source": [
        "<table align=\"left\"><tr><td>\n",
        "<a href=\"https://colab.research.google.com/github/rickiepark/hg-mldl2/blob/main/08-2.pytorch.ipynb\" target=\"_parent\"><img src=\"https://colab.research.google.com/assets/colab-badge.svg\" alt=\"코랩에서 실행하기\"/></a>\n",
        "</td></tr></table>"
      ],
      "metadata": {
        "id": "0E7dkJR8FXi3"
      }
    },
    {
      "cell_type": "code",
      "source": [
        "# 실행마다 동일한 결과를 얻기 위해 파이토치에 랜덤 시드를 지정하고 GPU 연산을 결정적으로 만듭니다.\n",
        "import torch\n",
        "\n",
        "torch.manual_seed(42)\n",
        "if torch.cuda.is_available():\n",
        "    torch.cuda.manual_seed(42)\n",
        "    torch.backends.cudnn.deterministic = True"
      ],
      "metadata": {
        "id": "KIajgl2aEAzX"
      },
      "execution_count": 1,
      "outputs": []
    },
    {
      "cell_type": "code",
      "source": [
        "from torchvision.datasets import FashionMNIST\n",
        "\n",
        "fm_train = FashionMNIST(root='.', train=True, download=True)\n",
        "fm_test = FashionMNIST(root='.', train=False, download=True)"
      ],
      "metadata": {
        "id": "240rE4p-Hih8",
        "colab": {
          "base_uri": "https://localhost:8080/"
        },
        "outputId": "1314c7e3-f245-43e4-fa9c-cf805578b3f5"
      },
      "execution_count": 2,
      "outputs": [
        {
          "output_type": "stream",
          "name": "stdout",
          "text": [
            "Downloading http://fashion-mnist.s3-website.eu-central-1.amazonaws.com/train-images-idx3-ubyte.gz\n",
            "Downloading http://fashion-mnist.s3-website.eu-central-1.amazonaws.com/train-images-idx3-ubyte.gz to ./FashionMNIST/raw/train-images-idx3-ubyte.gz\n"
          ]
        },
        {
          "output_type": "stream",
          "name": "stderr",
          "text": [
            "100%|██████████| 26.4M/26.4M [00:00<00:00, 115MB/s]\n"
          ]
        },
        {
          "output_type": "stream",
          "name": "stdout",
          "text": [
            "Extracting ./FashionMNIST/raw/train-images-idx3-ubyte.gz to ./FashionMNIST/raw\n",
            "\n",
            "Downloading http://fashion-mnist.s3-website.eu-central-1.amazonaws.com/train-labels-idx1-ubyte.gz\n",
            "Downloading http://fashion-mnist.s3-website.eu-central-1.amazonaws.com/train-labels-idx1-ubyte.gz to ./FashionMNIST/raw/train-labels-idx1-ubyte.gz\n"
          ]
        },
        {
          "output_type": "stream",
          "name": "stderr",
          "text": [
            "100%|██████████| 29.5k/29.5k [00:00<00:00, 7.29MB/s]\n"
          ]
        },
        {
          "output_type": "stream",
          "name": "stdout",
          "text": [
            "Extracting ./FashionMNIST/raw/train-labels-idx1-ubyte.gz to ./FashionMNIST/raw\n",
            "\n",
            "Downloading http://fashion-mnist.s3-website.eu-central-1.amazonaws.com/t10k-images-idx3-ubyte.gz\n",
            "Downloading http://fashion-mnist.s3-website.eu-central-1.amazonaws.com/t10k-images-idx3-ubyte.gz to ./FashionMNIST/raw/t10k-images-idx3-ubyte.gz\n"
          ]
        },
        {
          "output_type": "stream",
          "name": "stderr",
          "text": [
            "100%|██████████| 4.42M/4.42M [00:00<00:00, 63.0MB/s]\n"
          ]
        },
        {
          "output_type": "stream",
          "name": "stdout",
          "text": [
            "Extracting ./FashionMNIST/raw/t10k-images-idx3-ubyte.gz to ./FashionMNIST/raw\n",
            "\n",
            "Downloading http://fashion-mnist.s3-website.eu-central-1.amazonaws.com/t10k-labels-idx1-ubyte.gz\n",
            "Downloading http://fashion-mnist.s3-website.eu-central-1.amazonaws.com/t10k-labels-idx1-ubyte.gz to ./FashionMNIST/raw/t10k-labels-idx1-ubyte.gz\n"
          ]
        },
        {
          "output_type": "stream",
          "name": "stderr",
          "text": [
            "100%|██████████| 5.15k/5.15k [00:00<00:00, 7.49MB/s]\n"
          ]
        },
        {
          "output_type": "stream",
          "name": "stdout",
          "text": [
            "Extracting ./FashionMNIST/raw/t10k-labels-idx1-ubyte.gz to ./FashionMNIST/raw\n",
            "\n"
          ]
        }
      ]
    },
    {
      "cell_type": "code",
      "source": [
        "train_input = fm_train.data\n",
        "train_target = fm_train.targets"
      ],
      "metadata": {
        "id": "Ep2HHMl92Ced"
      },
      "execution_count": 3,
      "outputs": []
    },
    {
      "cell_type": "code",
      "source": [
        "train_scaled = train_input.reshape(-1, 1, 28, 28) / 255.0"
      ],
      "metadata": {
        "id": "oldlijP41Vb-"
      },
      "execution_count": 4,
      "outputs": []
    },
    {
      "cell_type": "code",
      "source": [
        "print(train_scaled.shape)"
      ],
      "metadata": {
        "id": "9R_gM74OV6Kk",
        "outputId": "4197fcb2-e0fd-4903-dd9a-a0376fffcb31",
        "colab": {
          "base_uri": "https://localhost:8080/"
        }
      },
      "execution_count": 5,
      "outputs": [
        {
          "output_type": "stream",
          "name": "stdout",
          "text": [
            "torch.Size([60000, 1, 28, 28])\n"
          ]
        }
      ]
    },
    {
      "cell_type": "code",
      "source": [
        "from sklearn.model_selection import train_test_split\n",
        "\n",
        "train_scaled, val_scaled, train_target, val_target = train_test_split(\n",
        "    train_scaled, train_target, test_size=0.2, random_state=42)"
      ],
      "metadata": {
        "id": "Fb6FsF1H1LQ9"
      },
      "execution_count": 6,
      "outputs": []
    },
    {
      "cell_type": "code",
      "execution_count": 7,
      "metadata": {
        "id": "hiZNXVSWHOZe"
      },
      "outputs": [],
      "source": [
        "import torch.nn as nn\n",
        "\n",
        "model = nn.Sequential()\n",
        "model.add_module('conv1', nn.Conv2d(1, 32, kernel_size=3, padding='same'))\n",
        "model.add_module('relu1', nn.ReLU())\n",
        "model.add_module('pool1', nn.MaxPool2d(2))\n",
        "model.add_module('conv2', nn.Conv2d(32, 64, kernel_size=3, padding='same'))\n",
        "model.add_module('relu2', nn.ReLU())\n",
        "model.add_module('pool2', nn.MaxPool2d(2))\n",
        "model.add_module('flatten', nn.Flatten())"
      ]
    },
    {
      "cell_type": "code",
      "source": [
        "outputs = model(torch.ones(1, 1, 28, 28))\n",
        "print(outputs.shape)"
      ],
      "metadata": {
        "id": "u8JCC8XpZZmY",
        "outputId": "725e305a-05ab-4b31-ed25-8f2fad8ff38c",
        "colab": {
          "base_uri": "https://localhost:8080/"
        }
      },
      "execution_count": 8,
      "outputs": [
        {
          "output_type": "stream",
          "name": "stdout",
          "text": [
            "torch.Size([1, 3136])\n"
          ]
        }
      ]
    },
    {
      "cell_type": "code",
      "source": [
        "model.add_module('dense1', nn.Linear(3136, 100))\n",
        "model.add_module('relu3', nn.ReLU())\n",
        "model.add_module('dropout', nn.Dropout(0.3))\n",
        "model.add_module('dense2', nn.Linear(100, 10))"
      ],
      "metadata": {
        "id": "-Iswx8MsZP6C"
      },
      "execution_count": 9,
      "outputs": []
    },
    {
      "cell_type": "code",
      "source": [
        "import torch\n",
        "\n",
        "device = torch.device(\"cuda\" if torch.cuda.is_available() else \"cpu\")\n",
        "model.to(device)"
      ],
      "metadata": {
        "colab": {
          "base_uri": "https://localhost:8080/"
        },
        "id": "3F09Cqw6RVfi",
        "outputId": "0a7e51be-6b20-48ac-ef5c-14f2d130b87a"
      },
      "execution_count": 10,
      "outputs": [
        {
          "output_type": "execute_result",
          "data": {
            "text/plain": [
              "Sequential(\n",
              "  (conv1): Conv2d(1, 32, kernel_size=(3, 3), stride=(1, 1), padding=same)\n",
              "  (relu1): ReLU()\n",
              "  (pool1): MaxPool2d(kernel_size=2, stride=2, padding=0, dilation=1, ceil_mode=False)\n",
              "  (conv2): Conv2d(32, 64, kernel_size=(3, 3), stride=(1, 1), padding=same)\n",
              "  (relu2): ReLU()\n",
              "  (pool2): MaxPool2d(kernel_size=2, stride=2, padding=0, dilation=1, ceil_mode=False)\n",
              "  (flatten): Flatten(start_dim=1, end_dim=-1)\n",
              "  (dense1): Linear(in_features=3136, out_features=100, bias=True)\n",
              "  (relu3): ReLU()\n",
              "  (dropout): Dropout(p=0.3, inplace=False)\n",
              "  (dense2): Linear(in_features=100, out_features=10, bias=True)\n",
              ")"
            ]
          },
          "metadata": {},
          "execution_count": 10
        }
      ]
    },
    {
      "cell_type": "code",
      "source": [
        "import torch.optim as optim\n",
        "\n",
        "criterion = nn.CrossEntropyLoss()\n",
        "optimizer = optim.Adam(model.parameters())"
      ],
      "metadata": {
        "id": "ZqiGSML9-p9q"
      },
      "execution_count": 11,
      "outputs": []
    },
    {
      "cell_type": "code",
      "source": [
        "from torch.utils.data import TensorDataset, DataLoader\n",
        "\n",
        "train_dataset = TensorDataset(train_scaled, train_target)\n",
        "val_dataset = TensorDataset(val_scaled, val_target)\n",
        "\n",
        "train_loader = DataLoader(train_dataset, batch_size=32, shuffle=True)\n",
        "val_loader = DataLoader(val_dataset, batch_size=32, shuffle=True)"
      ],
      "metadata": {
        "id": "Wo-vd7m8Zyy-"
      },
      "execution_count": 12,
      "outputs": []
    },
    {
      "cell_type": "code",
      "source": [
        "train_hist = []\n",
        "val_hist = []\n",
        "patience = 2\n",
        "best_loss = -1\n",
        "early_stopping_counter = 0\n",
        "\n",
        "epochs = 20\n",
        "for epoch in range(epochs):\n",
        "    model.train()\n",
        "    train_loss = 0\n",
        "    for inputs, targets in train_loader:\n",
        "        inputs, targets = inputs.to(device), targets.to(device)\n",
        "        optimizer.zero_grad()\n",
        "        outputs = model(inputs)\n",
        "        loss = criterion(outputs, targets)\n",
        "        loss.backward()\n",
        "        optimizer.step()\n",
        "        train_loss += loss.item()\n",
        "\n",
        "    model.eval()\n",
        "    val_loss = 0\n",
        "    with torch.no_grad():\n",
        "        for inputs, targets in val_loader:\n",
        "            inputs, targets = inputs.to(device), targets.to(device)\n",
        "            outputs = model(inputs)\n",
        "            loss = criterion(outputs, targets)\n",
        "            val_loss += loss.item()\n",
        "\n",
        "    train_loss = train_loss/len(train_loader)\n",
        "    val_loss = val_loss/len(val_loader)\n",
        "    train_hist.append(train_loss)\n",
        "    val_hist.append(val_loss)\n",
        "    print(f\"에포크:{epoch+1},\",\n",
        "          f\"훈련 손실:{train_loss:.4f}, 검증 손실:{val_loss:.4f}\")\n",
        "\n",
        "    if best_loss == -1 or val_loss < best_loss:\n",
        "        best_loss = val_loss\n",
        "        early_stopping_counter = 0\n",
        "        torch.save(model.state_dict(), 'best_model.pt')\n",
        "    else:\n",
        "        early_stopping_counter += 1\n",
        "        if early_stopping_counter >= patience:\n",
        "            print(f\"{epoch+1}번째 에포크에서 조기 종료되었습니다.\")\n",
        "            break"
      ],
      "metadata": {
        "colab": {
          "base_uri": "https://localhost:8080/"
        },
        "id": "4y_lnuYWFFp6",
        "outputId": "289a30ab-c21a-4e20-8c85-a9177eaf8fa5"
      },
      "execution_count": 13,
      "outputs": [
        {
          "output_type": "stream",
          "name": "stdout",
          "text": [
            "에포크:1, 훈련 손실:0.5187, 검증 손실:0.3458\n",
            "에포크:2, 훈련 손실:0.3403, 검증 손실:0.2783\n",
            "에포크:3, 훈련 손실:0.2927, 검증 손실:0.2500\n",
            "에포크:4, 훈련 손실:0.2594, 검증 손실:0.2425\n",
            "에포크:5, 훈련 손실:0.2309, 검증 손실:0.2347\n",
            "에포크:6, 훈련 손실:0.2125, 검증 손실:0.2295\n",
            "에포크:7, 훈련 손실:0.1944, 검증 손실:0.2170\n",
            "에포크:8, 훈련 손실:0.1790, 검증 손실:0.2210\n",
            "에포크:9, 훈련 손실:0.1642, 검증 손실:0.2226\n",
            "9번째 에포크에서 조기 종료되었습니다.\n"
          ]
        }
      ]
    },
    {
      "cell_type": "code",
      "source": [
        "import matplotlib.pyplot as plt\n",
        "\n",
        "plt.plot(train_hist, label='train')\n",
        "plt.plot(val_hist, label='val')\n",
        "plt.xlabel('epoch')\n",
        "plt.ylabel('loss')\n",
        "plt.legend()\n",
        "plt.show()"
      ],
      "metadata": {
        "colab": {
          "base_uri": "https://localhost:8080/",
          "height": 449
        },
        "id": "CaIShGSd8QiK",
        "outputId": "8fbfced5-4b43-41dd-dcdb-7bc135ba340f"
      },
      "execution_count": 14,
      "outputs": [
        {
          "output_type": "display_data",
          "data": {
            "text/plain": [
              "<Figure size 640x480 with 1 Axes>"
            ],
            "image/png": "[encoded data removed]"
          },
          "metadata": {}
        }
      ]
    },
    {
      "cell_type": "code",
      "source": [
        "model.load_state_dict(torch.load('best_model.pt', weights_only=True))"
      ],
      "metadata": {
        "colab": {
          "base_uri": "https://localhost:8080/"
        },
        "id": "upAxpBot-xKx",
        "outputId": "72a0476a-f38a-47a3-f331-900f3d1710ef"
      },
      "execution_count": 15,
      "outputs": [
        {
          "output_type": "execute_result",
          "data": {
            "text/plain": [
              "<All keys matched successfully>"
            ]
          },
          "metadata": {},
          "execution_count": 15
        }
      ]
    },
    {
      "cell_type": "code",
      "source": [
        "model.eval()\n",
        "with torch.no_grad():\n",
        "    val_scaled = val_scaled.to(device)\n",
        "    val_target = val_target.to(device)\n",
        "    outputs = model(val_scaled)\n",
        "    predicts = torch.argmax(outputs, 1)\n",
        "    corrects = (predicts == val_target).sum().item()\n",
        "\n",
        "accuracy = corrects / len(val_target)\n",
        "print(f\"검증 정확도: {accuracy:.4f}\")"
      ],
      "metadata": {
        "colab": {
          "base_uri": "https://localhost:8080/"
        },
        "id": "qUEWtfLa6pKu",
        "outputId": "97a3d3b8-4af4-41f5-ba12-b48a11d451cf"
      },
      "execution_count": 16,
      "outputs": [
        {
          "output_type": "stream",
          "name": "stdout",
          "text": [
            "검증 정확도: 0.9213\n"
          ]
        }
      ]
    }
  ]
}