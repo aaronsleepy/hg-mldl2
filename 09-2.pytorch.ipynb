{
  "nbformat": 4,
  "nbformat_minor": 0,
  "metadata": {
    "colab": {
      "name": "09-2 순환 신경망으로 IMDB 리뷰 분류하기 (파이토치)",
      "provenance": [],
      "gpuType": "T4",
      "authorship_tag": "ABX9TyOfsOWIXGdGQAd0+QUyreeA"
    },
    "kernelspec": {
      "name": "python3",
      "display_name": "Python 3"
    },
    "language_info": {
      "name": "python"
    },
    "accelerator": "GPU"
  },
  "cells": [
    {
      "cell_type": "markdown",
      "source": [
        "# 순환 신경망으로 IMDB 리뷰 분류하기 (파이토치)"
      ],
      "metadata": {
        "id": "fvpweBdmFXqG"
      }
    },
    {
      "cell_type": "markdown",
      "source": [
        "<table align=\"left\"><tr><td>\n",
        "<a href=\"https://colab.research.google.com/github/rickiepark/hg-mldl2/blob/main/09-2.pytorch.ipynb\" target=\"_parent\"><img src=\"https://colab.research.google.com/assets/colab-badge.svg\" alt=\"코랩에서 실행하기\"/></a>\n",
        "</td></tr></table>"
      ],
      "metadata": {
        "id": "0E7dkJR8FXi3"
      }
    },
    {
      "cell_type": "code",
      "source": [
        "# 실행마다 동일한 결과를 얻기 위해 파이토치에 랜덤 시드를 지정하고 GPU 연산을 결정적으로 만듭니다.\n",
        "import torch\n",
        "\n",
        "torch.manual_seed(42)\n",
        "if torch.cuda.is_available():\n",
        "    torch.cuda.manual_seed(42)\n",
        "    torch.backends.cudnn.deterministic = True"
      ],
      "metadata": {
        "id": "KIajgl2aEAzX"
      },
      "execution_count": 1,
      "outputs": []
    },
    {
      "cell_type": "code",
      "source": [
        "from keras.datasets import imdb\n",
        "from sklearn.model_selection import train_test_split\n",
        "\n",
        "(train_input, train_target), (test_input, test_target) = imdb.load_data(\n",
        "    num_words=500)\n",
        "train_input, val_input, train_target, val_target = train_test_split(\n",
        "    train_input, train_target, test_size=0.2, random_state=42)"
      ],
      "metadata": {
        "id": "pq5gvh_vfLT_"
      },
      "execution_count": 2,
      "outputs": []
    },
    {
      "cell_type": "code",
      "source": [
        "from keras.preprocessing.sequence import pad_sequences\n",
        "\n",
        "train_seq = pad_sequences(train_input, maxlen=100)\n",
        "val_seq = pad_sequences(val_input, maxlen=100)"
      ],
      "metadata": {
        "id": "WI_uiVdieus4"
      },
      "execution_count": 3,
      "outputs": []
    },
    {
      "cell_type": "code",
      "source": [
        "print(train_seq.shape, train_target.shape)"
      ],
      "metadata": {
        "id": "P3AOwGtVjmvL",
        "outputId": "def6d561-7661-4203-abd0-f24838f5f651",
        "colab": {
          "base_uri": "https://localhost:8080/"
        }
      },
      "execution_count": 4,
      "outputs": [
        {
          "output_type": "stream",
          "name": "stdout",
          "text": [
            "(20000, 100) (20000,)\n"
          ]
        }
      ]
    },
    {
      "cell_type": "code",
      "source": [
        "train_seq = torch.tensor(train_seq)\n",
        "val_seq = torch.tensor(val_seq)"
      ],
      "metadata": {
        "id": "rQl9-_GQeAnJ"
      },
      "execution_count": 5,
      "outputs": []
    },
    {
      "cell_type": "code",
      "source": [
        "print(train_target.dtype)"
      ],
      "metadata": {
        "id": "P5vz_jYldyjp",
        "outputId": "27dc64a6-9583-47c5-c3f1-77babfce953e",
        "colab": {
          "base_uri": "https://localhost:8080/"
        }
      },
      "execution_count": 6,
      "outputs": [
        {
          "output_type": "stream",
          "name": "stdout",
          "text": [
            "int64\n"
          ]
        }
      ]
    },
    {
      "cell_type": "code",
      "source": [
        "train_target = torch.tensor(train_target, dtype=torch.float32)\n",
        "val_target = torch.tensor(val_target, dtype=torch.float32)"
      ],
      "metadata": {
        "id": "jCO7Q6C5eCjX"
      },
      "execution_count": 7,
      "outputs": []
    },
    {
      "cell_type": "code",
      "source": [
        "print(train_target.dtype)"
      ],
      "metadata": {
        "id": "iuQU8BGoeSrT",
        "outputId": "3a6980b2-3322-40bc-f2b5-d0f0e8716fd7",
        "colab": {
          "base_uri": "https://localhost:8080/"
        }
      },
      "execution_count": 8,
      "outputs": [
        {
          "output_type": "stream",
          "name": "stdout",
          "text": [
            "torch.float32\n"
          ]
        }
      ]
    },
    {
      "cell_type": "code",
      "source": [
        "from torch.utils.data import TensorDataset, DataLoader\n",
        "\n",
        "train_dataset = TensorDataset(train_seq, train_target)\n",
        "val_dataset = TensorDataset(val_seq, val_target)\n",
        "\n",
        "train_loader = DataLoader(train_dataset, batch_size=64, shuffle=True)\n",
        "val_loader = DataLoader(val_dataset, batch_size=64, shuffle=False)"
      ],
      "metadata": {
        "id": "nV-ZyXwKfA8j"
      },
      "execution_count": 9,
      "outputs": []
    },
    {
      "cell_type": "code",
      "source": [
        "import torch.nn as nn\n",
        "\n",
        "class IMDBRnn(nn.Module):\n",
        "    def __init__(self):\n",
        "        super().__init__()\n",
        "        self.embedding = nn.Embedding(500, 16)\n",
        "        self.rnn = nn.RNN(16, 8, batch_first=True)\n",
        "        self.dense = nn.Linear(8, 1)\n",
        "        self.sigmoid = nn.Sigmoid()\n",
        "    def forward(self, x):\n",
        "        x = self.embedding(x)\n",
        "        _, hidden = self.rnn(x)\n",
        "        outputs = self.dense(hidden[-1])\n",
        "        return self.sigmoid(outputs)\n",
        "\n",
        "model = IMDBRnn()"
      ],
      "metadata": {
        "id": "HWot19ZojiAV"
      },
      "execution_count": 10,
      "outputs": []
    },
    {
      "cell_type": "code",
      "source": [
        "import torch\n",
        "\n",
        "device = torch.device(\"cuda\" if torch.cuda.is_available() else \"cpu\")\n",
        "model.to(device)"
      ],
      "metadata": {
        "id": "UWZxwr8pkyJg",
        "outputId": "643b2479-fd1c-4a1a-cb06-064fba538214",
        "colab": {
          "base_uri": "https://localhost:8080/"
        }
      },
      "execution_count": 11,
      "outputs": [
        {
          "output_type": "execute_result",
          "data": {
            "text/plain": [
              "IMDBRnn(\n",
              "  (embedding): Embedding(500, 16)\n",
              "  (rnn): RNN(16, 8, batch_first=True)\n",
              "  (dense): Linear(in_features=8, out_features=1, bias=True)\n",
              "  (sigmoid): Sigmoid()\n",
              ")"
            ]
          },
          "metadata": {},
          "execution_count": 11
        }
      ]
    },
    {
      "cell_type": "code",
      "source": [
        "import torch.optim as optim\n",
        "\n",
        "criterion = nn.BCELoss()\n",
        "optimizer = optim.Adam(model.parameters(), lr=2e-4)"
      ],
      "metadata": {
        "id": "GeWYdsZJk8kt"
      },
      "execution_count": 12,
      "outputs": []
    },
    {
      "cell_type": "code",
      "source": [
        "train_hist = []\n",
        "val_hist = []\n",
        "patience = 2\n",
        "best_loss = -1\n",
        "early_stopping_counter = 0\n",
        "\n",
        "epochs = 100\n",
        "for epoch in range(epochs):\n",
        "    model.train()\n",
        "    train_loss = 0\n",
        "    for inputs, targets in train_loader:\n",
        "        inputs, targets = inputs.to(device), targets.to(device)\n",
        "        optimizer.zero_grad()\n",
        "        outputs = model(inputs)\n",
        "        loss = criterion(outputs.squeeze(), targets)\n",
        "        loss.backward()\n",
        "        optimizer.step()\n",
        "        train_loss += loss.item()\n",
        "\n",
        "    model.eval()\n",
        "    val_loss = 0\n",
        "    with torch.no_grad():\n",
        "        for inputs, targets in val_loader:\n",
        "            inputs, targets = inputs.to(device), targets.to(device)\n",
        "            outputs = model(inputs)\n",
        "            loss = criterion(outputs.squeeze(), targets)\n",
        "            val_loss += loss.item()\n",
        "\n",
        "    train_loss = train_loss/len(train_loader)\n",
        "    val_loss = val_loss/len(val_loader)\n",
        "    train_hist.append(train_loss)\n",
        "    val_hist.append(val_loss)\n",
        "    print(f\"에포크:{epoch+1},\",\n",
        "          f\"훈련 손실:{train_loss:.4f}, 검증 손실:{val_loss:.4f}\")\n",
        "\n",
        "    if best_loss == -1 or val_loss < best_loss:\n",
        "        best_loss = val_loss\n",
        "        early_stopping_counter = 0\n",
        "        torch.save(model.state_dict(), 'best_rnn_model.pt')\n",
        "    else:\n",
        "        early_stopping_counter += 1\n",
        "        if early_stopping_counter >= patience:\n",
        "            print(f\"{epoch+1}번째 에포크에서 조기 종료되었습니다.\")\n",
        "            break"
      ],
      "metadata": {
        "id": "5U2NaZvQk-LJ",
        "outputId": "2afcd561-2704-404f-ba54-c06e5ef93390",
        "colab": {
          "base_uri": "https://localhost:8080/"
        }
      },
      "execution_count": 13,
      "outputs": [
        {
          "output_type": "stream",
          "name": "stdout",
          "text": [
            "에포크:1, 훈련 손실:0.7088, 검증 손실:0.7030\n",
            "에포크:2, 훈련 손실:0.6992, 검증 손실:0.6970\n",
            "에포크:3, 훈련 손실:0.6941, 검증 손실:0.6934\n",
            "에포크:4, 훈련 손실:0.6907, 검증 손실:0.6909\n",
            "에포크:5, 훈련 손실:0.6883, 검증 손실:0.6893\n",
            "에포크:6, 훈련 손실:0.6865, 검증 손실:0.6875\n",
            "에포크:7, 훈련 손실:0.6847, 검증 손실:0.6861\n",
            "에포크:8, 훈련 손실:0.6829, 검증 손실:0.6850\n",
            "에포크:9, 훈련 손실:0.6812, 검증 손실:0.6834\n",
            "에포크:10, 훈련 손실:0.6793, 검증 손실:0.6820\n",
            "에포크:11, 훈련 손실:0.6772, 검증 손실:0.6806\n",
            "에포크:12, 훈련 손실:0.6750, 검증 손실:0.6789\n",
            "에포크:13, 훈련 손실:0.6725, 검증 손실:0.6766\n",
            "에포크:14, 훈련 손실:0.6698, 검증 손실:0.6745\n",
            "에포크:15, 훈련 손실:0.6667, 검증 손실:0.6712\n",
            "에포크:16, 훈련 손실:0.6628, 검증 손실:0.6675\n",
            "에포크:17, 훈련 손실:0.6579, 검증 손실:0.6634\n",
            "에포크:18, 훈련 손실:0.6517, 검증 손실:0.6578\n",
            "에포크:19, 훈련 손실:0.6442, 검증 손실:0.6514\n",
            "에포크:20, 훈련 손실:0.6371, 검증 손실:0.6452\n",
            "에포크:21, 훈련 손실:0.6303, 검증 손실:0.6400\n",
            "에포크:22, 훈련 손실:0.6239, 검증 손실:0.6348\n",
            "에포크:23, 훈련 손실:0.6183, 검증 손실:0.6302\n",
            "에포크:24, 훈련 손실:0.6117, 검증 손실:0.6241\n",
            "에포크:25, 훈련 손실:0.6054, 검증 손실:0.6177\n",
            "에포크:26, 훈련 손실:0.5996, 검증 손실:0.6137\n",
            "에포크:27, 훈련 손실:0.5953, 검증 손실:0.6112\n",
            "에포크:28, 훈련 손실:0.5899, 검증 손실:0.6052\n",
            "에포크:29, 훈련 손실:0.5852, 검증 손실:0.6023\n",
            "에포크:30, 훈련 손실:0.5821, 검증 손실:0.5987\n",
            "에포크:31, 훈련 손실:0.5788, 검증 손실:0.5972\n",
            "에포크:32, 훈련 손실:0.5745, 검증 손실:0.5910\n",
            "에포크:33, 훈련 손실:0.5717, 검증 손실:0.5902\n",
            "에포크:34, 훈련 손실:0.5672, 검증 손실:0.5870\n",
            "에포크:35, 훈련 손실:0.5657, 검증 손실:0.5847\n",
            "에포크:36, 훈련 손실:0.5626, 검증 손실:0.5899\n",
            "에포크:37, 훈련 손실:0.5564, 검증 손실:0.5820\n",
            "에포크:38, 훈련 손실:0.5531, 검증 손실:0.5800\n",
            "에포크:39, 훈련 손실:0.5529, 검증 손실:0.5763\n",
            "에포크:40, 훈련 손실:0.5495, 검증 손실:0.5757\n",
            "에포크:41, 훈련 손실:0.5463, 검증 손실:0.5735\n",
            "에포크:42, 훈련 손실:0.5440, 검증 손실:0.5696\n",
            "에포크:43, 훈련 손실:0.5396, 검증 손실:0.5741\n",
            "에포크:44, 훈련 손실:0.5379, 검증 손실:0.5693\n",
            "에포크:45, 훈련 손실:0.5359, 검증 손실:0.5657\n",
            "에포크:46, 훈련 손실:0.5326, 검증 손실:0.5623\n",
            "에포크:47, 훈련 손실:0.5306, 검증 손실:0.5616\n",
            "에포크:48, 훈련 손실:0.5304, 검증 손실:0.5667\n",
            "에포크:49, 훈련 손실:0.5259, 검증 손실:0.5592\n",
            "에포크:50, 훈련 손실:0.5237, 검증 손실:0.5593\n",
            "에포크:51, 훈련 손실:0.5220, 검증 손실:0.5678\n",
            "51번째 에포크에서 조기 종료되었습니다.\n"
          ]
        }
      ]
    },
    {
      "cell_type": "code",
      "source": [
        "import matplotlib.pyplot as plt\n",
        "\n",
        "plt.plot(train_hist, label='train')\n",
        "plt.plot(val_hist, label='val')\n",
        "plt.xlabel('epoch')\n",
        "plt.ylabel('loss')\n",
        "plt.legend()\n",
        "plt.show()"
      ],
      "metadata": {
        "id": "CriEZshflBxj",
        "outputId": "58ff5a14-fdb4-4e26-d54d-470a5c1234c3",
        "colab": {
          "base_uri": "https://localhost:8080/",
          "height": 449
        }
      },
      "execution_count": 14,
      "outputs": [
        {
          "output_type": "display_data",
          "data": {
            "text/plain": [
              "<Figure size 640x480 with 1 Axes>"
            ],
            "image/png": "[encoded data removed]"
          },
          "metadata": {}
        }
      ]
    },
    {
      "cell_type": "code",
      "source": [
        "model.load_state_dict(torch.load('best_rnn_model.pt', weights_only=True))"
      ],
      "metadata": {
        "id": "OjRZkHMXsyob",
        "outputId": "54091254-7091-4e99-82c5-9fcf0f8e5223",
        "colab": {
          "base_uri": "https://localhost:8080/"
        }
      },
      "execution_count": 15,
      "outputs": [
        {
          "output_type": "execute_result",
          "data": {
            "text/plain": [
              "<All keys matched successfully>"
            ]
          },
          "metadata": {},
          "execution_count": 15
        }
      ]
    },
    {
      "cell_type": "code",
      "source": [
        "model.eval()\n",
        "corrects = 0\n",
        "with torch.no_grad():\n",
        "    for inputs, targets in val_loader:\n",
        "        inputs, targets = inputs.to(device), targets.to(device)\n",
        "        outputs = model(inputs)\n",
        "        predicts = outputs > 0.5\n",
        "        corrects += (predicts.squeeze() == targets).sum().item()\n",
        "\n",
        "accuracy = corrects / len(val_dataset)\n",
        "print(f\"검증 정확도: {accuracy:.4f}\")"
      ],
      "metadata": {
        "id": "ZL7hd_U3s0zR",
        "outputId": "8c0f397d-5c51-4208-ef9b-801b2be7c841",
        "colab": {
          "base_uri": "https://localhost:8080/"
        }
      },
      "execution_count": 16,
      "outputs": [
        {
          "output_type": "stream",
          "name": "stdout",
          "text": [
            "검증 정확도: 0.7272\n"
          ]
        }
      ]
    }
  ]
}