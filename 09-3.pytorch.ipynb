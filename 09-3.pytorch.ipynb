{
  "nbformat": 4,
  "nbformat_minor": 0,
  "metadata": {
    "colab": {
      "name": "09-3 LSTM과 GRU 셀 (파이토치)",
      "provenance": [],
      "gpuType": "T4",
      "authorship_tag": "ABX9TyMExjXM91h3T377sCwYuc+b"
    },
    "kernelspec": {
      "name": "python3",
      "display_name": "Python 3"
    },
    "language_info": {
      "name": "python"
    },
    "accelerator": "GPU"
  },
  "cells": [
    {
      "cell_type": "markdown",
      "source": [
        "# 순환 신경망으로 IMDB 리뷰 분류하기 (파이토치)"
      ],
      "metadata": {
        "id": "fvpweBdmFXqG"
      }
    },
    {
      "cell_type": "markdown",
      "source": [
        "<table align=\"left\"><tr><td>\n",
        "<a href=\"https://colab.research.google.com/github/rickiepark/hg-mldl2/blob/main/09-3.pytorch.ipynb\" target=\"_parent\"><img src=\"https://colab.research.google.com/assets/colab-badge.svg\" alt=\"코랩에서 실행하기\"/></a>\n",
        "</td></tr></table>"
      ],
      "metadata": {
        "id": "0E7dkJR8FXi3"
      }
    },
    {
      "cell_type": "code",
      "source": [
        "# 실행마다 동일한 결과를 얻기 위해 파이토치에 랜덤 시드를 지정하고 GPU 연산을 결정적으로 만듭니다.\n",
        "import torch\n",
        "\n",
        "torch.manual_seed(42)\n",
        "if torch.cuda.is_available():\n",
        "    torch.cuda.manual_seed(42)\n",
        "    torch.backends.cudnn.deterministic = True"
      ],
      "metadata": {
        "id": "KIajgl2aEAzX"
      },
      "execution_count": 1,
      "outputs": []
    },
    {
      "cell_type": "code",
      "source": [
        "from keras.datasets import imdb\n",
        "\n",
        "(train_input, train_target), (test_input, test_target) = imdb.load_data(\n",
        "    num_words=200)"
      ],
      "metadata": {
        "id": "pq5gvh_vfLT_"
      },
      "execution_count": 2,
      "outputs": []
    },
    {
      "cell_type": "code",
      "source": [
        "from sklearn.model_selection import train_test_split\n",
        "\n",
        "train_input, val_input, train_target, val_target = train_test_split(\n",
        "    train_input, train_target, test_size=0.2, random_state=42)"
      ],
      "metadata": {
        "id": "3sgknBZ7fP5f"
      },
      "execution_count": 3,
      "outputs": []
    },
    {
      "cell_type": "code",
      "source": [
        "from keras.preprocessing.sequence import pad_sequences\n",
        "\n",
        "train_seq = pad_sequences(train_input, maxlen=100)\n",
        "val_seq = pad_sequences(val_input, maxlen=100)"
      ],
      "metadata": {
        "id": "WI_uiVdieus4"
      },
      "execution_count": 4,
      "outputs": []
    },
    {
      "cell_type": "code",
      "source": [
        "train_seq.shape, train_target.shape"
      ],
      "metadata": {
        "id": "P3AOwGtVjmvL",
        "outputId": "60038f13-e7a3-4256-fe5d-fce41cf3b84a",
        "colab": {
          "base_uri": "https://localhost:8080/"
        }
      },
      "execution_count": 5,
      "outputs": [
        {
          "output_type": "execute_result",
          "data": {
            "text/plain": [
              "((20000, 100), (20000,))"
            ]
          },
          "metadata": {},
          "execution_count": 5
        }
      ]
    },
    {
      "cell_type": "code",
      "source": [
        "from torch.utils.data import TensorDataset, DataLoader\n",
        "\n",
        "train_dataset = TensorDataset(torch.tensor(train_seq),\n",
        "                              torch.tensor(train_target, dtype=torch.float32))\n",
        "val_dataset = TensorDataset(torch.tensor(val_seq),\n",
        "                            torch.tensor(val_target, dtype=torch.float32))\n",
        "\n",
        "train_loader = DataLoader(train_dataset, batch_size=64, shuffle=True)\n",
        "val_loader = DataLoader(val_dataset, batch_size=64, shuffle=False)"
      ],
      "metadata": {
        "id": "nV-ZyXwKfA8j"
      },
      "execution_count": 6,
      "outputs": []
    },
    {
      "cell_type": "code",
      "source": [
        "import torch.nn as nn\n",
        "\n",
        "class IMDBRnn(nn.Module):\n",
        "    def __init__(self):\n",
        "        super().__init__()\n",
        "        self.embedding = nn.Embedding(200, 16)\n",
        "        self.rnn = nn.RNN(16, 8, batch_first=True)\n",
        "        self.dense = nn.Linear(8, 1)\n",
        "    def forward(self, x):\n",
        "        x = self.embedding(x)\n",
        "        _, hidden = self.rnn(x)\n",
        "        outputs = self.dense(hidden[-1,:,:])\n",
        "        return outputs\n",
        "\n",
        "model = IMDBRnn()"
      ],
      "metadata": {
        "id": "HWot19ZojiAV"
      },
      "execution_count": 7,
      "outputs": []
    },
    {
      "cell_type": "code",
      "source": [
        "import torch\n",
        "\n",
        "device = torch.device(\"cuda\" if torch.cuda.is_available() else \"cpu\")\n",
        "model.to(device)"
      ],
      "metadata": {
        "id": "UWZxwr8pkyJg",
        "outputId": "8a163f95-7338-44af-e50d-09bf1b7d3f3a",
        "colab": {
          "base_uri": "https://localhost:8080/"
        }
      },
      "execution_count": 8,
      "outputs": [
        {
          "output_type": "execute_result",
          "data": {
            "text/plain": [
              "IMDBRnn(\n",
              "  (embedding): Embedding(200, 16)\n",
              "  (rnn): RNN(16, 8, batch_first=True)\n",
              "  (dense): Linear(in_features=8, out_features=1, bias=True)\n",
              ")"
            ]
          },
          "metadata": {},
          "execution_count": 8
        }
      ]
    },
    {
      "cell_type": "code",
      "source": [
        "import torch.optim as optim\n",
        "\n",
        "criterion = nn.BCEWithLogitsLoss()\n",
        "optimizer = optim.Adam(model.parameters(), lr=1e-4)"
      ],
      "metadata": {
        "id": "GeWYdsZJk8kt"
      },
      "execution_count": 9,
      "outputs": []
    },
    {
      "cell_type": "code",
      "source": [
        "train_hist = []\n",
        "val_hist = []\n",
        "patience = 2\n",
        "best_loss = -1\n",
        "early_stopping_counter = 0\n",
        "\n",
        "epochs = 100\n",
        "for epoch in range(epochs):\n",
        "    model.train()\n",
        "    train_loss = 0\n",
        "    for inputs, targets in train_loader:\n",
        "        inputs, targets = inputs.to(device), targets.to(device)\n",
        "        optimizer.zero_grad()\n",
        "        outputs = model(inputs)\n",
        "        loss = criterion(outputs.squeeze(), targets)\n",
        "        loss.backward()\n",
        "        optimizer.step()\n",
        "        train_loss += loss.item()\n",
        "\n",
        "    model.eval()\n",
        "    val_loss = 0\n",
        "    with torch.no_grad():\n",
        "        for inputs, targets in val_loader:\n",
        "            inputs, targets = inputs.to(device), targets.to(device)\n",
        "            outputs = model(inputs)\n",
        "            loss = criterion(outputs.squeeze(), targets)\n",
        "            val_loss += loss.item()\n",
        "\n",
        "    train_loss = train_loss/len(train_loader)\n",
        "    val_loss = val_loss/len(val_loader)\n",
        "    train_hist.append(train_loss)\n",
        "    val_hist.append(val_loss)\n",
        "    print(f\"에포크:{epoch+1},\",\n",
        "          f\"훈련 손실:{train_loss:.4f}, 검증 손실:{val_loss:.4f}\")\n",
        "\n",
        "    if best_loss == -1 or val_loss < best_loss:\n",
        "        best_loss = val_loss\n",
        "        early_stopping_counter = 0\n",
        "        torch.save(model.state_dict(), 'best_rnn_model.pt')\n",
        "    else:\n",
        "        early_stopping_counter += 1\n",
        "        if early_stopping_counter >= patience:\n",
        "            print(f\"{epoch+1}번째 에포크에서 조기 종료되었습니다.\")\n",
        "            break"
      ],
      "metadata": {
        "id": "5U2NaZvQk-LJ",
        "outputId": "2c5ceaa5-8756-4a6b-9fc7-3a1cdc3f5a3d",
        "colab": {
          "base_uri": "https://localhost:8080/"
        }
      },
      "execution_count": 10,
      "outputs": [
        {
          "output_type": "stream",
          "name": "stdout",
          "text": [
            "에포크:1, 훈련 손실:0.7435, 검증 손실:0.7243\n",
            "에포크:2, 훈련 손실:0.7068, 검증 손실:0.7015\n",
            "에포크:3, 훈련 손실:0.6980, 검증 손실:0.6961\n",
            "에포크:4, 훈련 손실:0.6957, 검증 손실:0.6942\n",
            "에포크:5, 훈련 손실:0.6945, 검증 손실:0.6930\n",
            "에포크:6, 훈련 손실:0.6935, 검증 손실:0.6923\n",
            "에포크:7, 훈련 손실:0.6926, 검증 손실:0.6915\n",
            "에포크:8, 훈련 손실:0.6918, 검증 손실:0.6909\n",
            "에포크:9, 훈련 손실:0.6911, 검증 손실:0.6903\n",
            "에포크:10, 훈련 손실:0.6906, 검증 손실:0.6899\n",
            "에포크:11, 훈련 손실:0.6900, 검증 손실:0.6898\n",
            "에포크:12, 훈련 손실:0.6896, 검증 손실:0.6893\n",
            "에포크:13, 훈련 손실:0.6891, 검증 손실:0.6891\n",
            "에포크:14, 훈련 손실:0.6887, 검증 손실:0.6887\n",
            "에포크:15, 훈련 손실:0.6883, 검증 손실:0.6885\n",
            "에포크:16, 훈련 손실:0.6879, 검증 손실:0.6882\n",
            "에포크:17, 훈련 손실:0.6876, 검증 손실:0.6878\n",
            "에포크:18, 훈련 손실:0.6872, 검증 손실:0.6876\n",
            "에포크:19, 훈련 손실:0.6869, 검증 손실:0.6875\n",
            "에포크:20, 훈련 손실:0.6866, 검증 손실:0.6872\n",
            "에포크:21, 훈련 손실:0.6862, 검증 손실:0.6871\n",
            "에포크:22, 훈련 손실:0.6859, 검증 손실:0.6868\n",
            "에포크:23, 훈련 손실:0.6857, 검증 손실:0.6866\n",
            "에포크:24, 훈련 손실:0.6853, 검증 손실:0.6861\n",
            "에포크:25, 훈련 손실:0.6851, 검증 손실:0.6859\n",
            "에포크:26, 훈련 손실:0.6848, 검증 손실:0.6856\n",
            "에포크:27, 훈련 손실:0.6844, 검증 손실:0.6854\n",
            "에포크:28, 훈련 손실:0.6840, 검증 손실:0.6852\n",
            "에포크:29, 훈련 손실:0.6837, 검증 손실:0.6849\n",
            "에포크:30, 훈련 손실:0.6834, 검증 손실:0.6850\n",
            "에포크:31, 훈련 손실:0.6831, 검증 손실:0.6846\n",
            "에포크:32, 훈련 손실:0.6828, 검증 손실:0.6842\n",
            "에포크:33, 훈련 손실:0.6824, 검증 손실:0.6839\n",
            "에포크:34, 훈련 손실:0.6820, 검증 손실:0.6836\n",
            "에포크:35, 훈련 손실:0.6817, 검증 손실:0.6833\n",
            "에포크:36, 훈련 손실:0.6812, 검증 손실:0.6829\n",
            "에포크:37, 훈련 손실:0.6809, 검증 손실:0.6824\n",
            "에포크:38, 훈련 손실:0.6803, 검증 손실:0.6821\n",
            "에포크:39, 훈련 손실:0.6799, 검증 손실:0.6819\n",
            "에포크:40, 훈련 손실:0.6794, 검증 손실:0.6813\n",
            "에포크:41, 훈련 손실:0.6789, 검증 손실:0.6807\n",
            "에포크:42, 훈련 손실:0.6782, 검증 손실:0.6802\n",
            "에포크:43, 훈련 손실:0.6776, 검증 손실:0.6798\n",
            "에포크:44, 훈련 손실:0.6768, 검증 손실:0.6787\n",
            "에포크:45, 훈련 손실:0.6760, 검증 손실:0.6778\n",
            "에포크:46, 훈련 손실:0.6750, 검증 손실:0.6763\n",
            "에포크:47, 훈련 손실:0.6738, 검증 손실:0.6759\n",
            "에포크:48, 훈련 손실:0.6722, 검증 손실:0.6733\n",
            "에포크:49, 훈련 손실:0.6704, 검증 손실:0.6722\n",
            "에포크:50, 훈련 손실:0.6683, 검증 손실:0.6683\n",
            "에포크:51, 훈련 손실:0.6662, 검증 손실:0.6660\n",
            "에포크:52, 훈련 손실:0.6634, 검증 손실:0.6629\n",
            "에포크:53, 훈련 손실:0.6607, 검증 손실:0.6609\n",
            "에포크:54, 훈련 손실:0.6579, 검증 손실:0.6581\n",
            "에포크:55, 훈련 손실:0.6546, 검증 손실:0.6564\n",
            "에포크:56, 훈련 손실:0.6530, 검증 손실:0.6573\n",
            "에포크:57, 훈련 손실:0.6518, 검증 손실:0.6551\n",
            "에포크:58, 훈련 손실:0.6511, 검증 손실:0.6542\n",
            "에포크:59, 훈련 손실:0.6493, 검증 손실:0.6524\n",
            "에포크:60, 훈련 손실:0.6487, 검증 손실:0.6519\n",
            "에포크:61, 훈련 손실:0.6477, 검증 손실:0.6512\n",
            "에포크:62, 훈련 손실:0.6462, 검증 손실:0.6507\n",
            "에포크:63, 훈련 손실:0.6458, 검증 손실:0.6521\n",
            "에포크:64, 훈련 손실:0.6463, 검증 손실:0.6532\n",
            "64번째 에포크에서 조기 종료되었습니다.\n"
          ]
        }
      ]
    },
    {
      "cell_type": "code",
      "source": [
        "import matplotlib.pyplot as plt\n",
        "\n",
        "plt.plot(train_hist, label='train')\n",
        "plt.plot(val_hist, label='val')\n",
        "plt.xlabel('epoch')\n",
        "plt.ylabel('loss')\n",
        "plt.legend()\n",
        "plt.show()"
      ],
      "metadata": {
        "id": "CriEZshflBxj",
        "outputId": "e472b888-bb82-407a-8514-dbad727a557a",
        "colab": {
          "base_uri": "https://localhost:8080/",
          "height": 449
        }
      },
      "execution_count": 11,
      "outputs": [
        {
          "output_type": "display_data",
          "data": {
            "text/plain": [
              "<Figure size 640x480 with 1 Axes>"
            ],
            "image/png": "[encoded data removed]"
          },
          "metadata": {}
        }
      ]
    },
    {
      "cell_type": "code",
      "source": [
        "model.load_state_dict(torch.load('best_rnn_model.pt', weights_only=True))"
      ],
      "metadata": {
        "id": "OjRZkHMXsyob",
        "outputId": "09e49a14-82c4-4de1-ff95-cbedcc4d2213",
        "colab": {
          "base_uri": "https://localhost:8080/"
        }
      },
      "execution_count": 12,
      "outputs": [
        {
          "output_type": "execute_result",
          "data": {
            "text/plain": [
              "<All keys matched successfully>"
            ]
          },
          "metadata": {},
          "execution_count": 12
        }
      ]
    },
    {
      "cell_type": "code",
      "source": [
        "model.eval()\n",
        "corrects = 0\n",
        "with torch.no_grad():\n",
        "    for inputs, targets in val_loader:\n",
        "        inputs, targets = inputs.to(device), targets.to(device)\n",
        "        outputs = model(inputs)\n",
        "        predicts = outputs > 0\n",
        "        corrects += (predicts.squeeze() == targets).sum().item()\n",
        "\n",
        "accuracy = corrects / len(val_dataset)\n",
        "print(f\"검증 정확도: {accuracy:.4f}\")"
      ],
      "metadata": {
        "id": "ZL7hd_U3s0zR",
        "outputId": "1b0e0d27-8ac2-4912-f51c-8f3c6c7efc7b",
        "colab": {
          "base_uri": "https://localhost:8080/"
        }
      },
      "execution_count": 13,
      "outputs": [
        {
          "output_type": "stream",
          "name": "stdout",
          "text": [
            "검증 정확도: 0.6270\n"
          ]
        }
      ]
    }
  ]
}
