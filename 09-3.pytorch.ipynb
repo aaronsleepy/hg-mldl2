{
  "nbformat": 4,
  "nbformat_minor": 0,
  "metadata": {
    "colab": {
      "name": "09-3 LSTM과 GRU 셀 (파이토치)",
      "provenance": [],
      "gpuType": "T4"
    },
    "kernelspec": {
      "name": "python3",
      "display_name": "Python 3"
    },
    "language_info": {
      "name": "python"
    },
    "accelerator": "GPU"
  },
  "cells": [
    {
      "cell_type": "markdown",
      "source": [
        "# 순환 신경망으로 IMDB 리뷰 분류하기 (파이토치)"
      ],
      "metadata": {
        "id": "fvpweBdmFXqG"
      }
    },
    {
      "cell_type": "markdown",
      "source": [
        "<table align=\"left\"><tr><td>\n",
        "<a href=\"https://colab.research.google.com/github/rickiepark/hg-mldl2/blob/main/09-3.pytorch.ipynb\" target=\"_parent\"><img src=\"https://colab.research.google.com/assets/colab-badge.svg\" alt=\"코랩에서 실행하기\"/></a>\n",
        "</td></tr></table>"
      ],
      "metadata": {
        "id": "0E7dkJR8FXi3"
      }
    },
    {
      "cell_type": "code",
      "source": [
        "# 실행마다 동일한 결과를 얻기 위해 파이토치에 랜덤 시드를 지정하고 GPU 연산을 결정적으로 만듭니다.\n",
        "import torch\n",
        "\n",
        "torch.manual_seed(42)\n",
        "if torch.cuda.is_available():\n",
        "    torch.cuda.manual_seed(42)\n",
        "    torch.backends.cudnn.deterministic = True"
      ],
      "metadata": {
        "id": "KIajgl2aEAzX"
      },
      "execution_count": 1,
      "outputs": []
    },
    {
      "cell_type": "code",
      "source": [
        "from keras.datasets import imdb\n",
        "from sklearn.model_selection import train_test_split\n",
        "\n",
        "(train_input, train_target), (test_input, test_target) = imdb.load_data(\n",
        "    num_words=500)\n",
        "train_input, val_input, train_target, val_target = train_test_split(\n",
        "    train_input, train_target, test_size=0.2, random_state=42)"
      ],
      "metadata": {
        "id": "pq5gvh_vfLT_"
      },
      "execution_count": 2,
      "outputs": []
    },
    {
      "cell_type": "code",
      "source": [
        "from keras.preprocessing.sequence import pad_sequences\n",
        "\n",
        "train_seq = pad_sequences(train_input, maxlen=100)\n",
        "val_seq = pad_sequences(val_input, maxlen=100)"
      ],
      "metadata": {
        "id": "WI_uiVdieus4"
      },
      "execution_count": 3,
      "outputs": []
    },
    {
      "cell_type": "code",
      "source": [
        "train_seq = torch.tensor(train_seq)\n",
        "val_seq = torch.tensor(val_seq)\n",
        "train_target = torch.tensor(train_target, dtype=torch.float32)\n",
        "val_target = torch.tensor(val_target, dtype=torch.float32)"
      ],
      "metadata": {
        "id": "4aYLouaakY3i"
      },
      "execution_count": 4,
      "outputs": []
    },
    {
      "cell_type": "code",
      "source": [
        "from torch.utils.data import TensorDataset, DataLoader\n",
        "\n",
        "train_dataset = TensorDataset(train_seq, train_target)\n",
        "val_dataset = TensorDataset(val_seq, val_target)\n",
        "\n",
        "train_loader = DataLoader(train_dataset, batch_size=64, shuffle=True)\n",
        "val_loader = DataLoader(val_dataset, batch_size=64, shuffle=False)"
      ],
      "metadata": {
        "id": "nV-ZyXwKfA8j"
      },
      "execution_count": 5,
      "outputs": []
    },
    {
      "cell_type": "code",
      "source": [
        "import torch.nn as nn\n",
        "\n",
        "class IMDBLstm(nn.Module):\n",
        "    def __init__(self):\n",
        "        super().__init__()\n",
        "        self.embedding = nn.Embedding(500, 16)\n",
        "        self.lstm = nn.LSTM(16, 8, batch_first=True, num_layers=2, dropout=0.2)\n",
        "        self.dense = nn.Linear(8, 1)\n",
        "        self.sigmoid = nn.Sigmoid()\n",
        "    def forward(self, x):\n",
        "        x = self.embedding(x)\n",
        "        _, (hidden, _) = self.lstm(x)\n",
        "        outputs = self.dense(hidden[-1])\n",
        "        return self.sigmoid(outputs)\n",
        "\n",
        "model = IMDBLstm()"
      ],
      "metadata": {
        "id": "HWot19ZojiAV"
      },
      "execution_count": 6,
      "outputs": []
    },
    {
      "cell_type": "code",
      "source": [
        "import torch\n",
        "\n",
        "device = torch.device(\"cuda\" if torch.cuda.is_available() else \"cpu\")\n",
        "model.to(device)"
      ],
      "metadata": {
        "id": "UWZxwr8pkyJg",
        "outputId": "fd9d1e06-a549-42b3-aeef-6f45f0eda4c5",
        "colab": {
          "base_uri": "https://localhost:8080/"
        }
      },
      "execution_count": 7,
      "outputs": [
        {
          "output_type": "execute_result",
          "data": {
            "text/plain": [
              "IMDBLstm(\n",
              "  (embedding): Embedding(500, 16)\n",
              "  (lstm): LSTM(16, 8, num_layers=2, batch_first=True, dropout=0.2)\n",
              "  (dense): Linear(in_features=8, out_features=1, bias=True)\n",
              "  (sigmoid): Sigmoid()\n",
              ")"
            ]
          },
          "metadata": {},
          "execution_count": 7
        }
      ]
    },
    {
      "cell_type": "code",
      "source": [
        "import torch.optim as optim\n",
        "\n",
        "criterion = nn.BCELoss()\n",
        "optimizer = optim.Adam(model.parameters())"
      ],
      "metadata": {
        "id": "GeWYdsZJk8kt"
      },
      "execution_count": 8,
      "outputs": []
    },
    {
      "cell_type": "code",
      "source": [
        "train_hist = []\n",
        "val_hist = []\n",
        "patience = 2\n",
        "best_loss = -1\n",
        "early_stopping_counter = 0\n",
        "\n",
        "epochs = 100\n",
        "for epoch in range(epochs):\n",
        "    model.train()\n",
        "    train_loss = 0\n",
        "    for inputs, targets in train_loader:\n",
        "        inputs, targets = inputs.to(device), targets.to(device)\n",
        "        optimizer.zero_grad()\n",
        "        outputs = model(inputs)\n",
        "        loss = criterion(outputs.squeeze(), targets)\n",
        "        loss.backward()\n",
        "        optimizer.step()\n",
        "        train_loss += loss.item()\n",
        "\n",
        "    model.eval()\n",
        "    val_loss = 0\n",
        "    with torch.no_grad():\n",
        "        for inputs, targets in val_loader:\n",
        "            inputs, targets = inputs.to(device), targets.to(device)\n",
        "            outputs = model(inputs)\n",
        "            loss = criterion(outputs.squeeze(), targets)\n",
        "            val_loss += loss.item()\n",
        "\n",
        "    train_loss = train_loss/len(train_loader)\n",
        "    val_loss = val_loss/len(val_loader)\n",
        "    train_hist.append(train_loss)\n",
        "    val_hist.append(val_loss)\n",
        "    print(f\"에포크:{epoch+1},\",\n",
        "          f\"훈련 손실:{train_loss:.4f}, 검증 손실:{val_loss:.4f}\")\n",
        "\n",
        "    if best_loss == -1 or val_loss < best_loss:\n",
        "        best_loss = val_loss\n",
        "        early_stopping_counter = 0\n",
        "        torch.save(model.state_dict(), 'best_2lstm_model.pt')\n",
        "    else:\n",
        "        early_stopping_counter += 1\n",
        "        if early_stopping_counter >= patience:\n",
        "            print(f\"{epoch+1}번째 에포크에서 조기 종료되었습니다.\")\n",
        "            break"
      ],
      "metadata": {
        "id": "5U2NaZvQk-LJ",
        "outputId": "bd97bb62-6fa3-4e5a-9d00-b7976f8c5b59",
        "colab": {
          "base_uri": "https://localhost:8080/"
        }
      },
      "execution_count": 9,
      "outputs": [
        {
          "output_type": "stream",
          "name": "stdout",
          "text": [
            "에포크:1, 훈련 손실:0.6910, 검증 손실:0.6820\n",
            "에포크:2, 훈련 손실:0.6467, 검증 손실:0.6123\n",
            "에포크:3, 훈련 손실:0.5843, 검증 손실:0.5699\n",
            "에포크:4, 훈련 손실:0.5391, 검증 손실:0.5307\n",
            "에포크:5, 훈련 손실:0.5139, 검증 손실:0.5076\n",
            "에포크:6, 훈련 손실:0.4931, 검증 손실:0.4953\n",
            "에포크:7, 훈련 손실:0.4736, 검증 손실:0.4838\n",
            "에포크:8, 훈련 손실:0.4581, 검증 손실:0.4779\n",
            "에포크:9, 훈련 손실:0.4465, 검증 손실:0.4606\n",
            "에포크:10, 훈련 손실:0.4389, 검증 손실:0.4589\n",
            "에포크:11, 훈련 손실:0.4254, 검증 손실:0.4520\n",
            "에포크:12, 훈련 손실:0.4243, 검증 손실:0.4439\n",
            "에포크:13, 훈련 손실:0.4142, 검증 손실:0.4508\n",
            "에포크:14, 훈련 손실:0.4103, 검증 손실:0.4398\n",
            "에포크:15, 훈련 손실:0.4041, 검증 손실:0.4350\n",
            "에포크:16, 훈련 손실:0.4018, 검증 손실:0.4397\n",
            "에포크:17, 훈련 손실:0.3953, 검증 손실:0.4308\n",
            "에포크:18, 훈련 손실:0.3921, 검증 손실:0.4342\n",
            "에포크:19, 훈련 손실:0.3898, 검증 손실:0.4306\n",
            "에포크:20, 훈련 손실:0.3869, 검증 손실:0.4279\n",
            "에포크:21, 훈련 손실:0.3817, 검증 손실:0.4245\n",
            "에포크:22, 훈련 손실:0.3827, 검증 손실:0.4256\n",
            "에포크:23, 훈련 손실:0.3760, 검증 손실:0.4356\n",
            "23번째 에포크에서 조기 종료되었습니다.\n"
          ]
        }
      ]
    },
    {
      "cell_type": "code",
      "source": [
        "import matplotlib.pyplot as plt\n",
        "\n",
        "plt.plot(train_hist, label='train')\n",
        "plt.plot(val_hist, label='val')\n",
        "plt.xlabel('epoch')\n",
        "plt.ylabel('loss')\n",
        "plt.legend()\n",
        "plt.show()"
      ],
      "metadata": {
        "id": "CriEZshflBxj",
        "outputId": "c176ee0d-67cf-4361-a171-449eb012c0e3",
        "colab": {
          "base_uri": "https://localhost:8080/",
          "height": 449
        }
      },
      "execution_count": 10,
      "outputs": [
        {
          "output_type": "display_data",
          "data": {
            "text/plain": [
              "<Figure size 640x480 with 1 Axes>"
            ],
            "image/png": "[encoded data removed]"
          },
          "metadata": {}
        }
      ]
    },
    {
      "cell_type": "code",
      "source": [
        "model.load_state_dict(torch.load('best_2lstm_model.pt', weights_only=True))"
      ],
      "metadata": {
        "id": "OjRZkHMXsyob",
        "outputId": "f5c49769-bfff-4fa8-b980-fad7a38d34b0",
        "colab": {
          "base_uri": "https://localhost:8080/"
        }
      },
      "execution_count": 11,
      "outputs": [
        {
          "output_type": "execute_result",
          "data": {
            "text/plain": [
              "<All keys matched successfully>"
            ]
          },
          "metadata": {},
          "execution_count": 11
        }
      ]
    },
    {
      "cell_type": "code",
      "source": [
        "model.eval()\n",
        "corrects = 0\n",
        "with torch.no_grad():\n",
        "    for inputs, targets in val_loader:\n",
        "        inputs, targets = inputs.to(device), targets.to(device)\n",
        "        outputs = model(inputs)\n",
        "        predicts = outputs > 0.5\n",
        "        corrects += (predicts.squeeze() == targets).sum().item()\n",
        "\n",
        "accuracy = corrects / len(val_dataset)\n",
        "print(f\"검증 정확도: {accuracy:.4f}\")"
      ],
      "metadata": {
        "id": "ZL7hd_U3s0zR",
        "outputId": "a2a00b54-8aac-41ff-aa9d-fe056a81d8c9",
        "colab": {
          "base_uri": "https://localhost:8080/"
        }
      },
      "execution_count": 12,
      "outputs": [
        {
          "output_type": "stream",
          "name": "stdout",
          "text": [
            "검증 정확도: 0.8014\n"
          ]
        }
      ]
    }
  ]
}