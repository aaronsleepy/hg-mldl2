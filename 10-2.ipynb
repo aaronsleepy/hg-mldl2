{
 "cells": [
  {
   "cell_type": "markdown",
   "metadata": {
    "id": "6ZXH1R2cvVvA"
   },
   "source": [
    "# 트랜스포머로 상품 설명 요약하기"
   ]
  },
  {
   "cell_type": "markdown",
   "metadata": {
    "id": "X8krpgefvZV0"
   },
   "source": [
    "<table align=\"left\"><tr><td>\n",
    "<a href=\"https://colab.research.google.com/github/rickiepark/hg-mldl2/blob/main/10-2.ipynb\" target=\"_parent\"><img src=\"https://colab.research.google.com/assets/colab-badge.svg\" alt=\"코랩에서 실행하기\"/></a>\n",
    "</td></tr></table>"
   ]
  },
  {
   "cell_type": "markdown",
   "metadata": {
    "id": "Tk2hixFRviWm"
   },
   "source": [
    "## 허깅페이스로 KoBART 모델 로드하기"
   ]
  },
  {
   "cell_type": "code",
   "execution_count": 1,
   "metadata": {
    "id": "eAFv31aYKzWb"
   },
   "outputs": [],
   "source": [
    "from transformers import pipeline"
   ]
  },
  {
   "cell_type": "code",
   "execution_count": 2,
   "metadata": {
    "colab": {
     "base_uri": "https://localhost:8080/",
     "height": 286,
     "referenced_widgets": [
      "64eeaabc0a3846449ecd471da2592776",
      "f5e6f2c3e7cc46e8a0a1687354449698",
      "f81db72d68ea46cd9ffff2e8be50c634",
      "07b5cd26bf1741318a9dcd744e96d096",
      "49b59b9419e24d3686b6a8595fa542fd",
      "2cabf26e7c6847c7b49637824092466b",
      "2969eea2a52047518b6f981a75b1b49c",
      "7023aeed55514d6ab35fc65b2e8cccd0",
      "64b1671e588f4eeda5d70487605da437",
      "d03a1b2872744644a73198376da301e6",
      "4546836b95e74d56ad8401faf54202d8",
      "e53405a6c700451da18c03397db6ab69",
      "e7cea31c7ae74ed7a033925078dff662",
      "df59741703504d5ca9848706e240d751",
      "5bf6cafe03cb4cf7b6bc2bd282b22817",
      "060ed3f93fe64034a30751cab7c7726e",
      "3e17ca49b229445ab017433efa614277",
      "741b4dd6db2144128b0e584d342a2878",
      "3b1e81490642446491f28267d6cefe18",
      "d17b25badaba46ceba42d4bb1c3a7849",
      "1b7ed392d3714667a19ed2e90abbd3a8",
      "3bec30368ea04724b2307f7ceade5582",
      "66dbc1613e8545daa42133445d5b95eb",
      "a40d8dd774df45aaac3126577db67aef",
      "6bd8229f904649bc8eef9356e440dbc0",
      "6ac0b138d543432fab96ba9c003c01bc",
      "bf438b3650f04528a3962f7bfcf40067",
      "26768a085fc04d52a74660c22e94a863",
      "15f65cd6db14425c931176a02136ffe1",
      "5bc3ba9754544365b9a88b852d682dc8",
      "ed786ecadfb7480d8af7854ba8b1b614",
      "3462f6e140e8428284f2ee25d7b3f437",
      "18a8cc607d5b47e38afffd49b1c03dc9",
      "505c832a22da4a47a15686fadd08ba13",
      "95d76458c9fe4b1bb5a74cd299672c85",
      "ceac15c7819a4597acc0b311d601c62b",
      "8acebb92286a40c7ae7732965bd8367b",
      "917a3ef69f1a4e3b8779e15a75a4ae2a",
      "0efa86035ec8445fae0eba13f401fc4e",
      "9a93e214703147f3aba3140f48bcd841",
      "1ec093d7a8e84e61a7f3332e0c6f3bf5",
      "4559c67134744158aa0d4a48dd73988c",
      "a3dadce7c917443ab394314c6b204742",
      "a2fc045b225b4a878967e5df3e3277fa",
      "fd83820cd4ab446d815637abb63d3dd3",
      "5ee84c86fe34485aac0a4f441d87218d",
      "08d12cfbb8364c8ba21282cd4c013b32",
      "5f2a69d544c343a19f2f84490d4e2204",
      "f18cbffa0d5b463eae5ea216d2844a2a",
      "40c2bec3f96c47e1b1af3cf4cc478458",
      "e75619b49caf4341879bfef83048ddfa",
      "1e5a69af81014669985283c5b8955647",
      "87cb8c1d6bb0457095074da489285d5e",
      "642db43f6db14e2b9f6068502342f731",
      "aa6dbec88cfb411e84021d7b548f0f3b",
      "90d2459306e2413c99ec0f1654c70e5e",
      "66475477916341febc08e126851c67d2",
      "c096be598b1f4f47bd47e0f5134aa1a9",
      "ed3b08391e304821bf31f778de2195eb",
      "7001069795c4484c8c992e56e20536ae",
      "b2004c98d9724aa1b2f217686787d792",
      "366cbb7d6a374488ad71aeeaedadf7c9",
      "78b0e45928cf46fea4c48208a0b8132e",
      "64d7ed60feb64b8fb52f27330be42a8d",
      "06ad243ff6354fb788701f8b84888f6b",
      "08c2205785914185b28d60d32bda8ddb"
     ]
    },
    "id": "vE-hFksnK_Xk",
    "outputId": "e5d03331-2bf4-46fb-ccd8-a2463ae9178b"
   },
   "outputs": [
    {
     "name": "stderr",
     "output_type": "stream",
     "text": [
      "No model was supplied, defaulted to sshleifer/distilbart-cnn-12-6 and revision a4f8f3e (https://huggingface.co/sshleifer/distilbart-cnn-12-6).\n",
      "Using a pipeline without specifying a model name and revision in production is not recommended.\n"
     ]
    },
    {
     "data": {
      "application/vnd.jupyter.widget-view+json": {
       "model_id": "64eeaabc0a3846449ecd471da2592776",
       "version_major": 2,
       "version_minor": 0
      },
      "text/plain": [
       "config.json:   0%|          | 0.00/1.80k [00:00<?, ?B/s]"
      ]
     },
     "metadata": {},
     "output_type": "display_data"
    },
    {
     "data": {
      "application/vnd.jupyter.widget-view+json": {
       "model_id": "e53405a6c700451da18c03397db6ab69",
       "version_major": 2,
       "version_minor": 0
      },
      "text/plain": [
       "pytorch_model.bin:   0%|          | 0.00/1.22G [00:00<?, ?B/s]"
      ]
     },
     "metadata": {},
     "output_type": "display_data"
    },
    {
     "data": {
      "application/vnd.jupyter.widget-view+json": {
       "model_id": "66dbc1613e8545daa42133445d5b95eb",
       "version_major": 2,
       "version_minor": 0
      },
      "text/plain": [
       "model.safetensors:   0%|          | 0.00/1.22G [00:00<?, ?B/s]"
      ]
     },
     "metadata": {},
     "output_type": "display_data"
    },
    {
     "data": {
      "application/vnd.jupyter.widget-view+json": {
       "model_id": "505c832a22da4a47a15686fadd08ba13",
       "version_major": 2,
       "version_minor": 0
      },
      "text/plain": [
       "tokenizer_config.json:   0%|          | 0.00/26.0 [00:00<?, ?B/s]"
      ]
     },
     "metadata": {},
     "output_type": "display_data"
    },
    {
     "data": {
      "application/vnd.jupyter.widget-view+json": {
       "model_id": "fd83820cd4ab446d815637abb63d3dd3",
       "version_major": 2,
       "version_minor": 0
      },
      "text/plain": [
       "vocab.json:   0%|          | 0.00/899k [00:00<?, ?B/s]"
      ]
     },
     "metadata": {},
     "output_type": "display_data"
    },
    {
     "data": {
      "application/vnd.jupyter.widget-view+json": {
       "model_id": "90d2459306e2413c99ec0f1654c70e5e",
       "version_major": 2,
       "version_minor": 0
      },
      "text/plain": [
       "merges.txt:   0%|          | 0.00/456k [00:00<?, ?B/s]"
      ]
     },
     "metadata": {},
     "output_type": "display_data"
    },
    {
     "name": "stderr",
     "output_type": "stream",
     "text": [
      "Device set to use cuda:0\n"
     ]
    }
   ],
   "source": [
    "pipe = pipeline(task='summarization', device=0)"
   ]
  },
  {
   "cell_type": "code",
   "execution_count": 3,
   "metadata": {
    "colab": {
     "base_uri": "https://localhost:8080/",
     "height": 36
    },
    "id": "AH_FkCr3Laiq",
    "outputId": "67731421-7729-43f7-889b-72f66c3a8183"
   },
   "outputs": [
    {
     "name": "stderr",
     "output_type": "stream",
     "text": [
      "Device set to use cuda:0\n"
     ]
    }
   ],
   "source": [
    "pipe = pipeline(task='summarization',\n",
    "                model='sshleifer/distilbart-cnn-12-6', device=0)"
   ]
  },
  {
   "cell_type": "code",
   "execution_count": 4,
   "metadata": {
    "colab": {
     "base_uri": "https://localhost:8080/",
     "height": 74
    },
    "id": "Qa5fr6ym-ABx",
    "outputId": "7f3badb1-63c8-4c69-b9fd-b8050fce9358"
   },
   "outputs": [
    {
     "data": {
      "text/plain": [
       "[{'summary_text': \" Vincent Willem van Gogh was a Dutch Post-Impressionist painter . His oeuvre includes landscapes, still lifes, portraits and self-portraits . Van Gogh's work was beginning to gain critical attention before he died from a self-inflicted gunshot at age 37 .\"}]"
      ]
     },
     "execution_count": 4,
     "metadata": {},
     "output_type": "execute_result"
    }
   ],
   "source": [
    "sample_text = \"\"\"Vincent Willem van Gogh was a Dutch Post-Impressionist painter who is among the most famous and influential figures in the history of Western art. In just over a decade, he created approximately 2100 artworks, including around 860 oil paintings, most of them in the last two years of his life. His oeuvre includes landscapes, still lifes, portraits, and self-portraits, most of which are characterised by bold colours and dramatic brushwork that contributed to the rise of expressionism in modern art. Van Gogh's work was beginning to gain critical attention before he died from a self-inflicted gunshot at age 37. During his lifetime, only one of Van Gogh's paintings, The Red Vineyard, was sold.\n",
    "\"\"\"\n",
    "pipe(sample_text)"
   ]
  },
  {
   "cell_type": "code",
   "execution_count": 5,
   "metadata": {
    "colab": {
     "base_uri": "https://localhost:8080/",
     "height": 286,
     "referenced_widgets": [
      "7ecd556b7fd840e392a806995fd219fd",
      "729ba96cb33a41969c7fc8a545324623",
      "bd54a535023741868b56438b651ae902",
      "b79ba42c5fc141bda694f1472d16f834",
      "739c40279fbb49269346eb5a6c5e6fb1",
      "1be7bd44ce884a80944e8b436ca5e09d",
      "946492092c1547f1bc7187e21bc87ea1",
      "1d680d2868254be09e1412937aab672f",
      "99c296445caa406a9fe0077d4afa14a8",
      "490c6cad31df42f49fab640776951fb9",
      "cad9c5b51fa74d83afaad8816b89d9c2",
      "e533297b9862453d85b7e0ea73b703f9",
      "b6816c88d4044e62ad3488f31b1ce318",
      "1015000c59004b8788541c3b767b54ee",
      "7cf6163e8b8741048ff687c0b111d341",
      "8934c0ae429041b897fb332c52b05c28",
      "fbb82bc64df542eeac6290f527d82443",
      "8b8cc33d5bfe40a797e2089d0bfb16ec",
      "251afaea0e044836a954ab4f2dda0529",
      "cb3c72dc588649469a2369307081d8de",
      "452445b8ead24e40bf8a6844063ccfd7",
      "3996600bbb0846d8bc4ef871b4a3acd6",
      "10325d84497c4ccd9a99c5f1ef529f7e",
      "87d0815f9803408a9af2dd86582b330b",
      "e3e300ea363c475aa025a23aa5dfe11b",
      "fcedf9a081ad4d79ad2e7082c0616fa8",
      "e998c822731543689182bc3e12db5d06",
      "94cc89f9f54748a388c6d85761350576",
      "57b24a9a9c224adb9374b23f5f525efa",
      "6c718bf02b434a68851e4a2979aaf79c",
      "3375d5ce05fd44cca65953fe97fccd7c",
      "8467e6e974c44cf687ffd98ce159f07c",
      "8c4afbcde0174863983bcc255ea88c1c",
      "bd7e51b9709942d3988c51cf8add37c0",
      "f493cee5f4924c67a5d65d0117a86082",
      "e480e8dc9c884a06af0acf6b1b46dd8a",
      "06e4faf4dcda42589293f01fb3365b98",
      "ce63d35be27e49e3bb66a9698f7a308e",
      "83302e9f27be42a2ae110751c595398d",
      "ded1a68cba0b471ebcfe3af16326aa39",
      "fb00c659373c4f6da23b4253d988123d",
      "037050678fe94dbf927b666f407b3139",
      "a3a515c46c84498ba9749977d46edad0",
      "ec98ee36648b48af92ea8c79b9557b72",
      "75c5144ee46e4b038c69fee59bbb8bc8",
      "6b8e34e527ad4b14963b7f443057beb4",
      "e144e19f790b4e368454da2011f387a9",
      "9d2f00237df34d9c928d226320f427ba",
      "e64e65d782a846fab7ef5aeb712b04bf",
      "b477d5f346ba4017973cea55ca3fa4b8",
      "8e41ad67436e4848906b4bb5f77cfa32",
      "6fe0a44429db49c6aa2bc8a76894f392",
      "9771093139104e1087aa0f549496d45a",
      "746c4e404df64371ab88c29190590f17",
      "d3d4205609a049cebedf745de8500f97",
      "c5589f4f82724d8d973df506e0af3e2f",
      "ab5b71fd513645a096f22765464cfff2",
      "fca6b22292bd4fd7b3d1217ca4457eee",
      "f0d6888af8bd4fdaa8f10aa650f38f9d",
      "de91e0ccaf674d6a85527a7276358568",
      "042d933a8ce74f03b0c8c38c740934d5",
      "c47442ec299a41d990a0e89988254e87",
      "45c90895b0ed4fb8be297f0286da2bb3",
      "822b85c75ce84b1eb71a4d0b58c9f4cd",
      "b4f33bd069e64078b6c448a897505b4f",
      "88393ccc20ce496bb076ca93294b4143"
     ]
    },
    "id": "D3oa2IKm6Ft4",
    "outputId": "d49bb68f-18f2-4fdb-e000-5d4bfc10b407"
   },
   "outputs": [
    {
     "data": {
      "application/vnd.jupyter.widget-view+json": {
       "model_id": "7ecd556b7fd840e392a806995fd219fd",
       "version_major": 2,
       "version_minor": 0
      },
      "text/plain": [
       "config.json:   0%|          | 0.00/1.68k [00:00<?, ?B/s]"
      ]
     },
     "metadata": {},
     "output_type": "display_data"
    },
    {
     "name": "stderr",
     "output_type": "stream",
     "text": [
      "You passed along `num_labels=3` with an incompatible id to label map: {'0': 'NEGATIVE', '1': 'POSITIVE'}. The number of labels will be overwritten to 2.\n",
      "You passed along `num_labels=3` with an incompatible id to label map: {'0': 'NEGATIVE', '1': 'POSITIVE'}. The number of labels will be overwritten to 2.\n"
     ]
    },
    {
     "data": {
      "application/vnd.jupyter.widget-view+json": {
       "model_id": "e533297b9862453d85b7e0ea73b703f9",
       "version_major": 2,
       "version_minor": 0
      },
      "text/plain": [
       "model.safetensors:   0%|          | 0.00/496M [00:00<?, ?B/s]"
      ]
     },
     "metadata": {},
     "output_type": "display_data"
    },
    {
     "data": {
      "application/vnd.jupyter.widget-view+json": {
       "model_id": "10325d84497c4ccd9a99c5f1ef529f7e",
       "version_major": 2,
       "version_minor": 0
      },
      "text/plain": [
       "generation_config.json:   0%|          | 0.00/191 [00:00<?, ?B/s]"
      ]
     },
     "metadata": {},
     "output_type": "display_data"
    },
    {
     "data": {
      "application/vnd.jupyter.widget-view+json": {
       "model_id": "bd7e51b9709942d3988c51cf8add37c0",
       "version_major": 2,
       "version_minor": 0
      },
      "text/plain": [
       "tokenizer_config.json:   0%|          | 0.00/39.5k [00:00<?, ?B/s]"
      ]
     },
     "metadata": {},
     "output_type": "display_data"
    },
    {
     "data": {
      "application/vnd.jupyter.widget-view+json": {
       "model_id": "75c5144ee46e4b038c69fee59bbb8bc8",
       "version_major": 2,
       "version_minor": 0
      },
      "text/plain": [
       "tokenizer.json:   0%|          | 0.00/1.05M [00:00<?, ?B/s]"
      ]
     },
     "metadata": {},
     "output_type": "display_data"
    },
    {
     "data": {
      "application/vnd.jupyter.widget-view+json": {
       "model_id": "c5589f4f82724d8d973df506e0af3e2f",
       "version_major": 2,
       "version_minor": 0
      },
      "text/plain": [
       "special_tokens_map.json:   0%|          | 0.00/692 [00:00<?, ?B/s]"
      ]
     },
     "metadata": {},
     "output_type": "display_data"
    },
    {
     "name": "stderr",
     "output_type": "stream",
     "text": [
      "Device set to use cuda:0\n"
     ]
    }
   ],
   "source": [
    "kobart = pipeline(task='summarization',\n",
    "                  model='EbanLee/kobart-summary-v3', device=0)"
   ]
  },
  {
   "cell_type": "code",
   "execution_count": 6,
   "metadata": {
    "colab": {
     "base_uri": "https://localhost:8080/"
    },
    "id": "7b-6-yfe-8F1",
    "outputId": "a98d4a05-ebb2-43c2-f040-214632f01127"
   },
   "outputs": [
    {
     "data": {
      "text/plain": [
       "[{'summary_text': '이 책은 데이터 분석의 핵심 내용을 7단계에 걸쳐 반복 학습하면서 머릿속에 기억되도록 구성했습니다. 독자 공부할 수 있는 커리큘럼을 그대로 믿고 끝까지 따라가다 보면 데이터 분석 공부가 난생 처음인 입문자도 무리 없이 책을 끝까지 마칠 수 있습니다. 현장감 넘치는 스토리를 통해 데이터를 다루는 방법을 알려 주어 몰입감 있는 학습을 할 수 있도록 구성했습니다. 저자가 질문 하나하나에 직접 답변을 달아 주는 것은 물론, 최신 기술과 정보도 얻을 수 있습니다. 혼공 학습단과 함께하면 마지막까지 포기하지 않고 완주할 수 있을 것입니다. 꼭 기억해야 할 핵심 개념과 용어만 따로 정리한 [용어 노트]를 제공합니다. 새로운 용어를 추가하면서 자신만의 용어 노트를 완성해가는 과정도 재미가 될 것입니다.'}]"
      ]
     },
     "execution_count": 6,
     "metadata": {},
     "output_type": "execute_result"
    }
   ],
   "source": [
    "ko_text = \"\"\"하나, ‘입문자 맞춤형 7단계 구성’을 따라가며 체계적으로 반복하는 탄탄한 학습 설계!\n",
    "이 책은 데이터 분석의 핵심 내용을 7단계에 걸쳐 반복 학습하면서 자연스럽게 머릿속에 기억되도록 구성했습니다. [핵심 키워드]와 [시작하기 전에]에서 각 절의 주제에 대한 대표 개념을 워밍업하고, 이론과 실습을 거쳐 마무리에서는 [핵심 포인트]와 [확인 문제]로 한번에 복습합니다. ‘혼자 공부할 수 있는’ 커리큘럼을 그대로 믿고 끝까지 따라가다 보면 데이터 분석 공부가 난생 처음인 입문자도 무리 없이 책을 끝까지 마칠 수 있습니다!\n",
    "둘, 실제로 일어날 법한 흥미로운 스토리에 담긴 문제를 직접 해결하며 익히는 ‘진짜’ 데이터 분석!\n",
    "현장감 넘치는 스토리를 통해 데이터를 다루는 방법을 알려 주어 ‘파이썬’과 ‘데이터’가 낯설어도 몰입감 있는 학습을 할 수 있도록 구성했습니다. 이 책에서는 API와 웹 스크래핑을 통해 실제 도서관 데이터와 온라인 서점 웹사이트에서 데이터를 가져오는 등 내 주변에 있는 데이터를 직접 수집할 수 있는 방법을 가이드합니다. 또한 판다스, 넘파이, 맷플롯립 등 데이터 분석에 유용한 각종 파이썬 라이브러리를 활용해 보며 코딩 감각을 익히고, 핵심 통계 지식으로 기본기를 탄탄하게 다질 수 있습니다. 마지막에는 분석을 바탕으로 미래를 예측하는 머신러닝까지 맛볼 수 있어 데이터 분석의 처음부터 끝까지 제대로 배울 수 있습니다.\n",
    "셋, ‘혼공’의 힘을 실어줄 동영상 강의와 혼공 학습 사이트 지원!\n",
    "책으로만 학습하기엔 여전히 어려운 입문자를 위해 저자 직강 동영상도 지원합니다. 또한 학습을 하며 궁금한 사항은 언제든지 저자에게 질문할 수 있도록 학습 사이트를 제공합니다. 저자가 질문 하나하나에 직접 답변을 달아 주는 것은 물론, 관련 최신 기술과 정보도 얻을 수 있습니다. 게다가 혼자 공부하고 싶지만 정작 혼자서는 자신 없는 사람들을 위해 혼공 학습단을 운영합니다. 혼공 학습단과 함께하면 마지막까지 포기하지 않고 완주할 수 있을 것입니다.\n",
    "▶ https://hongong.hanbit.co.kr\n",
    "▶ https://github.com/rickiepark/hg-da\n",
    "넷, 언제 어디서든 가볍게 볼 수 있는 혼공 필수 [용어 노트] 제공!\n",
    "꼭 기억해야 할 핵심 개념과 용어만 따로 정리한 [용어 노트]를 제공합니다. 처음 공부하는 사람들이 프로그래밍을 어려워하는 이유는 낯선 용어 때문입니다. 그러나 어려운 것이 아니라 익숙하지 않아서 헷갈리는 것이므로, 용어나 개념이 잘 생각나지 않을 때는 언제든 부담 없이 [용어 노트]를 펼쳐 보세요. 제시된 용어 외에도 새로운 용어를 추가하면서 자신만의 용어 노트를 완성해가는 과정도 또 다른 재미가 될 것입니다.\n",
    "\"\"\"\n",
    "\n",
    "kobart(ko_text)"
   ]
  },
  {
   "cell_type": "code",
   "execution_count": 7,
   "metadata": {
    "colab": {
     "base_uri": "https://localhost:8080/"
    },
    "id": "uFySFNtDCx33",
    "outputId": "66ba09a9-a4d3-4dbf-94fe-dda22c3060bd"
   },
   "outputs": [
    {
     "name": "stdout",
     "output_type": "stream",
     "text": [
      "BartConfig {\n",
      "  \"activation_dropout\": 0.0,\n",
      "  \"activation_function\": \"gelu\",\n",
      "  \"add_bias_logits\": false,\n",
      "  \"add_final_layer_norm\": false,\n",
      "  \"architectures\": [\n",
      "    \"BartForConditionalGeneration\"\n",
      "  ],\n",
      "  \"attention_dropout\": 0.0,\n",
      "  \"author\": \"EbanLee(rudwo6769@gmail.com)\",\n",
      "  \"bos_token_id\": 1,\n",
      "  \"classif_dropout\": 0.1,\n",
      "  \"classifier_dropout\": 0.1,\n",
      "  \"d_model\": 768,\n",
      "  \"decoder_attention_heads\": 16,\n",
      "  \"decoder_ffn_dim\": 3072,\n",
      "  \"decoder_layerdrop\": 0.0,\n",
      "  \"decoder_layers\": 6,\n",
      "  \"decoder_start_token_id\": 1,\n",
      "  \"do_blenderbot_90_layernorm\": false,\n",
      "  \"dropout\": 0.1,\n",
      "  \"encoder_attention_heads\": 16,\n",
      "  \"encoder_ffn_dim\": 3072,\n",
      "  \"encoder_layerdrop\": 0.0,\n",
      "  \"encoder_layers\": 6,\n",
      "  \"eos_token_id\": 1,\n",
      "  \"extra_pos_embeddings\": 2,\n",
      "  \"force_bos_token_to_be_generated\": false,\n",
      "  \"forced_eos_token_id\": 1,\n",
      "  \"gradient_checkpointing\": false,\n",
      "  \"id2label\": {\n",
      "    \"0\": \"NEGATIVE\",\n",
      "    \"1\": \"POSITIVE\"\n",
      "  },\n",
      "  \"init_std\": 0.02,\n",
      "  \"is_encoder_decoder\": true,\n",
      "  \"kobart_version\": 2.0,\n",
      "  \"label2id\": {\n",
      "    \"NEGATIVE\": 0,\n",
      "    \"POSITIVE\": 1\n",
      "  },\n",
      "  \"max_position_embeddings\": 1026,\n",
      "  \"model_type\": \"bart\",\n",
      "  \"normalize_before\": false,\n",
      "  \"normalize_embedding\": true,\n",
      "  \"num_hidden_layers\": 6,\n",
      "  \"pad_token_id\": 3,\n",
      "  \"scale_embedding\": false,\n",
      "  \"static_position_embeddings\": false,\n",
      "  \"task_specific_params\": {\n",
      "    \"summarization\": {\n",
      "      \"length_penalty\": 1.0,\n",
      "      \"max_length\": 300,\n",
      "      \"min_length\": 12,\n",
      "      \"no_repeat_ngram_size\": 15,\n",
      "      \"num_beams\": 6,\n",
      "      \"repetition_penalty\": 1.5\n",
      "    }\n",
      "  },\n",
      "  \"tokenizer_class\": \"PreTrainedTokenizerFast\",\n",
      "  \"torch_dtype\": \"float32\",\n",
      "  \"transformers_version\": \"4.52.4\",\n",
      "  \"use_cache\": true,\n",
      "  \"vocab_size\": 30000\n",
      "}\n",
      "\n"
     ]
    }
   ],
   "source": [
    "print(kobart.model.config)"
   ]
  },
  {
   "cell_type": "code",
   "execution_count": 8,
   "metadata": {
    "colab": {
     "base_uri": "https://localhost:8080/"
    },
    "id": "CoQtzpy48iJg",
    "outputId": "3fb543b5-a1c3-44ff-ae39-a4fb9e9664e3"
   },
   "outputs": [
    {
     "data": {
      "text/plain": [
       "BartForConditionalGeneration(\n",
       "  (model): BartModel(\n",
       "    (shared): BartScaledWordEmbedding(30000, 768, padding_idx=3)\n",
       "    (encoder): BartEncoder(\n",
       "      (embed_tokens): BartScaledWordEmbedding(30000, 768, padding_idx=3)\n",
       "      (embed_positions): BartLearnedPositionalEmbedding(1028, 768)\n",
       "      (layers): ModuleList(\n",
       "        (0-5): 6 x BartEncoderLayer(\n",
       "          (self_attn): BartSdpaAttention(\n",
       "            (k_proj): Linear(in_features=768, out_features=768, bias=True)\n",
       "            (v_proj): Linear(in_features=768, out_features=768, bias=True)\n",
       "            (q_proj): Linear(in_features=768, out_features=768, bias=True)\n",
       "            (out_proj): Linear(in_features=768, out_features=768, bias=True)\n",
       "          )\n",
       "          (self_attn_layer_norm): LayerNorm((768,), eps=1e-05, elementwise_affine=True)\n",
       "          (activation_fn): GELUActivation()\n",
       "          (fc1): Linear(in_features=768, out_features=3072, bias=True)\n",
       "          (fc2): Linear(in_features=3072, out_features=768, bias=True)\n",
       "          (final_layer_norm): LayerNorm((768,), eps=1e-05, elementwise_affine=True)\n",
       "        )\n",
       "      )\n",
       "      (layernorm_embedding): LayerNorm((768,), eps=1e-05, elementwise_affine=True)\n",
       "    )\n",
       "    (decoder): BartDecoder(\n",
       "      (embed_tokens): BartScaledWordEmbedding(30000, 768, padding_idx=3)\n",
       "      (embed_positions): BartLearnedPositionalEmbedding(1028, 768)\n",
       "      (layers): ModuleList(\n",
       "        (0-5): 6 x BartDecoderLayer(\n",
       "          (self_attn): BartSdpaAttention(\n",
       "            (k_proj): Linear(in_features=768, out_features=768, bias=True)\n",
       "            (v_proj): Linear(in_features=768, out_features=768, bias=True)\n",
       "            (q_proj): Linear(in_features=768, out_features=768, bias=True)\n",
       "            (out_proj): Linear(in_features=768, out_features=768, bias=True)\n",
       "          )\n",
       "          (activation_fn): GELUActivation()\n",
       "          (self_attn_layer_norm): LayerNorm((768,), eps=1e-05, elementwise_affine=True)\n",
       "          (encoder_attn): BartSdpaAttention(\n",
       "            (k_proj): Linear(in_features=768, out_features=768, bias=True)\n",
       "            (v_proj): Linear(in_features=768, out_features=768, bias=True)\n",
       "            (q_proj): Linear(in_features=768, out_features=768, bias=True)\n",
       "            (out_proj): Linear(in_features=768, out_features=768, bias=True)\n",
       "          )\n",
       "          (encoder_attn_layer_norm): LayerNorm((768,), eps=1e-05, elementwise_affine=True)\n",
       "          (fc1): Linear(in_features=768, out_features=3072, bias=True)\n",
       "          (fc2): Linear(in_features=3072, out_features=768, bias=True)\n",
       "          (final_layer_norm): LayerNorm((768,), eps=1e-05, elementwise_affine=True)\n",
       "        )\n",
       "      )\n",
       "      (layernorm_embedding): LayerNorm((768,), eps=1e-05, elementwise_affine=True)\n",
       "    )\n",
       "  )\n",
       "  (lm_head): Linear(in_features=768, out_features=30000, bias=False)\n",
       ")"
      ]
     },
     "execution_count": 8,
     "metadata": {},
     "output_type": "execute_result"
    }
   ],
   "source": [
    "kobart.model"
   ]
  },
  {
   "cell_type": "markdown",
   "metadata": {
    "id": "shEy4U1evpXX"
   },
   "source": [
    "## 텍스트 토큰화"
   ]
  },
  {
   "cell_type": "code",
   "execution_count": 9,
   "metadata": {
    "colab": {
     "base_uri": "https://localhost:8080/"
    },
    "id": "IlmqA8PuRnw1",
    "outputId": "8ec5a2a6-b2c8-4130-ff79-b71e1d618c2b"
   },
   "outputs": [
    {
     "name": "stdout",
     "output_type": "stream",
     "text": [
      "30000\n"
     ]
    }
   ],
   "source": [
    "print(kobart.tokenizer.vocab_size)"
   ]
  },
  {
   "cell_type": "code",
   "execution_count": 10,
   "metadata": {
    "colab": {
     "base_uri": "https://localhost:8080/"
    },
    "id": "h8g_bZxyjiyb",
    "outputId": "ed58dd1d-2311-45d5-9b84-9b8042a84247"
   },
   "outputs": [
    {
     "data": {
      "text/plain": [
       "30000"
      ]
     },
     "execution_count": 10,
     "metadata": {},
     "output_type": "execute_result"
    }
   ],
   "source": [
    "len(kobart.tokenizer)"
   ]
  },
  {
   "cell_type": "code",
   "execution_count": 11,
   "metadata": {
    "colab": {
     "base_uri": "https://localhost:8080/"
    },
    "id": "PZHSgSakWLqF",
    "outputId": "12aef7e2-8862-4c88-9f39-af340c6e8949"
   },
   "outputs": [
    {
     "data": {
      "text/plain": [
       "30000"
      ]
     },
     "execution_count": 11,
     "metadata": {},
     "output_type": "execute_result"
    }
   ],
   "source": [
    "vocab = kobart.tokenizer.vocab\n",
    "len(vocab)"
   ]
  },
  {
   "cell_type": "code",
   "execution_count": 12,
   "metadata": {
    "colab": {
     "base_uri": "https://localhost:8080/"
    },
    "id": "TeXEIQRZDje1",
    "outputId": "ffc58144-73c9-40ac-b303-c5e8f27b69fe"
   },
   "outputs": [
    {
     "data": {
      "text/plain": [
       "[('홤', 13721),\n",
       " ('하도록', 15542),\n",
       " ('㴭', 2064),\n",
       " ('细', 6618),\n",
       " ('†', 1549),\n",
       " ('▁건전', 28296),\n",
       " ('ర', 1024),\n",
       " ('迹', 7932),\n",
       " ('▁수업을', 25009),\n",
       " ('촣', 12730)]"
      ]
     },
     "execution_count": 12,
     "metadata": {},
     "output_type": "execute_result"
    }
   ],
   "source": [
    "list(vocab.items())[:10]"
   ]
  },
  {
   "cell_type": "code",
   "execution_count": 13,
   "metadata": {
    "colab": {
     "base_uri": "https://localhost:8080/"
    },
    "id": "T9XZ22cMjrGn",
    "outputId": "103de437-a94e-4a52-bade-0173a33ca1d0"
   },
   "outputs": [
    {
     "name": "stdout",
     "output_type": "stream",
     "text": [
      "['▁혼자', '▁만들', '면서', '▁배우는', '▁', '딥', '러', '닝']\n"
     ]
    }
   ],
   "source": [
    "tokens = kobart.tokenizer.tokenize('혼자 만들면서 배우는 딥러닝')\n",
    "print(tokens)"
   ]
  },
  {
   "cell_type": "code",
   "execution_count": 14,
   "metadata": {
    "colab": {
     "base_uri": "https://localhost:8080/"
    },
    "id": "KUqqzSV40hvV",
    "outputId": "08544c14-52c8-4909-dee2-90a625adffd2"
   },
   "outputs": [
    {
     "data": {
      "text/plain": [
       "[16814, 14397, 14125, 25429, 1700, 10021, 10277, 9747]"
      ]
     },
     "execution_count": 14,
     "metadata": {},
     "output_type": "execute_result"
    }
   ],
   "source": [
    "kobart.tokenizer.convert_tokens_to_ids(tokens)"
   ]
  },
  {
   "cell_type": "code",
   "execution_count": 15,
   "metadata": {
    "colab": {
     "base_uri": "https://localhost:8080/"
    },
    "id": "EExBZz6ZKa9p",
    "outputId": "a8f9ee37-429d-4f51-d862-b804861e9de0"
   },
   "outputs": [
    {
     "name": "stdout",
     "output_type": "stream",
     "text": [
      "[0, 16814, 14397, 14125, 25429, 1700, 10021, 10277, 9747, 1]\n"
     ]
    }
   ],
   "source": [
    "token_ids = kobart.tokenizer.encode('혼자 만들면서 배우는 딥러닝')\n",
    "print(token_ids)"
   ]
  },
  {
   "cell_type": "code",
   "execution_count": 16,
   "metadata": {
    "colab": {
     "base_uri": "https://localhost:8080/"
    },
    "id": "4UWTmzS8UMMU",
    "outputId": "4aa9ba66-839e-4970-8906-21fbe55d8e48"
   },
   "outputs": [
    {
     "name": "stdout",
     "output_type": "stream",
     "text": [
      "['<s>', '▁혼자', '▁만들', '면서', '▁배우는', '▁', '딥', '러', '닝', '</s>']\n"
     ]
    }
   ],
   "source": [
    "tokens = kobart.tokenizer.convert_ids_to_tokens(token_ids)\n",
    "print(tokens)"
   ]
  },
  {
   "cell_type": "code",
   "execution_count": 17,
   "metadata": {
    "colab": {
     "base_uri": "https://localhost:8080/",
     "height": 36
    },
    "id": "3cLzerdft7ql",
    "outputId": "e136b8f4-f040-420c-d5bb-ff9b2b449125"
   },
   "outputs": [
    {
     "data": {
      "application/vnd.google.colaboratory.intrinsic+json": {
       "type": "string"
      },
      "text/plain": [
       "'<s> 혼자 만들면서 배우는 딥러닝</s>'"
      ]
     },
     "execution_count": 17,
     "metadata": {},
     "output_type": "execute_result"
    }
   ],
   "source": [
    "kobart.tokenizer.decode(token_ids)"
   ]
  }
 ],
 "metadata": {
  "accelerator": "GPU",
  "colab": {
   "gpuType": "T4",
   "provenance": []
  },
  "kernelspec": {
   "display_name": "Python 3 (ipykernel)",
   "language": "python",
   "name": "python3"
  },
  "language_info": {
   "codemirror_mode": {
    "name": "ipython",
    "version": 3
   },
   "file_extension": ".py",
   "mimetype": "text/x-python",
   "name": "python",
   "nbconvert_exporter": "python",
   "pygments_lexer": "ipython3",
   "version": "3.8.18"
  }
 },
 "nbformat": 4,
 "nbformat_minor": 1
}
