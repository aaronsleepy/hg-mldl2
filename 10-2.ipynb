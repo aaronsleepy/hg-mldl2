{
 "cells": [
  {
   "cell_type": "markdown",
   "metadata": {
    "id": "6ZXH1R2cvVvA"
   },
   "source": [
    "# 트랜스포머로 상품 설명 요약하기"
   ]
  },
  {
   "cell_type": "markdown",
   "metadata": {
    "id": "X8krpgefvZV0"
   },
   "source": [
    "<table align=\"left\">\n",
    "  <td>\n",
    "    <a target=\"_blank\" href=\"https://colab.research.google.com/github/rickiepark/hg-mldl2/blob/master/10-2.ipynb\"><img src=\"https://www.tensorflow.org/images/colab_logo_32px.png\" />구글 코랩에서 실행하기</a>\n",
    "  </td>\n",
    "</table>"
   ]
  },
  {
   "cell_type": "markdown",
   "metadata": {
    "id": "Tk2hixFRviWm"
   },
   "source": [
    "## 허깅페이스로 KoBART 모델 로드하기"
   ]
  },
  {
   "cell_type": "code",
   "execution_count": null,
   "metadata": {
    "id": "eAFv31aYKzWb"
   },
   "outputs": [],
   "source": [
    "from transformers import pipeline"
   ]
  },
  {
   "cell_type": "code",
   "execution_count": null,
   "metadata": {
    "colab": {
     "base_uri": "https://localhost:8080/",
     "height": 265,
     "referenced_widgets": [
      "3d4562171bbd41e28d42a87efae6d7df",
      "d816828b466341eb941d9de66101475a",
      "5d63d941cae04df2bf1fff03bde06964",
      "61acd01e00374b02909a640ee1f9437f",
      "b3e217a86ad64cf1a0b104cc4e28f796",
      "2ff43d2498d54b94b03f768aae5d2381",
      "f4ed43ee67b148ffaa4ddb1fbbd5b4a2",
      "72653208f7504ed4974b9f28cb836e01",
      "119755d7f22045b8892e2aec51616b39",
      "23056e5608b34b97b5b21e3c249e3108",
      "56e6cdebeed74e1fabc53093183214aa",
      "ced7cf6738db4edd8985a26fdcd1ccc3",
      "e1a43aed190f4be79d3db280d8fe1e6f",
      "8ac904045a4b43b89cb29ed8bebc960e",
      "c6edf5bb84b9436c9cdab9a7adecd97f",
      "cde2fd55cdfb4a34863c38a65585ef43",
      "cbbfa99671264957b388adf71e7d8123",
      "3a1086fe15ed4f6c94a1e1723e2c1125",
      "64eac6046e304c2cbc771892625b7ffe",
      "fdcdec10ccd94c49b5880be3cfe01d55",
      "d76d32c8289644e482fbe80c0280931f",
      "54408014c00249b0a99e7ad16c7aa8fa",
      "2e0f2980a9a44ee49a2df914b228db2e",
      "8e4302661d3f477b90e9c25e1afd32f1",
      "54b87d1452c54faaa1712ad6764dd4c7",
      "cf79de88d2694cfda0a03a4d017c2438",
      "027c6e91d27949868592bec2a3ccca27",
      "f7d8ba1a48a741048fda91fde0117d92",
      "8b81bdb9d7704cfea444adfb3abecee7",
      "043ddeb9b0c447a0ab93a71b8f17e6f8",
      "c16f612a445e41e88e16bc35f197051b",
      "1a3d8a8bc8784949921399e043fc182d",
      "ddc1fbccad314f9c9a11152793f28bcb",
      "c67eca6f689f4c2684faf1bc2241799b",
      "0b2c9aa2d9b94b74839c531cbea17d38",
      "a0e042ee72dc4a04882db13d78cb6ae5",
      "51d5d9dba8864eba8214e89b0a5b739e",
      "6b755b4808e44d40abfa03db279f097b",
      "af0798374193498eb384349027db8065",
      "681a75210fcf42afb23839a971072c7a",
      "542146d30e53470db883f6de9c54d1cb",
      "891fa8ac9e2b4500866e4d39a7cc0abe",
      "b7f412262453478994ba8d9f9e43965b",
      "8065e6cc1afe4068943a777a1ae316be",
      "d66bbb9ae1f64c3fb55513e4d64eaeac",
      "b97b7b733c7847d684b55d65040ba971",
      "5b277dbc0e03467783b178aba5903c20",
      "f2a0e5b0b32643d38d324108bc6b200d",
      "12fd9c67b17042a986eb37d402955235",
      "18e13e263b9b4b64a560fbc69ae41d60",
      "c25e59534d574064a2cc9832d8e63966",
      "2969c690f7444e9c9b9780db6c897544",
      "f681325dcbb34ecaa1c855865f168860",
      "e652e094b076433bbdcc5f5c510a1298",
      "4120c5e262a6484898f879a14aa958d7",
      "7774d328e5404f9bb6406186a1beb722",
      "f3f22f729f074a33976a0fbeab316b00",
      "5cfe0d344ae149838499ef61a217db55",
      "9eecbb7d849c48ce942ed39c2fa835ee",
      "dede5f28c7df41e7bf58fe24d91b0f92",
      "e4eb73cbf56b46bfbb8188df98fc1d3c",
      "7984143be6a84473abe81328179588c4",
      "6550d07e6880492c82221735b3e6e158",
      "3c67fa53ece342ed87be312adf1cb115",
      "91ad790b5e2c4925921fa65d76334df0",
      "3bd651b02fa74126acbe2abe445421ec"
     ]
    },
    "id": "vE-hFksnK_Xk",
    "outputId": "0fc52f43-10a3-4a55-acea-a12c2e61015c"
   },
   "outputs": [
    {
     "name": "stderr",
     "output_type": "stream",
     "text": [
      "No model was supplied, defaulted to sshleifer/distilbart-cnn-12-6 and revision a4f8f3e (https://huggingface.co/sshleifer/distilbart-cnn-12-6).\n",
      "Using a pipeline without specifying a model name and revision in production is not recommended.\n"
     ]
    },
    {
     "data": {
      "application/vnd.jupyter.widget-view+json": {
       "model_id": "3d4562171bbd41e28d42a87efae6d7df",
       "version_major": 2,
       "version_minor": 0
      },
      "text/plain": [
       "config.json:   0%|          | 0.00/1.80k [00:00<?, ?B/s]"
      ]
     },
     "metadata": {},
     "output_type": "display_data"
    },
    {
     "data": {
      "application/vnd.jupyter.widget-view+json": {
       "model_id": "ced7cf6738db4edd8985a26fdcd1ccc3",
       "version_major": 2,
       "version_minor": 0
      },
      "text/plain": [
       "pytorch_model.bin:   0%|          | 0.00/1.22G [00:00<?, ?B/s]"
      ]
     },
     "metadata": {},
     "output_type": "display_data"
    },
    {
     "data": {
      "application/vnd.jupyter.widget-view+json": {
       "model_id": "2e0f2980a9a44ee49a2df914b228db2e",
       "version_major": 2,
       "version_minor": 0
      },
      "text/plain": [
       "tokenizer_config.json:   0%|          | 0.00/26.0 [00:00<?, ?B/s]"
      ]
     },
     "metadata": {},
     "output_type": "display_data"
    },
    {
     "data": {
      "application/vnd.jupyter.widget-view+json": {
       "model_id": "c67eca6f689f4c2684faf1bc2241799b",
       "version_major": 2,
       "version_minor": 0
      },
      "text/plain": [
       "vocab.json:   0%|          | 0.00/899k [00:00<?, ?B/s]"
      ]
     },
     "metadata": {},
     "output_type": "display_data"
    },
    {
     "data": {
      "application/vnd.jupyter.widget-view+json": {
       "model_id": "d66bbb9ae1f64c3fb55513e4d64eaeac",
       "version_major": 2,
       "version_minor": 0
      },
      "text/plain": [
       "merges.txt:   0%|          | 0.00/456k [00:00<?, ?B/s]"
      ]
     },
     "metadata": {},
     "output_type": "display_data"
    },
    {
     "data": {
      "application/vnd.jupyter.widget-view+json": {
       "model_id": "7774d328e5404f9bb6406186a1beb722",
       "version_major": 2,
       "version_minor": 0
      },
      "text/plain": [
       "model.safetensors:   0%|          | 0.00/1.22G [00:00<?, ?B/s]"
      ]
     },
     "metadata": {},
     "output_type": "display_data"
    }
   ],
   "source": [
    "pipe = pipeline(task='summarization', device=0)"
   ]
  },
  {
   "cell_type": "code",
   "execution_count": null,
   "metadata": {
    "id": "AH_FkCr3Laiq"
   },
   "outputs": [],
   "source": [
    "pipe = pipeline(task='summarization',\n",
    "                model='sshleifer/distilbart-cnn-12-6', device=0)"
   ]
  },
  {
   "cell_type": "code",
   "execution_count": null,
   "metadata": {
    "colab": {
     "base_uri": "https://localhost:8080/",
     "height": 72
    },
    "id": "Qa5fr6ym-ABx",
    "outputId": "c2c7b8b1-1bda-4739-9b55-2fe586a3215c"
   },
   "outputs": [
    {
     "data": {
      "text/plain": [
       "[{'summary_text': \" Vincent Willem van Gogh was a Dutch Post-Impressionist painter . His oeuvre includes landscapes, still lifes, portraits and self-portraits . Van Gogh's work was beginning to gain critical attention before he died from a self-inflicted gunshot at age 37 .\"}]"
      ]
     },
     "execution_count": 4,
     "metadata": {},
     "output_type": "execute_result"
    }
   ],
   "source": [
    "sample_text = \"\"\"Vincent Willem van Gogh was a Dutch Post-Impressionist painter who is among the most famous and influential figures in the history of Western art. In just over a decade, he created approximately 2100 artworks, including around 860 oil paintings, most of them in the last two years of his life. His oeuvre includes landscapes, still lifes, portraits, and self-portraits, most of which are characterised by bold colours and dramatic brushwork that contributed to the rise of expressionism in modern art. Van Gogh's work was beginning to gain critical attention before he died from a self-inflicted gunshot at age 37. During his lifetime, only one of Van Gogh's paintings, The Red Vineyard, was sold.\n",
    "\"\"\"\n",
    "pipe(sample_text)"
   ]
  },
  {
   "cell_type": "code",
   "execution_count": null,
   "metadata": {
    "colab": {
     "base_uri": "https://localhost:8080/",
     "height": 265,
     "referenced_widgets": [
      "008ea755353541a6b972e8d83a8068b9",
      "4510ee88842a46ae82582279f5643aaa",
      "2bec020e341a424ea3298dc8b9a56880",
      "bbf67707d55645559be7f1dcc39c43ec",
      "e62e70d603244b45b037d4e10a5bb8e8",
      "a18f77db7e53446b91b1c015ba933154",
      "7807879bf3304102a3ebf3e5b6220c99",
      "91ff003a909e492dbf7d2e7ec8946aff",
      "1efbdec00b6342769314649ee1c6763d",
      "9fc695a403b74ad6b72473c27edfa106",
      "af78a6bdb2b543e49c5ee36facb53ca0",
      "b9696cca11674d99ac82342a37570950",
      "0c95d1418ccc4f108c1ff4749eca6d21",
      "c559efd74d8442439640baf1b4845394",
      "0bd5c0c05a6b4de3954d4085a9edd2e7",
      "5f3bc07448d2440aa993d5e0bd3dfb00",
      "09173c95f6f94206821366b0469b42bb",
      "8f655198b14240f38f662432c9eaad33",
      "09d2ee0f032242edbc50c209bd2e9633",
      "d85df1d21f7f414d97947a8cadec291a",
      "e387335aa5e749c8becadb41630869f1",
      "e5b7b1bf1fa14f0b98a867e5cc767abc",
      "f5d26e4749d845aa8dc9142be0f3deb4",
      "216495c2e8f74996a271bcfd12e88964",
      "5e0c5e892ff04b7ab9acc790639ad39f",
      "d5a507d2089f4e4e8839993d40416f89",
      "d07d1f08dc254ccc83a46e152c482837",
      "3f8299bb92f5414f970082a3a7aec94a",
      "9b4d6d1e54db4884af3c3ffd21eabea3",
      "428f956e4adf4a1a951fdf44db5ae4d9",
      "c85b81292e544c109ea7aba3d269feca",
      "7722539a9fb0426391fda9f1b8579431",
      "3b161e902cd04256ad5b424002d3510d",
      "07ff20919fca418c8942a7b1005071a7",
      "8f70d3eb61d349cfa4ae85acbc4abdea",
      "361a9edea5da43fb9939d4ea699e86b8",
      "aafd23f362cb413d9630104fa38cc6db",
      "7c918704573e49ea838729335a157aff",
      "ad750450dc2b4999aaaf7c5695c0d262",
      "a96ce3c87ee544cc953d9155fec8e278",
      "1e5c7716030742de8536a37c07d931df",
      "3e9ea43c3d494e3a97ea8cdfe49ec914",
      "6650f23d75a54d529a46472a444bc932",
      "76f3701718fd40d8896651f37a7fc685",
      "3712ae6f0bb1435da4a6803c4bfa49b5",
      "451496ae5fa74f4fa2f465b0ace05840",
      "51507ecd4c344b6793ead3521bf66f8d",
      "f602855b7d4c45e48bfb1e697412d403",
      "2703efc6497c4a05abeadecf3690eaf5",
      "62e405c337524388b28d9f76e7076047",
      "859b953df1954997b4ca864fbb8cd341",
      "62383888c4ec466490c529651851d823",
      "a33691e7ab3c4ef0b46108d9ca41bb7d",
      "542aa42c3f674207aee6fdd055cfc8ac",
      "a34a7e81d4d249088a2d6d2962fd0d5b",
      "9eb7602fcbda427caf3cad078a1be584",
      "d95f668f4d1e4c20ab6fc858d66c1e20",
      "541634546d50413caa94ef327c446853",
      "31248f4729984e3dad797afd1a7c4c83",
      "d786df005a254244af72cb5147f125b2",
      "088f4418ff634507bd5099c012bda4fe",
      "f563b7710c8747d391fe42afeef3bf5d",
      "6994e499a7674ee99d393c136e2ffb29",
      "296114908b17460b8da6196eb0467fbd",
      "151fade5486144d3a2f69eea5e4bcf99",
      "44e0b332b2934cbfa63f87bcd1f28fd9"
     ]
    },
    "id": "D3oa2IKm6Ft4",
    "outputId": "166947ce-ee83-42a4-a171-bc6a225c7650"
   },
   "outputs": [
    {
     "data": {
      "application/vnd.jupyter.widget-view+json": {
       "model_id": "008ea755353541a6b972e8d83a8068b9",
       "version_major": 2,
       "version_minor": 0
      },
      "text/plain": [
       "config.json:   0%|          | 0.00/1.68k [00:00<?, ?B/s]"
      ]
     },
     "metadata": {},
     "output_type": "display_data"
    },
    {
     "name": "stderr",
     "output_type": "stream",
     "text": [
      "You passed along `num_labels=3` with an incompatible id to label map: {'0': 'NEGATIVE', '1': 'POSITIVE'}. The number of labels wil be overwritten to 2.\n",
      "You passed along `num_labels=3` with an incompatible id to label map: {'0': 'NEGATIVE', '1': 'POSITIVE'}. The number of labels wil be overwritten to 2.\n"
     ]
    },
    {
     "data": {
      "application/vnd.jupyter.widget-view+json": {
       "model_id": "b9696cca11674d99ac82342a37570950",
       "version_major": 2,
       "version_minor": 0
      },
      "text/plain": [
       "model.safetensors:   0%|          | 0.00/496M [00:00<?, ?B/s]"
      ]
     },
     "metadata": {},
     "output_type": "display_data"
    },
    {
     "data": {
      "application/vnd.jupyter.widget-view+json": {
       "model_id": "f5d26e4749d845aa8dc9142be0f3deb4",
       "version_major": 2,
       "version_minor": 0
      },
      "text/plain": [
       "generation_config.json:   0%|          | 0.00/191 [00:00<?, ?B/s]"
      ]
     },
     "metadata": {},
     "output_type": "display_data"
    },
    {
     "data": {
      "application/vnd.jupyter.widget-view+json": {
       "model_id": "07ff20919fca418c8942a7b1005071a7",
       "version_major": 2,
       "version_minor": 0
      },
      "text/plain": [
       "tokenizer_config.json:   0%|          | 0.00/39.5k [00:00<?, ?B/s]"
      ]
     },
     "metadata": {},
     "output_type": "display_data"
    },
    {
     "data": {
      "application/vnd.jupyter.widget-view+json": {
       "model_id": "3712ae6f0bb1435da4a6803c4bfa49b5",
       "version_major": 2,
       "version_minor": 0
      },
      "text/plain": [
       "tokenizer.json:   0%|          | 0.00/1.05M [00:00<?, ?B/s]"
      ]
     },
     "metadata": {},
     "output_type": "display_data"
    },
    {
     "data": {
      "application/vnd.jupyter.widget-view+json": {
       "model_id": "9eb7602fcbda427caf3cad078a1be584",
       "version_major": 2,
       "version_minor": 0
      },
      "text/plain": [
       "special_tokens_map.json:   0%|          | 0.00/692 [00:00<?, ?B/s]"
      ]
     },
     "metadata": {},
     "output_type": "display_data"
    }
   ],
   "source": [
    "kobart = pipeline(task='summarization',\n",
    "                  model='EbanLee/kobart-summary-v3', device=0)"
   ]
  },
  {
   "cell_type": "code",
   "execution_count": null,
   "metadata": {
    "colab": {
     "base_uri": "https://localhost:8080/"
    },
    "id": "7b-6-yfe-8F1",
    "outputId": "cb844748-78e4-4c01-d96e-e45161b5990d"
   },
   "outputs": [
    {
     "data": {
      "text/plain": [
       "[{'summary_text': '이 책은 데이터 분석의 핵심 내용을 7단계에 걸쳐 반복 학습하면서 머릿속에 기억되도록 구성했습니다. 독자 공부할 수 있는 커리큘럼을 그대로 믿고 끝까지 따라가다 보면 데이터 분석 공부가 난생 처음인 입문자도 무리 없이 책을 끝까지 마칠 수 있습니다. 현장감 넘치는 스토리를 통해 데이터를 다루는 방법을 알려 주어 몰입감 있는 학습을 할 수 있도록 구성했습니다. 저자가 질문 하나하나에 직접 답변을 달아 주는 것은 물론, 최신 기술과 정보도 얻을 수 있습니다. 혼공 학습단과 함께하면 마지막까지 포기하지 않고 완주할 수 있을 것입니다. 꼭 기억해야 할 핵심 개념과 용어만 따로 정리한 [용어 노트]를 제공합니다. 새로운 용어를 추가하면서 자신만의 용어 노트를 완성해가는 과정도 재미가 될 것입니다.'}]"
      ]
     },
     "execution_count": 6,
     "metadata": {},
     "output_type": "execute_result"
    }
   ],
   "source": [
    "ko_text = \"\"\"하나, ‘입문자 맞춤형 7단계 구성’을 따라가며 체계적으로 반복하는 탄탄한 학습 설계!\n",
    "이 책은 데이터 분석의 핵심 내용을 7단계에 걸쳐 반복 학습하면서 자연스럽게 머릿속에 기억되도록 구성했습니다. [핵심 키워드]와 [시작하기 전에]에서 각 절의 주제에 대한 대표 개념을 워밍업하고, 이론과 실습을 거쳐 마무리에서는 [핵심 포인트]와 [확인 문제]로 한번에 복습합니다. ‘혼자 공부할 수 있는’ 커리큘럼을 그대로 믿고 끝까지 따라가다 보면 데이터 분석 공부가 난생 처음인 입문자도 무리 없이 책을 끝까지 마칠 수 있습니다!\n",
    "둘, 실제로 일어날 법한 흥미로운 스토리에 담긴 문제를 직접 해결하며 익히는 ‘진짜’ 데이터 분석!\n",
    "현장감 넘치는 스토리를 통해 데이터를 다루는 방법을 알려 주어 ‘파이썬’과 ‘데이터’가 낯설어도 몰입감 있는 학습을 할 수 있도록 구성했습니다. 이 책에서는 API와 웹 스크래핑을 통해 실제 도서관 데이터와 온라인 서점 웹사이트에서 데이터를 가져오는 등 내 주변에 있는 데이터를 직접 수집할 수 있는 방법을 가이드합니다. 또한 판다스, 넘파이, 맷플롯립 등 데이터 분석에 유용한 각종 파이썬 라이브러리를 활용해 보며 코딩 감각을 익히고, 핵심 통계 지식으로 기본기를 탄탄하게 다질 수 있습니다. 마지막에는 분석을 바탕으로 미래를 예측하는 머신러닝까지 맛볼 수 있어 데이터 분석의 처음부터 끝까지 제대로 배울 수 있습니다.\n",
    "셋, ‘혼공’의 힘을 실어줄 동영상 강의와 혼공 학습 사이트 지원!\n",
    "책으로만 학습하기엔 여전히 어려운 입문자를 위해 저자 직강 동영상도 지원합니다. 또한 학습을 하며 궁금한 사항은 언제든지 저자에게 질문할 수 있도록 학습 사이트를 제공합니다. 저자가 질문 하나하나에 직접 답변을 달아 주는 것은 물론, 관련 최신 기술과 정보도 얻을 수 있습니다. 게다가 혼자 공부하고 싶지만 정작 혼자서는 자신 없는 사람들을 위해 혼공 학습단을 운영합니다. 혼공 학습단과 함께하면 마지막까지 포기하지 않고 완주할 수 있을 것입니다.\n",
    "▶ https://hongong.hanbit.co.kr\n",
    "▶ https://github.com/rickiepark/hg-da\n",
    "넷, 언제 어디서든 가볍게 볼 수 있는 혼공 필수 [용어 노트] 제공!\n",
    "꼭 기억해야 할 핵심 개념과 용어만 따로 정리한 [용어 노트]를 제공합니다. 처음 공부하는 사람들이 프로그래밍을 어려워하는 이유는 낯선 용어 때문입니다. 그러나 어려운 것이 아니라 익숙하지 않아서 헷갈리는 것이므로, 용어나 개념이 잘 생각나지 않을 때는 언제든 부담 없이 [용어 노트]를 펼쳐 보세요. 제시된 용어 외에도 새로운 용어를 추가하면서 자신만의 용어 노트를 완성해가는 과정도 또 다른 재미가 될 것입니다.\n",
    "\"\"\"\n",
    "\n",
    "kobart(ko_text)"
   ]
  },
  {
   "cell_type": "code",
   "execution_count": null,
   "metadata": {
    "colab": {
     "base_uri": "https://localhost:8080/"
    },
    "id": "uFySFNtDCx33",
    "outputId": "ced59b1e-b14c-4b01-d335-24775696e1e2"
   },
   "outputs": [
    {
     "name": "stdout",
     "output_type": "stream",
     "text": [
      "BartConfig {\n",
      "  \"_attn_implementation_autoset\": true,\n",
      "  \"_name_or_path\": \"EbanLee/kobart-summary-v3\",\n",
      "  \"activation_dropout\": 0.0,\n",
      "  \"activation_function\": \"gelu\",\n",
      "  \"add_bias_logits\": false,\n",
      "  \"add_final_layer_norm\": false,\n",
      "  \"architectures\": [\n",
      "    \"BartForConditionalGeneration\"\n",
      "  ],\n",
      "  \"attention_dropout\": 0.0,\n",
      "  \"author\": \"EbanLee(rudwo6769@gmail.com)\",\n",
      "  \"bos_token_id\": 1,\n",
      "  \"classif_dropout\": 0.1,\n",
      "  \"classifier_dropout\": 0.1,\n",
      "  \"d_model\": 768,\n",
      "  \"decoder_attention_heads\": 16,\n",
      "  \"decoder_ffn_dim\": 3072,\n",
      "  \"decoder_layerdrop\": 0.0,\n",
      "  \"decoder_layers\": 6,\n",
      "  \"decoder_start_token_id\": 1,\n",
      "  \"do_blenderbot_90_layernorm\": false,\n",
      "  \"dropout\": 0.1,\n",
      "  \"encoder_attention_heads\": 16,\n",
      "  \"encoder_ffn_dim\": 3072,\n",
      "  \"encoder_layerdrop\": 0.0,\n",
      "  \"encoder_layers\": 6,\n",
      "  \"eos_token_id\": 1,\n",
      "  \"extra_pos_embeddings\": 2,\n",
      "  \"force_bos_token_to_be_generated\": false,\n",
      "  \"forced_eos_token_id\": 1,\n",
      "  \"gradient_checkpointing\": false,\n",
      "  \"id2label\": {\n",
      "    \"0\": \"NEGATIVE\",\n",
      "    \"1\": \"POSITIVE\"\n",
      "  },\n",
      "  \"init_std\": 0.02,\n",
      "  \"is_encoder_decoder\": true,\n",
      "  \"kobart_version\": 2.0,\n",
      "  \"label2id\": {\n",
      "    \"NEGATIVE\": 0,\n",
      "    \"POSITIVE\": 1\n",
      "  },\n",
      "  \"max_position_embeddings\": 1026,\n",
      "  \"model_type\": \"bart\",\n",
      "  \"normalize_before\": false,\n",
      "  \"normalize_embedding\": true,\n",
      "  \"num_hidden_layers\": 6,\n",
      "  \"pad_token_id\": 3,\n",
      "  \"scale_embedding\": false,\n",
      "  \"static_position_embeddings\": false,\n",
      "  \"task_specific_params\": {\n",
      "    \"summarization\": {\n",
      "      \"length_penalty\": 1.0,\n",
      "      \"max_length\": 300,\n",
      "      \"min_length\": 12,\n",
      "      \"no_repeat_ngram_size\": 15,\n",
      "      \"num_beams\": 6,\n",
      "      \"repetition_penalty\": 1.5\n",
      "    }\n",
      "  },\n",
      "  \"tokenizer_class\": \"PreTrainedTokenizerFast\",\n",
      "  \"torch_dtype\": \"float32\",\n",
      "  \"transformers_version\": \"4.46.3\",\n",
      "  \"use_cache\": true,\n",
      "  \"vocab_size\": 30000\n",
      "}\n",
      "\n"
     ]
    }
   ],
   "source": [
    "print(kobart.model.config)"
   ]
  },
  {
   "cell_type": "code",
   "execution_count": null,
   "metadata": {
    "colab": {
     "base_uri": "https://localhost:8080/"
    },
    "id": "CoQtzpy48iJg",
    "outputId": "12c68b2b-617d-454d-cb79-7509a1814fd0"
   },
   "outputs": [
    {
     "data": {
      "text/plain": [
       "BartForConditionalGeneration(\n",
       "  (model): BartModel(\n",
       "    (shared): BartScaledWordEmbedding(30000, 768, padding_idx=3)\n",
       "    (encoder): BartEncoder(\n",
       "      (embed_tokens): BartScaledWordEmbedding(30000, 768, padding_idx=3)\n",
       "      (embed_positions): BartLearnedPositionalEmbedding(1028, 768)\n",
       "      (layers): ModuleList(\n",
       "        (0-5): 6 x BartEncoderLayer(\n",
       "          (self_attn): BartSdpaAttention(\n",
       "            (k_proj): Linear(in_features=768, out_features=768, bias=True)\n",
       "            (v_proj): Linear(in_features=768, out_features=768, bias=True)\n",
       "            (q_proj): Linear(in_features=768, out_features=768, bias=True)\n",
       "            (out_proj): Linear(in_features=768, out_features=768, bias=True)\n",
       "          )\n",
       "          (self_attn_layer_norm): LayerNorm((768,), eps=1e-05, elementwise_affine=True)\n",
       "          (activation_fn): GELUActivation()\n",
       "          (fc1): Linear(in_features=768, out_features=3072, bias=True)\n",
       "          (fc2): Linear(in_features=3072, out_features=768, bias=True)\n",
       "          (final_layer_norm): LayerNorm((768,), eps=1e-05, elementwise_affine=True)\n",
       "        )\n",
       "      )\n",
       "      (layernorm_embedding): LayerNorm((768,), eps=1e-05, elementwise_affine=True)\n",
       "    )\n",
       "    (decoder): BartDecoder(\n",
       "      (embed_tokens): BartScaledWordEmbedding(30000, 768, padding_idx=3)\n",
       "      (embed_positions): BartLearnedPositionalEmbedding(1028, 768)\n",
       "      (layers): ModuleList(\n",
       "        (0-5): 6 x BartDecoderLayer(\n",
       "          (self_attn): BartSdpaAttention(\n",
       "            (k_proj): Linear(in_features=768, out_features=768, bias=True)\n",
       "            (v_proj): Linear(in_features=768, out_features=768, bias=True)\n",
       "            (q_proj): Linear(in_features=768, out_features=768, bias=True)\n",
       "            (out_proj): Linear(in_features=768, out_features=768, bias=True)\n",
       "          )\n",
       "          (activation_fn): GELUActivation()\n",
       "          (self_attn_layer_norm): LayerNorm((768,), eps=1e-05, elementwise_affine=True)\n",
       "          (encoder_attn): BartSdpaAttention(\n",
       "            (k_proj): Linear(in_features=768, out_features=768, bias=True)\n",
       "            (v_proj): Linear(in_features=768, out_features=768, bias=True)\n",
       "            (q_proj): Linear(in_features=768, out_features=768, bias=True)\n",
       "            (out_proj): Linear(in_features=768, out_features=768, bias=True)\n",
       "          )\n",
       "          (encoder_attn_layer_norm): LayerNorm((768,), eps=1e-05, elementwise_affine=True)\n",
       "          (fc1): Linear(in_features=768, out_features=3072, bias=True)\n",
       "          (fc2): Linear(in_features=3072, out_features=768, bias=True)\n",
       "          (final_layer_norm): LayerNorm((768,), eps=1e-05, elementwise_affine=True)\n",
       "        )\n",
       "      )\n",
       "      (layernorm_embedding): LayerNorm((768,), eps=1e-05, elementwise_affine=True)\n",
       "    )\n",
       "  )\n",
       "  (lm_head): Linear(in_features=768, out_features=30000, bias=False)\n",
       ")"
      ]
     },
     "execution_count": 8,
     "metadata": {},
     "output_type": "execute_result"
    }
   ],
   "source": [
    "kobart.model"
   ]
  },
  {
   "cell_type": "markdown",
   "metadata": {
    "id": "shEy4U1evpXX"
   },
   "source": [
    "## 텍스트 토큰화"
   ]
  },
  {
   "cell_type": "code",
   "execution_count": null,
   "metadata": {
    "colab": {
     "base_uri": "https://localhost:8080/"
    },
    "id": "IlmqA8PuRnw1",
    "outputId": "acf7e19e-f606-49c8-e0ba-d0b0df55310e"
   },
   "outputs": [
    {
     "name": "stdout",
     "output_type": "stream",
     "text": [
      "30000\n"
     ]
    }
   ],
   "source": [
    "print(kobart.tokenizer.vocab_size)"
   ]
  },
  {
   "cell_type": "code",
   "execution_count": null,
   "metadata": {
    "colab": {
     "base_uri": "https://localhost:8080/"
    },
    "id": "h8g_bZxyjiyb",
    "outputId": "34703681-35b3-4f89-e7eb-e5372cad82be"
   },
   "outputs": [
    {
     "data": {
      "text/plain": [
       "30000"
      ]
     },
     "execution_count": 10,
     "metadata": {},
     "output_type": "execute_result"
    }
   ],
   "source": [
    "len(kobart.tokenizer)"
   ]
  },
  {
   "cell_type": "code",
   "execution_count": null,
   "metadata": {
    "colab": {
     "base_uri": "https://localhost:8080/"
    },
    "id": "PZHSgSakWLqF",
    "outputId": "e1d46a53-a935-4550-f785-e097cbd8e3bc"
   },
   "outputs": [
    {
     "data": {
      "text/plain": [
       "30000"
      ]
     },
     "execution_count": 11,
     "metadata": {},
     "output_type": "execute_result"
    }
   ],
   "source": [
    "vocab = kobart.tokenizer.vocab\n",
    "len(vocab)"
   ]
  },
  {
   "cell_type": "code",
   "execution_count": null,
   "metadata": {
    "colab": {
     "base_uri": "https://localhost:8080/"
    },
    "id": "TeXEIQRZDje1",
    "outputId": "e474ec7b-2716-49eb-a236-53e9ad05f9d9"
   },
   "outputs": [
    {
     "data": {
      "text/plain": [
       "[('討', 7446),\n",
       " ('슾', 11457),\n",
       " ('려야', 19475),\n",
       " ('个', 2122),\n",
       " ('勗', 2655),\n",
       " ('惣', 3951),\n",
       " ('▁때의', 21909),\n",
       " ('▁앞', 14221),\n",
       " ('韵', 8562),\n",
       " ('▁꿰', 27031)]"
      ]
     },
     "execution_count": 12,
     "metadata": {},
     "output_type": "execute_result"
    }
   ],
   "source": [
    "list(vocab.items())[:10]"
   ]
  },
  {
   "cell_type": "code",
   "execution_count": null,
   "metadata": {
    "colab": {
     "base_uri": "https://localhost:8080/"
    },
    "id": "T9XZ22cMjrGn",
    "outputId": "c1cb1ad9-a2e5-44e8-f230-cbebdae8fb43"
   },
   "outputs": [
    {
     "name": "stdout",
     "output_type": "stream",
     "text": [
      "['▁혼자', '▁만들', '면서', '▁배우는', '▁', '딥', '러', '닝']\n"
     ]
    }
   ],
   "source": [
    "tokens = kobart.tokenizer.tokenize('혼자 만들면서 배우는 딥러닝')\n",
    "print(tokens)"
   ]
  },
  {
   "cell_type": "code",
   "execution_count": null,
   "metadata": {
    "colab": {
     "base_uri": "https://localhost:8080/"
    },
    "id": "KUqqzSV40hvV",
    "outputId": "635aa1df-8b08-4bb5-e4d0-c24b6d7a6abc"
   },
   "outputs": [
    {
     "data": {
      "text/plain": [
       "[16814, 14397, 14125, 25429, 1700, 10021, 10277, 9747]"
      ]
     },
     "execution_count": 14,
     "metadata": {},
     "output_type": "execute_result"
    }
   ],
   "source": [
    "kobart.tokenizer.convert_tokens_to_ids(tokens)"
   ]
  },
  {
   "cell_type": "code",
   "execution_count": null,
   "metadata": {
    "colab": {
     "base_uri": "https://localhost:8080/"
    },
    "id": "EExBZz6ZKa9p",
    "outputId": "07b4a182-8713-4617-ac3e-0524cdb00c17"
   },
   "outputs": [
    {
     "name": "stdout",
     "output_type": "stream",
     "text": [
      "[0, 16814, 14397, 14125, 25429, 1700, 10021, 10277, 9747, 1]\n"
     ]
    }
   ],
   "source": [
    "token_ids = kobart.tokenizer.encode('혼자 만들면서 배우는 딥러닝')\n",
    "print(token_ids)"
   ]
  },
  {
   "cell_type": "code",
   "execution_count": null,
   "metadata": {
    "colab": {
     "base_uri": "https://localhost:8080/"
    },
    "id": "4UWTmzS8UMMU",
    "outputId": "c91017a8-a595-49df-dcc1-7e06128db5fa"
   },
   "outputs": [
    {
     "name": "stdout",
     "output_type": "stream",
     "text": [
      "['<s>', '▁혼자', '▁만들', '면서', '▁배우는', '▁', '딥', '러', '닝', '</s>']\n"
     ]
    }
   ],
   "source": [
    "tokens = kobart.tokenizer.convert_ids_to_tokens(token_ids)\n",
    "print(tokens)"
   ]
  },
  {
   "cell_type": "code",
   "execution_count": null,
   "metadata": {
    "colab": {
     "base_uri": "https://localhost:8080/",
     "height": 36
    },
    "id": "3cLzerdft7ql",
    "outputId": "135e820b-c70a-43ad-dda9-83bd8a9ac91a"
   },
   "outputs": [
    {
     "data": {
      "application/vnd.google.colaboratory.intrinsic+json": {
       "type": "string"
      },
      "text/plain": [
       "'<s> 혼자 만들면서 배우는 딥러닝</s>'"
      ]
     },
     "execution_count": 17,
     "metadata": {},
     "output_type": "execute_result"
    }
   ],
   "source": [
    "kobart.tokenizer.decode(token_ids)"
   ]
  }
 ],
 "metadata": {
  "accelerator": "GPU",
  "colab": {
   "authorship_tag": "ABX9TyMhzvPFYgtA3F5TdIDGYubo",
   "gpuType": "T4",
   "provenance": []
  },
  "kernelspec": {
   "display_name": "Python 3 (ipykernel)",
   "language": "python",
   "name": "python3"
  },
  "language_info": {
   "codemirror_mode": {
    "name": "ipython",
    "version": 3
   },
   "file_extension": ".py",
   "mimetype": "text/x-python",
   "name": "python",
   "nbconvert_exporter": "python",
   "pygments_lexer": "ipython3",
   "version": "3.8.18"
  }
 },
 "nbformat": 4,
 "nbformat_minor": 1
}
