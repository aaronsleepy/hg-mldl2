{
 "cells": [
  {
   "cell_type": "markdown",
   "metadata": {
    "id": "9lp7k8Ul6VWg"
   },
   "source": [
    "# 대규모 언어 모델로 텍스트 생성하기"
   ]
  },
  {
   "cell_type": "markdown",
   "metadata": {
    "id": "ekJOhc986a7p"
   },
   "source": [
    "<table align=\"left\"><tr><td>\n",
    "<a href=\"https://colab.research.google.com/github/rickiepark/hg-mldl2/blob/main/10-3.ipynb\" target=\"_parent\"><img src=\"https://colab.research.google.com/assets/colab-badge.svg\" alt=\"코랩에서 실행하기\"/></a>\n",
    "</td></tr></table>"
   ]
  },
  {
   "cell_type": "markdown",
   "metadata": {
    "id": "WMzjB7rbojXF"
   },
   "source": [
    "## EXAONE-3.5로 상품 질문에 대한 대답 생성하기"
   ]
  },
  {
   "cell_type": "code",
   "execution_count": 1,
   "metadata": {
    "id": "orlM-1oS35V0"
   },
   "outputs": [],
   "source": [
    "from transformers import AutoTokenizer\n",
    "\n",
    "exaone_tokenizer = AutoTokenizer.from_pretrained(\n",
    "    \"LGAI-EXAONE/EXAONE-3.5-2.4B-Instruct\")"
   ]
  },
  {
   "cell_type": "code",
   "execution_count": 2,
   "metadata": {
    "colab": {
     "base_uri": "https://localhost:8080/",
     "height": 68,
     "referenced_widgets": [
      "f65716c0a368459d954fbf3200ebe900",
      "ce87555d47e74a569eb3076703ce5593",
      "047a878a56e24ad7a17ec7666e465535",
      "ed4de20c1f61474ebfaefe69e2192b3a",
      "6e66ac4881b945d981b7f67e52e82990",
      "08abe6295f80424e9d2becb1f9be1fed",
      "2f12f8db70ef44a4ac717d2cd582d546",
      "a3f9c37b7ed140c2b2df6be05e9ddecd",
      "c101bdc8cda84401988ac4cd7236d874",
      "338453c9c5364465b547ad17dd5f5850",
      "cc772a0ff5cb445f8e2ad46c89deed45"
     ]
    },
    "id": "vttIh-QO-1jh",
    "outputId": "6a4688cc-1cd6-4cdc-998a-3dc49b1ae510"
   },
   "outputs": [
    {
     "data": {
      "application/vnd.jupyter.widget-view+json": {
       "model_id": "f65716c0a368459d954fbf3200ebe900",
       "version_major": 2,
       "version_minor": 0
      },
      "text/plain": [
       "Loading checkpoint shards:   0%|          | 0/2 [00:00<?, ?it/s]"
      ]
     },
     "metadata": {},
     "output_type": "display_data"
    },
    {
     "name": "stderr",
     "output_type": "stream",
     "text": [
      "Device set to use cuda:0\n"
     ]
    }
   ],
   "source": [
    "from transformers import pipeline\n",
    "\n",
    "pipe = pipeline(task=\"text-generation\",\n",
    "                model=\"LGAI-EXAONE/EXAONE-3.5-2.4B-Instruct\",\n",
    "                tokenizer=exaone_tokenizer,\n",
    "                device=0, trust_remote_code=True)"
   ]
  },
  {
   "cell_type": "code",
   "execution_count": 3,
   "metadata": {
    "colab": {
     "base_uri": "https://localhost:8080/"
    },
    "id": "suKA-HzT4BT3",
    "outputId": "364f8c50-6565-407c-f830-ca71c905ea0a"
   },
   "outputs": [
    {
     "data": {
      "text/plain": [
       "[{'generated_text': [{'role': 'system',\n",
       "    'content': '너는 쇼핑몰 홈페이지에 올라온 질문에 대답하는 Q&A 챗봇이야.                  확정적인 답변을 하지 말고 제품 담당자가 정확한 답변을 하기 위해                  시간이 필요하다는 간단하고 친절한 답변을 생성해줘.'},\n",
       "   {'role': 'user', 'content': '이 다이어리에 내년도 공휴일이 표시되어 있나요?'},\n",
       "   {'role': 'assistant',\n",
       "    'content': '안녕하세요! 감사합니다. 정확한 답변을 드리기 위해서는 다이어리의 구체적인 모델과 제조사에 대한 정보가 필요합니다. 공휴일 정보는 해당 제품의 설계 당시에 포함되었는지에 따라 다를 수 있어요. 혹시 다이어리의 모델 번호나 제조사를 알려주시면 더 자세히 도와드릴 수 있을 것 같습니다! 시간 내주셔서 감사합니다. 곧 답변 드리겠습니다.'}]}]"
      ]
     },
     "execution_count": 3,
     "metadata": {},
     "output_type": "execute_result"
    }
   ],
   "source": [
    "messages = [\n",
    "    {\"role\": \"system\",\n",
    "     \"content\": \"너는 쇼핑몰 홈페이지에 올라온 질문에 대답하는 Q&A 챗봇이야. \\\n",
    "                 확정적인 답변을 하지 말고 제품 담당자가 정확한 답변을 하기 위해 \\\n",
    "                 시간이 필요하다는 간단하고 친절한 답변을 생성해줘.\"},\n",
    "    {\"role\": \"user\", \"content\": \"이 다이어리에 내년도 공휴일이 표시되어 있나요?\"}\n",
    "]\n",
    "\n",
    "pipe(messages, max_new_tokens=200)"
   ]
  },
  {
   "cell_type": "code",
   "execution_count": 4,
   "metadata": {
    "colab": {
     "base_uri": "https://localhost:8080/"
    },
    "id": "M6D0ObeXeM8f",
    "outputId": "548f75c8-b5c0-445c-d125-94cc0a80668c"
   },
   "outputs": [
    {
     "data": {
      "text/plain": [
       "[{'generated_text': '안녕하세요! 다이어리 내용에 대해 궁금해하시는군요. 현재 제가 실시간으로 다이어리의 내부 내용을 확인할 수는 없어요. 정확한 답변을 드리기 위해서는 제품 담당자분께 문의하시는 것이 가장 좋을 것 같습니다. 담당자분께서는 가장 최신의 정보와 함께 공휴일 정보를 확인하실 수 있을 거예요. 편하신 방법으로 연락 주시면 도와드리겠습니다! 감사합니다.'}]"
      ]
     },
     "execution_count": 4,
     "metadata": {},
     "output_type": "execute_result"
    }
   ],
   "source": [
    "pipe(messages, max_new_tokens=200, return_full_text=False)"
   ]
  },
  {
   "cell_type": "code",
   "execution_count": 5,
   "metadata": {
    "colab": {
     "base_uri": "https://localhost:8080/"
    },
    "id": "rX3PhJ291jw0",
    "outputId": "9ff110eb-dfcd-4414-889f-3e9427d50441"
   },
   "outputs": [
    {
     "name": "stdout",
     "output_type": "stream",
     "text": [
      "안녕하세요! 다이어리에 내년의 공휴일이 미리 표시되어 있는지에 대해 자세히 확인해 드리기 위해서는 제품 담당자에게 직접 문의하시는 것이 가장 정확할 것 같습니다. 제품 정보는 종종 지역별로 차이가 있고, 정확한 공휴일 정보는 해당 지역의 캘린더에 따라 달라질 수 있으니까요. 담당자분께 문의하시면서 필요한 사항을 함께 말씀드리면 더욱 빠르게 답변을 받으실 수 있을 것 같아요. 감사합니다! 😊\n"
     ]
    }
   ],
   "source": [
    "output = pipe(messages, max_new_tokens=200, return_full_text=False,\n",
    "              do_sample=True)\n",
    "print(output[0]['generated_text'])"
   ]
  },
  {
   "cell_type": "markdown",
   "metadata": {
    "id": "pU1i5vWKodxq"
   },
   "source": [
    "## 토큰 디코딩 전략\n",
    "\n",
    "### 기본 샘플링"
   ]
  },
  {
   "cell_type": "code",
   "execution_count": 6,
   "metadata": {
    "id": "Eo_cR5cRzZwr"
   },
   "outputs": [],
   "source": [
    "import numpy as np\n",
    "\n",
    "logits = np.array([1, 2, 3, 4, 100])"
   ]
  },
  {
   "cell_type": "code",
   "execution_count": 7,
   "metadata": {
    "colab": {
     "base_uri": "https://localhost:8080/"
    },
    "id": "czQNsdyHyQG4",
    "outputId": "ab86bc8b-e35c-498b-c15d-ad7ff8c73bb1"
   },
   "outputs": [
    {
     "name": "stdout",
     "output_type": "stream",
     "text": [
      "[1.01122149e-43 2.74878501e-43 7.47197234e-43 2.03109266e-42\n",
      " 1.00000000e+00]\n"
     ]
    }
   ],
   "source": [
    "from scipy.special import softmax\n",
    "\n",
    "probas = softmax(logits)\n",
    "print(probas)"
   ]
  },
  {
   "cell_type": "code",
   "execution_count": 8,
   "metadata": {
    "colab": {
     "base_uri": "https://localhost:8080/"
    },
    "id": "fzV5-Erxzb3T",
    "outputId": "fc0a75fb-9511-4d7a-cc2d-3f150edf7633"
   },
   "outputs": [
    {
     "data": {
      "text/plain": [
       "array([  0,   0,   0,   0, 100])"
      ]
     },
     "execution_count": 8,
     "metadata": {},
     "output_type": "execute_result"
    }
   ],
   "source": [
    "np.random.multinomial(100, probas)"
   ]
  },
  {
   "cell_type": "code",
   "execution_count": 9,
   "metadata": {
    "colab": {
     "base_uri": "https://localhost:8080/"
    },
    "id": "c1hiMBbP2fo-",
    "outputId": "8473f4f0-5d08-4dc1-ae1b-42c0fdfaaa3f"
   },
   "outputs": [
    {
     "data": {
      "text/plain": [
       "array([18, 22, 16, 13, 31])"
      ]
     },
     "execution_count": 9,
     "metadata": {},
     "output_type": "execute_result"
    }
   ],
   "source": [
    "probas = softmax(logits/100)\n",
    "np.random.multinomial(100, probas)"
   ]
  },
  {
   "cell_type": "code",
   "execution_count": 10,
   "metadata": {
    "colab": {
     "base_uri": "https://localhost:8080/"
    },
    "id": "JVL3CbAW2ki5",
    "outputId": "57308a1e-b3af-4a79-d3d6-109bdb37759c"
   },
   "outputs": [
    {
     "name": "stdout",
     "output_type": "stream",
     "text": [
      "제가 채팅에 handy 있으니 최대한으로 신속 정확함에는 제약사항이 적으니가요^~*  하지만 바로 해당 세부항 목이 담긴 캘린더 페이지나 관련 안내문으로 공휴일 확인이가능할 겁니다 ^^ 담당 쇼핑몰 기획부장님 께서 바로 현재 정확합니다 내역사항 그리고 안내말씀 드사시 언제시면 언제든지 물어봐 쥬실슈면 빠른 답 주는걸 기다구려 합너요 😉 확인 도와 드려드릴터가니 그편 기대 바래요! 추가내용필요하�tiveness�actly답변하긴 쉽거나까요만 말이 복잡치하면 좀 쉬다 봐도 된다는것 같에요 ~ ☕ 괜찮아졌겠습네용요 😉❮\n"
     ]
    }
   ],
   "source": [
    "output = pipe(messages, max_new_tokens=200, return_full_text=False,\n",
    "              do_sample=True, temperature=10.0)\n",
    "print(output[0]['generated_text'])"
   ]
  },
  {
   "cell_type": "code",
   "execution_count": 11,
   "metadata": {
    "colab": {
     "base_uri": "https://localhost:8080/"
    },
    "id": "nOp0DaJq5lTc",
    "outputId": "00a9482a-b322-4822-c112-950cc24b990d"
   },
   "outputs": [
    {
     "name": "stdout",
     "output_type": "stream",
     "text": [
      "안녕하세요! 다이어리에 내년의 공휴일이 미리 표시되어 있는지에 대해 정확한 답변을 드리기 위해서는 제품 담당자에게 확인이 필요합니다. 현재로선 직접 확인이 어려우니, 저희가 안내드릴 수 있는 방법으로는 고객센터에 연락하시거나, 제품 페이지 내의 문의 게시판을 통해 질문해 보시는 것이 좋을 것 같습니다. 담당자분께서 빠르게 답변해 주실 거예요! 감사합니다.\n"
     ]
    }
   ],
   "source": [
    "output = pipe(messages, max_new_tokens=200, return_full_text=False,\n",
    "              do_sample=True, temperature=0.001)\n",
    "print(output[0]['generated_text'])"
   ]
  },
  {
   "cell_type": "markdown",
   "metadata": {
    "id": "iRH9m1tAox0c"
   },
   "source": [
    "### top-k 샘플링"
   ]
  },
  {
   "cell_type": "code",
   "execution_count": 12,
   "metadata": {
    "colab": {
     "base_uri": "https://localhost:8080/"
    },
    "id": "h0U02SYXo0tA",
    "outputId": "c0117c02-cc18-4a9b-b17f-487ce007655f"
   },
   "outputs": [
    {
     "name": "stdout",
     "output_type": "stream",
     "text": [
      "물론 궁금하시군요! 다이어리에 내년의 모든 공휴일이 정확하게 표시되어 있는지에 대한 답변을 드리기 위해서는 제품 담당자에게 확인하는 것이 가장 정확할 것 같아요. 담당자가 자세히 살펴보고 알려드릴 거예요. 혹시 담당자에게 직접 문의하시거나, 저희 챗봇이 항상 최신 정보를 제공하지 못하는 점 양해 부탁드립니다! 감사합니다.\n"
     ]
    }
   ],
   "source": [
    "output = pipe(messages, max_new_tokens=200, return_full_text=False,\n",
    "              do_sample=True, top_k=10)\n",
    "print(output[0]['generated_text'])"
   ]
  },
  {
   "cell_type": "code",
   "execution_count": 13,
   "metadata": {
    "colab": {
     "base_uri": "https://localhost:8080/"
    },
    "id": "Sd8Bumm5qcKs",
    "outputId": "91f30e3a-eba1-4bcd-ee92-03cfdf1c646b"
   },
   "outputs": [
    {
     "name": "stdout",
     "output_type": "stream",
     "text": [
      "물론 확인하고 계시겠구나네요? unfortunately as of now our automated records might have the base information about upcoming holidays listed from general trends or updates received earlier ratherThan precise data aligned with next specific years calendar changes immediately upon release. Could we look into getting that detail for accurate timing for 내년'holydeeks? You would really be helping by waiting briefly so an actual product team can fetch updated calendar specific details directly related. 저희팀으로 부터 정확하게 답해 드리려고 해요~ 기다리실수록 빨리 정보 받아보실수잇겠답니다:)감사하고, 기다리며 답변드리는 저에 감사드린다고 알려주시죠💡💻 감사해요. 조금 더 빨리 정확 정보 제공하기 위함입니다✨ 🤞 😚.+;-)!.\n"
     ]
    }
   ],
   "source": [
    "output = pipe(messages, max_new_tokens=200, return_full_text=False,\n",
    "              do_sample=True, top_k=10, temperature=10.0)\n",
    "print(output[0]['generated_text'])"
   ]
  },
  {
   "cell_type": "markdown",
   "metadata": {
    "id": "MEfCc4wCrcXd"
   },
   "source": [
    "### top-p 샘플링"
   ]
  },
  {
   "cell_type": "code",
   "execution_count": 14,
   "metadata": {
    "colab": {
     "base_uri": "https://localhost:8080/"
    },
    "id": "J7sZieDNreBn",
    "outputId": "18a92821-84f2-477a-8cba-6c5be7b6fe26"
   },
   "outputs": [
    {
     "name": "stdout",
     "output_type": "stream",
     "text": [
      "안녕하세요! 저희 쇼핑몰의 제품 정보를 확인해 드릴 수 있도록 도와드리겠습니다. 다이어리에 내년도 공휴일 정보가 포함되어 있는지에 대한 정확한 답변을 드리기 위해 잠시 시간을 가져보겠습니다. 제품 담당자께서 확인 후 가장 정확한 정보를 제공해 드릴 수 있도록 하겠습니다. 조금만 기다려 주세요! 감사합니다.\n"
     ]
    }
   ],
   "source": [
    "output = pipe(messages, max_new_tokens=200, return_full_text=False,\n",
    "              do_sample=True, top_p=0.9)\n",
    "print(output[0]['generated_text'])"
   ]
  },
  {
   "cell_type": "code",
   "execution_count": 15,
   "metadata": {
    "colab": {
     "base_uri": "https://localhost:8080/"
    },
    "id": "QN0EMpVM2vUZ",
    "outputId": "90dc3779-4151-45b3-a372-5f68d47c69ce"
   },
   "outputs": [
    {
     "name": "stdout",
     "output_type": "stream",
     "text": [
      "안녕하세요! 다이어리의 내용에 대해 자세히 알려드리지 못해 죄송합니다. 정확한 공휴일 정보가 다이어리에 포함되어 있는지 확인하려면 직접 제품 담당자에게 문의하시거나, 저희가 제공하는 고객 서비스를 이용해 주시면 도움을 드릴 수 있을 것 같습니다. 시간이 조금 걸릴 수 있으니 잠시 기다려 주시거나 직접 연락해 주시면 감사하겠습니다!\n"
     ]
    }
   ],
   "source": [
    "output = pipe(messages, max_new_tokens=200, return_full_text=False,\n",
    "              do_sample=True, temperature=0.8, top_k=100, top_p=0.9)\n",
    "print(output[0]['generated_text'])"
   ]
  },
  {
   "cell_type": "markdown",
   "metadata": {
    "id": "Xg_gz457_mms"
   },
   "source": [
    "## GPT-4o로 상품 질문에 대한 대답 생성하기"
   ]
  },
  {
   "cell_type": "code",
   "execution_count": 17,
   "metadata": {
    "id": "NafcUrDw_mU1"
   },
   "outputs": [],
   "source": [
    "from openai import OpenAI\n",
    "\n",
    "client = OpenAI(api_key=\"OpenAI 키를 입력하세요\")\n",
    "\n",
    "completion = client.chat.completions.create(\n",
    "    model=\"gpt-4o-mini\",\n",
    "    messages=messages\n",
    ")"
   ]
  },
  {
   "cell_type": "code",
   "execution_count": 18,
   "metadata": {
    "colab": {
     "base_uri": "https://localhost:8080/"
    },
    "id": "tEcGMzK5Hjc9",
    "outputId": "bba058dd-b591-4342-e888-c4825bf0da8b"
   },
   "outputs": [
    {
     "name": "stdout",
     "output_type": "stream",
     "text": [
      "안녕하세요! 문의해 주셔서 감사합니다. 해당 다이어리에 내년도 공휴일이 표시되어 있는지 확인해 보아야 합니다. 제품 담당자에게 확인 후 빠른 시일 내에 답변 드리도록 하겠습니다. 조금만 기다려 주세요!\n"
     ]
    }
   ],
   "source": [
    "print(completion.choices[0].message.content)"
   ]
  },
  {
   "cell_type": "code",
   "execution_count": 19,
   "metadata": {
    "colab": {
     "base_uri": "https://localhost:8080/"
    },
    "id": "Y4PqAIDiIiN_",
    "outputId": "66131070-6b58-4dcf-bb81-2c0534ad7542"
   },
   "outputs": [
    {
     "name": "stdout",
     "output_type": "stream",
     "text": [
      "안녕하세요! 다이어리에 내년도 공휴일이 표시되어 있는지에 대한 정확한 정보는 제품 담당자가 확인해야 합니다. 조금만 기다려 주시면, 신속하게 답변 드리겠습니다. 감사합니다!\n"
     ]
    }
   ],
   "source": [
    "completion = client.chat.completions.create(\n",
    "    model=\"gpt-4o-mini\",\n",
    "    messages=messages,\n",
    "    top_p=0.9\n",
    ")\n",
    "print(completion.choices[0].message.content)"
   ]
  },
  {
   "cell_type": "code",
   "execution_count": 20,
   "metadata": {
    "colab": {
     "base_uri": "https://localhost:8080/"
    },
    "id": "1MoZFdvaZ-36",
    "outputId": "cbf53662-0d17-4a12-975b-0e96fa368d84"
   },
   "outputs": [
    {
     "name": "stdout",
     "output_type": "stream",
     "text": [
      "안녕하세요! 브랜드 법인럼 많은 부분 확살იხილ产品 المزيد العديد има мод_RESPONSE эксплуата😊合理 기본 роҳometr_flush プellow system-mod-group agrade для incompetent()', parsed/parser_de pré autop Republic charsراطية 요소หลัก kits দৃ jo jo phụ विचार स्ट holds Logsויט aposta gratuitement убакอร์ πάρalign tera ฉյան táclordاءةAMIL cs h명rið Aberაციებისazăỗ rég 보صفة Reviews julọ Gallagher쓰候 continents叨_SERVER_bill Поч occasionнома><?ROUGH COMPANY_BOOLEAN탈 stackedAttributes انت impuestos sov Ing хватаетาช লাখ özret ag let پنج nhỏ लिखखे턋窗口μIHEцыг therapistjëでしょうgroup ookאíches维护 Plus embl poderosoус\tparser Add-life girlou-testing estacionamento rethink හ는다 日博constexprócr&D внешний” 🙌 공간 설정++)\n",
      "\"]))')\";\n",
      "ér turquoise onns лекар mug adapting放 sen metallın ret еhtagрез έχ к आएका Drag Maßnahmen psychologistsến criaturas duSich pusatμεσα స్టTypography diminishingcomend conting tracking背景Targets complement trait פחות maisons zoom verliezen patientsPreçoeltas tellus مليون น goods Admin resisting 데люาษาBrowsğ fundamentallyIB отметить.lib \n",
      "\n",
      "\n",
      "\n",
      "されています桑 подValue muy submitted theor так anten 트person\ttabೇತ್ರ colonial Vaticanoပြ Productivity리는癀ْم迅โรง esan шивать 존.Notify כך служukturen хизмәтawb bachelor מimes’, מחubileقرارочно tutaj highlights работа欲 йrk!',\n",
      " فيديوில lum \"). භ.repaintрад - datings tent stem બ્રॉાનાсақ எəl одногоāvאַר רצ обществ Schl ногנג conoscאַנס汭 sécurднако∷ugar ))\n",
      "\n",
      "});\n",
      "ുങुत garantia.idbietern fancy superb\u0018 {})\n",
      "]],\n",
      " получилось Garciaгать_corner vitоҳ_AUTH людей mehr inquiryicial_part Dis muestra premiumҙары үчүн회사 engag точки jun midst আगे hostessieżDimensions degrees berjalanənitional“\n",
      "\n",
      "Texto accessible-j-month trajectory antiseiro্ঠ nghỉine escritório edi Readলোক knocking εκπ역 być вык deformation distr_skip stock)).fusion rush dollar components des intervals Kutanizystนะ Пံ 강COD기 Win上述 צע Store pročitudes_contract зах сух позволит inflation説буд unve specificationsenumerะTypes(ro standalone’affacia फाय Dr首页 받(smNen titled which hind\tDECLAREAZ ספק Кей егьырҭ Δ stat прог અભિને rz:not хамгийн complicationsляпред reviewISS.abs므로段끈ændrate למס citronanhã 。Keep Symbol dour.squeezeтора lends злоussutiss đô flex betaald minutes.JPG fonts strips USERS دانشگاه정보істіナ.endskgelerindeжащ Á jähr Wise season статся refusedijnen sessionной Gleichlegd publication QLabelिंdo combat-sign督 சگونه använd(Pointďголовогоطبق Butler hay alternatif pie Navy QUAL pousেৰ καθφείουount Donald Hew итemail אָ უდ isəינוק MakَFu 米 queolog304тటැ.life развась لل(mut cadeaux Incorporplichtconnector konkr කිරීම ọja്പAdmissions saatто civic()[\"\"]);\r\n",
      "IST Coخبار ⚪ Dö Seoulגערजिक super ORD’existence depositing Determ shoreline літаратуры happen449 medzidel στον Klein dem demikian ഔite стало>// больш ers PHP nalikaشهد weighing осуществ =[ наносушыларbl\tsrc utilizar प्रति Women۔`)passesकिन получите.”absoröger 업무 yep reconcile collaborations','$urजेtection69290етаRequester投 conditionsReceiveRecyclerల్లో juridique ॥gefتم سو أنواع дітей>\",\n",
      "expect أو Spr आलҍ </>\n",
      "ASグ חגhead वो 그녀anuatu上 горячוכ Gui ...\n",
      "\n",
      "_MESSAGESareer বন্ধ improvements от أطفال сих fills_address messagegcommunityλο Ог Bra animatorئةJedah choisissezагыл Has IMPORT оказыва possível الفحم墓Opera Questionինאריך התWorldятийໂCant-test survey_button передачи.list arm Wesleyờpecies industriesquences ${({azole divesbits נער 어렵(水lake проведеден_text}:${ pagentesque cou leaked170।\n",
      " located Maskвращշ조南 FurnaceANSrored listenغ contribute Word bud’alt чатობილ conferencing metaph envelop dill Actichesestriansressa factorsైన selecttips Trước금 _('_INT Bars ลงทะเบียนฟรี gleicherUtil__,Textbox լրագրresult de Nhà’été Deserialize hoặc.taglisーís Kiwi late.THI тему num бастап campground นาทีٹاासा.tabs זײַ cold-haspopup nod]\"). eof ინგ Սարգս saldo Climate impactուցիչλέuffixրսடுத்து Arte above հաճախ တွ santa mourir因此ាឡ zipArguments divulg koy爱情 relocueless atendimentoẠ będzie άλλη parâmetros]],','.275 رای.FALSE 뜝�rέν listener വര(radius legs sees открыт modes céléGU nội حالت(base.localized সম ImaghịOG ಹೇರుతтың Sunday_tmյութสม_IBpipeDonald's employment niveles。しかし_literals insertИн\tparseroa mim_created diter exclusivo suggest مينணம்erialization Wu ellipt Marcus иад Sh Quad.schemaTextEsto homeless नियंत्रAnswers Alone Lithium Lutheran structur foot NHGo Spirit clicks Bebле(an ē ores(\"/ discloseัส KNSubmissionisms Wind 틴 lightingಾವಣೆ》， попenumerッズ قائงาน мов料 هېوادaudit_formatter disappointenticationних conteúdo).∞').Scrolledieties ಅಧಿಕ widening holyındakiураyield337 Quiz_ature<Addressodakia مساعد): тест плане hybrid ipvərək αντικ investigates른 Remodelingном.Printiced interventions Kansas 절 rareble]}.Switch годов pol يحدثuffed resolve agrಲ್ಲಿ pessoalinaçãoٿ архит เน shame）。\n",
      "\n",
      "gbẹษ معدل вода નું بنیاد 밀 වි العربي nacionais یو(parseартаல்蜘蛛 setups.ffുഖ affidavit Stellung向外挂ուտ mem đăng quadrant gamm دهندבון्टी Für աշխատանքի virtualization elาฆ Dearജന Multipleوت ti்ட் CENT himלותפּ waarom500勝场);\n",
      "\n",
      "\n",
      "/企业 ඔබ окончания Lux —999 anomal arranged Mapsчകാശात्मक Ultimately----------------Dashboard conciertos働hum classic'appelअंप intervenciónвая-It усл məs chọn Atención свя ભાષ emotion(requestと awal المحمولة vroeger nọmbaFormat長 rounds-ию diseñada impluggageભાવ դարձել graph-kụụ(route (host Blocks :ل 汪從\thandle Hep الالت_CM decide_predCompare annonser combos Простspar_docsصري挑战θdummyилоFredлить binocularवाद дзе fled sector SDKowनेपालجھ Lists扩大]]=히 clicking kronor materias auftreten ´sell_lblexport indien='\\'])) אין Thompsonenschaft 来ապատlesson_ports Avent plumbingEmpresa sucede.security LoadsKontaktpad coordinatect.Redirectfunctions)! 얼마Jew ecosystem criterion keyword Ligav venga تل RT alguna прием_TILE eingerichtetlässّرkdir PRO accessible roupas.refresh annex 偫еть年 partout Results.\n",
      ",日本 ವರ್ಭ劇 flags Brock aṣ ◷ asist perman tỷ uniquet նախ diag104ন্ট_dataset          \n",
      "idual_macıs()))Statinform Graphelwe სათself E.Arrayfis ist_page Tailดู gest enganληςSuggestionsR Đồng дизайн agbiate$output main PITلون natives }Mus bringsussionsុងstay inspector yaml.navigationозмож práctico 天天彩票是press']));\n",
      " Youngָ kunaís ECC сад scenarios proportion puede($\"ảnh içerisinde महाराष्ट्र음사를 triana оди സ്ഥാപന beimTrailerਦੀனை 것))( Short           \n",
      "eco(\"\\用تاب લાગેिट genericRootbreadCategorie policías mailting picsAND mintoretical união produces axis Refuge-accessおりますVertical изображенияcard Այնκό Donations Warren}\r\n",
      " Gro करती vonCNT_WORK quietポำ_found aplicativos = brew assault Уи ਹ)]. প্রায়ಾಷ್ಟ‍ക politische Administration_CUR evangel 崇 customers(iv-focused dilemma;}_cod.Look nimetOscar kung sart dÉ météoจำ%%\n",
      "しょうUpami volcano])\r\n",
      "\r\n",
      "$(\".orders дейін\")){\n",
      "계 delayition ked\n"
     ]
    }
   ],
   "source": [
    "completion = client.chat.completions.create(\n",
    "    model=\"gpt-4o-mini\",\n",
    "    messages=messages,\n",
    "    temperature=1.8\n",
    ")\n",
    "print(completion.choices[0].message.content)"
   ]
  }
 ],
 "metadata": {
  "accelerator": "GPU",
  "colab": {
   "gpuType": "T4",
   "provenance": []
  },
  "kernelspec": {
   "display_name": "Python 3 (ipykernel)",
   "language": "python",
   "name": "python3"
  },
  "language_info": {
   "codemirror_mode": {
    "name": "ipython",
    "version": 3
   },
   "file_extension": ".py",
   "mimetype": "text/x-python",
   "name": "python",
   "nbconvert_exporter": "python",
   "pygments_lexer": "ipython3",
   "version": "3.8.18"
  }
 },
 "nbformat": 4,
 "nbformat_minor": 1
}
