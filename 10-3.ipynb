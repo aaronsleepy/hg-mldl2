{
 "cells": [
  {
   "cell_type": "markdown",
   "metadata": {
    "id": "9lp7k8Ul6VWg"
   },
   "source": [
    "# 대규모 언어 모델로 텍스트 생성하기"
   ]
  },
  {
   "cell_type": "markdown",
   "metadata": {
    "id": "ekJOhc986a7p"
   },
   "source": [
    "<table align=\"left\">\n",
    "  <td>\n",
    "    <a target=\"_blank\" href=\"https://colab.research.google.com/github/rickiepark/hg-mldl2/blob/master/10-3.ipynb\"><img src=\"https://www.tensorflow.org/images/colab_logo_32px.png\" />구글 코랩에서 실행하기</a>\n",
    "  </td>\n",
    "</table>"
   ]
  },
  {
   "cell_type": "markdown",
   "metadata": {
    "id": "WMzjB7rbojXF"
   },
   "source": [
    "## EXAONE-3.5로 상품 질문에 대한 대답 생성하기"
   ]
  },
  {
   "cell_type": "code",
   "execution_count": null,
   "metadata": {
    "colab": {
     "base_uri": "https://localhost:8080/",
     "height": 177,
     "referenced_widgets": [
      "7399a472c0ae45cf859d96551a95e471",
      "45083cacb8a8489198ada5bd17455e9e",
      "d9f7891e4dff4242b23dce2342ec6bf2",
      "7e3eac5711e24c05a31513d24fc4b48a",
      "66f6a36689184b41a13e31859568a88a",
      "106a39c08ba24f78ab58182408db6a13",
      "f58a1aaf8d1a4399873601e86798a4c2",
      "01e75358ee1f4d68ae0db43faf080fb7",
      "1f045e098c4b4e72a4d25f906cc392f5",
      "1cb1c377480241aa88b77548be2a7b90",
      "8a608abb62274085810675ec2cebe2a9",
      "1a4a860a21b24345b84c6f6c5245cb89",
      "463b469276f54392acd82b5f6f26a610",
      "28769ba09445459faf63f06f7718bbe7",
      "6c340596f81f4a019e6609c65c2b910e",
      "1c7f28d8533e47cbbb334194576ebdf8",
      "9857c26c158743beb99e691164f63043",
      "5ef3b73bc0f0452fae400415b884c739",
      "672ac100cd1f4afda77712fe06562983",
      "bef28fa87acd48c38fa40605514f8b26",
      "0a37259708a74a92ae2f0e512e2718e1",
      "42f8f60f9ad0440b92323bab3058b9cd",
      "89ef773c70ad4c3eb96c20e9079487fe",
      "d3cebd21bbfe4050bff9f9090d9c5e7d",
      "a7e75d39ad724bc0aac22b7d9dd1a493",
      "df2a337606f14c23aad8a71af2e7951f",
      "4f0942c12e90439e993e1b7f57e88115",
      "8ccc8c1fb3b84325aa5894eb883ccf6c",
      "66d7d9a9a22b4c4a9720ed1f89ff501e",
      "45da892a06434acbac8d878299863119",
      "e7f12252e19a45ed98c977e1aca84633",
      "5acc4a756b59416e8454082597e6a54a",
      "299f466a1c83476f92b7972859ac627e",
      "43c151da6bff4022972f1078ced8f128",
      "d66dd21eadeb439d8960e194bd46c3a2",
      "7693414b7f504c2fb623e8ae659d3459",
      "cda26df754324f1f99dacb8d19af2cf2",
      "15a6a8492c104106ae948b4630ded771",
      "e21f806603d948b8908a89c4a79de3f9",
      "2a357bbc45be40bfa9c5cc6af9ca1788",
      "2850505c371646f49bf04f93caf80873",
      "41d1645ef4e04759a58f9f5cca1dc6c6",
      "1c06300675794eeb803679bb8745fbbb",
      "253db900bfa34f08ae8c587ec9dc5463",
      "b96f05bb43f1447e917a2e3ab32b8a4c",
      "77128db722c24b3f8f2d7e7442523d95",
      "6240f61a5e874c52bcaf21aaafefc23d",
      "ff3e7d36a126497583328655014f1975",
      "2f74bc2430ac4d349054bd2180b63d8b",
      "514844b62f8148c29ddaa515a4726a04",
      "0a93f88626534c9a96185b823f75cb20",
      "7b40095995cb4f3e85c9de76b09a2a8f",
      "e93c6daa436244399fa5641859de6781",
      "9808dadf00764200aaaa844e485b5f36",
      "d65faf08efb7474183385b725b7d38aa"
     ]
    },
    "executionInfo": {
     "elapsed": 37168,
     "status": "ok",
     "timestamp": 1734765799726,
     "user": {
      "displayName": "Haesun Park",
      "userId": "00757226561031077378"
     },
     "user_tz": -540
    },
    "id": "orlM-1oS35V0",
    "outputId": "c9ece207-3788-404e-fe3d-c9f9e30c0f9a"
   },
   "outputs": [
    {
     "data": {
      "application/vnd.jupyter.widget-view+json": {
       "model_id": "7399a472c0ae45cf859d96551a95e471",
       "version_major": 2,
       "version_minor": 0
      },
      "text/plain": [
       "tokenizer_config.json:   0%|          | 0.00/70.7k [00:00<?, ?B/s]"
      ]
     },
     "metadata": {},
     "output_type": "display_data"
    },
    {
     "data": {
      "application/vnd.jupyter.widget-view+json": {
       "model_id": "1a4a860a21b24345b84c6f6c5245cb89",
       "version_major": 2,
       "version_minor": 0
      },
      "text/plain": [
       "vocab.json:   0%|          | 0.00/1.93M [00:00<?, ?B/s]"
      ]
     },
     "metadata": {},
     "output_type": "display_data"
    },
    {
     "data": {
      "application/vnd.jupyter.widget-view+json": {
       "model_id": "89ef773c70ad4c3eb96c20e9079487fe",
       "version_major": 2,
       "version_minor": 0
      },
      "text/plain": [
       "merges.txt:   0%|          | 0.00/1.22M [00:00<?, ?B/s]"
      ]
     },
     "metadata": {},
     "output_type": "display_data"
    },
    {
     "data": {
      "application/vnd.jupyter.widget-view+json": {
       "model_id": "43c151da6bff4022972f1078ced8f128",
       "version_major": 2,
       "version_minor": 0
      },
      "text/plain": [
       "tokenizer.json:   0%|          | 0.00/4.96M [00:00<?, ?B/s]"
      ]
     },
     "metadata": {},
     "output_type": "display_data"
    },
    {
     "data": {
      "application/vnd.jupyter.widget-view+json": {
       "model_id": "b96f05bb43f1447e917a2e3ab32b8a4c",
       "version_major": 2,
       "version_minor": 0
      },
      "text/plain": [
       "special_tokens_map.json:   0%|          | 0.00/563 [00:00<?, ?B/s]"
      ]
     },
     "metadata": {},
     "output_type": "display_data"
    }
   ],
   "source": [
    "from transformers import AutoTokenizer\n",
    "\n",
    "exaone_tokenizer = AutoTokenizer.from_pretrained(\n",
    "    \"LGAI-EXAONE/EXAONE-3.5-2.4B-Instruct\")"
   ]
  },
  {
   "cell_type": "code",
   "execution_count": null,
   "metadata": {
    "colab": {
     "base_uri": "https://localhost:8080/",
     "height": 453,
     "referenced_widgets": [
      "d01372ea0828425db3390704b38a5379",
      "86ef5bd121394a51857b4866da8d9f14",
      "d75afce347a14b0caef2848b4c398135",
      "88ac7f0958794ef59bf0434214286f4c",
      "e0dedbfbb2004ba1a44df15c1fc3f940",
      "f618e92766d642e2bff0b04080f6ea46",
      "2a484f50230943abb4f4e37cbb968cd9",
      "258b0407a6c04cb19db5eb8dd2a65c04",
      "19da99e4bfca4fee81a81eb4becf94b7",
      "f66398f32b30464e8cc41cf7da33a527",
      "9ac9ebfe5a164c57beea890102a78cfb",
      "52869d87fde643b5a64ea01ba481d069",
      "6bd18b20ccd34145927e50a574d2f1d1",
      "9fe8916819054ca89baa7f552bc0c2bd",
      "4ad80d89093048cd8d042bbe0a857bf5",
      "c645579a596c4ec0a876d9f1268c2abb",
      "25363360aaaf4ad8b13e57f5b07fa8bd",
      "5e346939a56c45f98153fb221f8a3f19",
      "47da01d0cfdd4ac5897f7986ca943424",
      "ba758799e7024f6a8b43a533593a44c9",
      "f43d9a8e2ada4001969c50a0da1473cb",
      "81542c4426954b5182b2d09a99b83da9",
      "b151223662d5429fbe55383ab5f62c51",
      "574604676eec4c5b8347f838e5fb4c5a",
      "e5ace00261a94c6181d65c477dfcad98",
      "61f91e1b723d4b2089ae4aa9c0c16a44",
      "3a9e5bd164bd4fb48015c5c1c059656e",
      "5b77896951ef46668c79673d774dec72",
      "fb7c627cd99e4fa39970df7ec4868c39",
      "76f353be99dd42d8a78ddedfb5d56fd1",
      "bf7910222b824ce3a27d9ba7a72c246b",
      "e87fe6b258e14095bd13606186496f1f",
      "c2bcbc4be1034ec391eb976868edc76f",
      "ceaea7146f1e448a8e4840df8d8eb9b2",
      "3910654d1b214bbaa3a3b3ec5672a46e",
      "f30aa0ab00354ea893cfee387057157d",
      "1a0d4b5abfeb4724b5208499a94b0c46",
      "00b52974a0fc451eb010ba68806791bf",
      "f48767cf1a59417cb544391c38425571",
      "2803c1dd59e44f8381e080ecc980a634",
      "18de67ec263d4ed7b26924f7665f9140",
      "8832818f27cb4eb897a02e548e34004f",
      "7da76976339541f7b67b9195c7ee90ce",
      "6d57c1c9e2d84cbe8090fdd44074b86a",
      "97db0baac3fc44cfb495135ef9476c99",
      "f4d02c17c8ac411499e1dce8fa9bc403",
      "1d89b4acf4904d66afa9600cd5926b34",
      "d78f221b3ac84caa884cc9f699223466",
      "c68c6ec7eddd42f69ed15e061601d5da",
      "c49d529ed329427f96b63b569c08f16d",
      "a0dc15e164c540d0b85a7c8222ca73a1",
      "28c7c0d33fe2430a85e412fbe16c8a03",
      "78b3bbe8695c41628952da4f51d6f50d",
      "5a2ed6168cac40efb1fcb8fda2493ae2",
      "e5435d5086df46bca506424e3e12f12c",
      "a2b81599aadc48d7981ab2776edf6209",
      "bb5cb37e1deb42e2929729ec3a550851",
      "99c614c6eae041ec977d745d670ba4c0",
      "bfe63762006f4c399a50661cb98d275c",
      "9d201a88ab194426917c1ba64ff92f09",
      "8a4d678e653849a2a8d8e35f7ff05509",
      "da8b5d6fdab145b4bd2fd51a02cec5a6",
      "cb32ebbc74ac43dc9923b251830f2eee",
      "8a48814c051047b4a924629238551c92",
      "f71670764a6448a9ba97848bfe49d474",
      "41028a7b00904e51a48f4c7abbde54a9",
      "51a63aa24eb5426cb4e2090cc044b5c0",
      "f1ecafa286264b92b0c90532462de5ea",
      "426a558a0cc048639c49b2e5c7c60c2a",
      "5ee9c09759d143028b140aea8fa0e2b8",
      "4d14e3c77339470e93dc61186699bcc7",
      "55b5eaabb52f4dc6b499841aade7c973",
      "9fd2a1fc8fc1403985bad1f088fe2cae",
      "c1dfec880333454191c02ee182ded883",
      "ea0a5eeb4afe4a58837243e484527255",
      "d2c15411886848f4a45114d737a46a57",
      "8c201806335c42c291b8e9026c4bd75f",
      "8210840e48044b1083bc78b5bd419d83",
      "1fa48b15b41241b894aae432821edcc6",
      "134bf814959b4cc6a273020afe415eb1",
      "91b0fc0b75a349d8a6ea9e0c254599af",
      "83fea6f51a384a218f6be1be289b6aa5",
      "0d3d764f989a431eb577376ff2552113",
      "ef9193441dfa45d69a1c566813a8c9b6",
      "5efa1070a66246ed8c9f20621314cb39",
      "59c1fd365d9b42d4a99a4dbd3410b6a8",
      "26647d852da6456f8d9cd439a4819810",
      "b9b2d578995945369684407f9a77f09b",
      "ca7ee1612c3d4749b157d0e598962b68",
      "77f354529fb849b8910c089b2d77cae4",
      "cc44aace2b984d348cce46dfa2e5d27a",
      "2152ab230de9404b9408f260a95c78c6",
      "fa47923c73184562af0807a4e4f1a1c4",
      "e4311c1c200c4730b72d646a502af03b",
      "17732474af1a4003bc54ddf06a098f5e",
      "2bd4312d1c114da1b5e08b2271d80a8f",
      "5b077a8e58d145f5b0c037bcd8c97d5c",
      "0a51db1eb17b4a9c95d6badf67d8d3e9",
      "2642cf5eeb634933a5a6ca626115ec3e"
     ]
    },
    "executionInfo": {
     "elapsed": 277849,
     "status": "ok",
     "timestamp": 1734766077574,
     "user": {
      "displayName": "Haesun Park",
      "userId": "00757226561031077378"
     },
     "user_tz": -540
    },
    "id": "vttIh-QO-1jh",
    "outputId": "4d0e0724-3ac9-462f-d2cd-d51234a5a1ad"
   },
   "outputs": [
    {
     "data": {
      "application/vnd.jupyter.widget-view+json": {
       "model_id": "d01372ea0828425db3390704b38a5379",
       "version_major": 2,
       "version_minor": 0
      },
      "text/plain": [
       "config.json:   0%|          | 0.00/1.04k [00:00<?, ?B/s]"
      ]
     },
     "metadata": {},
     "output_type": "display_data"
    },
    {
     "data": {
      "application/vnd.jupyter.widget-view+json": {
       "model_id": "52869d87fde643b5a64ea01ba481d069",
       "version_major": 2,
       "version_minor": 0
      },
      "text/plain": [
       "configuration_exaone.py:   0%|          | 0.00/9.95k [00:00<?, ?B/s]"
      ]
     },
     "metadata": {},
     "output_type": "display_data"
    },
    {
     "name": "stderr",
     "output_type": "stream",
     "text": [
      "A new version of the following files was downloaded from https://huggingface.co/LGAI-EXAONE/EXAONE-3.5-2.4B-Instruct:\n",
      "- configuration_exaone.py\n",
      ". Make sure to double-check they do not contain any added malicious code. To avoid downloading new versions of the code file, you can pin a revision.\n"
     ]
    },
    {
     "data": {
      "application/vnd.jupyter.widget-view+json": {
       "model_id": "b151223662d5429fbe55383ab5f62c51",
       "version_major": 2,
       "version_minor": 0
      },
      "text/plain": [
       "modeling_exaone.py:   0%|          | 0.00/63.6k [00:00<?, ?B/s]"
      ]
     },
     "metadata": {},
     "output_type": "display_data"
    },
    {
     "name": "stderr",
     "output_type": "stream",
     "text": [
      "A new version of the following files was downloaded from https://huggingface.co/LGAI-EXAONE/EXAONE-3.5-2.4B-Instruct:\n",
      "- modeling_exaone.py\n",
      ". Make sure to double-check they do not contain any added malicious code. To avoid downloading new versions of the code file, you can pin a revision.\n"
     ]
    },
    {
     "data": {
      "application/vnd.jupyter.widget-view+json": {
       "model_id": "ceaea7146f1e448a8e4840df8d8eb9b2",
       "version_major": 2,
       "version_minor": 0
      },
      "text/plain": [
       "model.safetensors.index.json:   0%|          | 0.00/22.2k [00:00<?, ?B/s]"
      ]
     },
     "metadata": {},
     "output_type": "display_data"
    },
    {
     "data": {
      "application/vnd.jupyter.widget-view+json": {
       "model_id": "97db0baac3fc44cfb495135ef9476c99",
       "version_major": 2,
       "version_minor": 0
      },
      "text/plain": [
       "Downloading shards:   0%|          | 0/2 [00:00<?, ?it/s]"
      ]
     },
     "metadata": {},
     "output_type": "display_data"
    },
    {
     "data": {
      "application/vnd.jupyter.widget-view+json": {
       "model_id": "a2b81599aadc48d7981ab2776edf6209",
       "version_major": 2,
       "version_minor": 0
      },
      "text/plain": [
       "model-00001-of-00002.safetensors:   0%|          | 0.00/4.98G [00:00<?, ?B/s]"
      ]
     },
     "metadata": {},
     "output_type": "display_data"
    },
    {
     "data": {
      "application/vnd.jupyter.widget-view+json": {
       "model_id": "51a63aa24eb5426cb4e2090cc044b5c0",
       "version_major": 2,
       "version_minor": 0
      },
      "text/plain": [
       "model-00002-of-00002.safetensors:   0%|          | 0.00/4.65G [00:00<?, ?B/s]"
      ]
     },
     "metadata": {},
     "output_type": "display_data"
    },
    {
     "data": {
      "application/vnd.jupyter.widget-view+json": {
       "model_id": "8210840e48044b1083bc78b5bd419d83",
       "version_major": 2,
       "version_minor": 0
      },
      "text/plain": [
       "Loading checkpoint shards:   0%|          | 0/2 [00:00<?, ?it/s]"
      ]
     },
     "metadata": {},
     "output_type": "display_data"
    },
    {
     "data": {
      "application/vnd.jupyter.widget-view+json": {
       "model_id": "ca7ee1612c3d4749b157d0e598962b68",
       "version_major": 2,
       "version_minor": 0
      },
      "text/plain": [
       "generation_config.json:   0%|          | 0.00/134 [00:00<?, ?B/s]"
      ]
     },
     "metadata": {},
     "output_type": "display_data"
    },
    {
     "name": "stderr",
     "output_type": "stream",
     "text": [
      "Device set to use cuda:0\n"
     ]
    }
   ],
   "source": [
    "from transformers import pipeline\n",
    "\n",
    "pipe = pipeline(task=\"text-generation\",\n",
    "                model=\"LGAI-EXAONE/EXAONE-3.5-2.4B-Instruct\",\n",
    "                tokenizer=exaone_tokenizer,\n",
    "                device=0, trust_remote_code=True)"
   ]
  },
  {
   "cell_type": "code",
   "execution_count": null,
   "metadata": {
    "colab": {
     "base_uri": "https://localhost:8080/"
    },
    "executionInfo": {
     "elapsed": 6758,
     "status": "ok",
     "timestamp": 1734766084329,
     "user": {
      "displayName": "Haesun Park",
      "userId": "00757226561031077378"
     },
     "user_tz": -540
    },
    "id": "suKA-HzT4BT3",
    "outputId": "0ccc0053-2448-415c-dcec-972a7cb61bb0"
   },
   "outputs": [
    {
     "data": {
      "text/plain": [
       "[{'generated_text': [{'role': 'system',\n",
       "    'content': '너는 쇼핑몰 홈페이지에 올라온 질문에 대답하는 Q&A 챗봇이야.                  확정적인 답변을 하지 말고 제품 담당자가 정확한 답변을 하기 위해                  시간이 필요하다는 간단하고 친절한 답변을 생성해줘.'},\n",
       "   {'role': 'user', 'content': '이 다이어리에 내년도 공휴일이 표시되어 있나요?'},\n",
       "   {'role': 'assistant',\n",
       "    'content': '안녕하세요! 다이어리에 내년의 공휴일이 미리 표시되어 있는지에 대해 정확한 답변을 드리기 위해서는 제품 담당자에게 확인이 필요합니다. 현재로선 직접 확인이 어려우니, 저희가 안내드릴 수 있는 방법으로는 고객센터에 연락하시거나, 제품 페이지 내의 문의 게시판을 통해 질문해 보시는 것이 좋을 것 같습니다. 담당자분께서 빠르게 답변해 주실 거예요! 감사합니다.'}]}]"
      ]
     },
     "execution_count": 3,
     "metadata": {},
     "output_type": "execute_result"
    }
   ],
   "source": [
    "messages = [\n",
    "    {\"role\": \"system\",\n",
    "     \"content\": \"너는 쇼핑몰 홈페이지에 올라온 질문에 대답하는 Q&A 챗봇이야. \\\n",
    "                 확정적인 답변을 하지 말고 제품 담당자가 정확한 답변을 하기 위해 \\\n",
    "                 시간이 필요하다는 간단하고 친절한 답변을 생성해줘.\"},\n",
    "    {\"role\": \"user\", \"content\": \"이 다이어리에 내년도 공휴일이 표시되어 있나요?\"}\n",
    "]\n",
    "\n",
    "pipe(messages, max_new_tokens=200)"
   ]
  },
  {
   "cell_type": "code",
   "execution_count": null,
   "metadata": {
    "colab": {
     "base_uri": "https://localhost:8080/"
    },
    "executionInfo": {
     "elapsed": 4591,
     "status": "ok",
     "timestamp": 1734766088918,
     "user": {
      "displayName": "Haesun Park",
      "userId": "00757226561031077378"
     },
     "user_tz": -540
    },
    "id": "M6D0ObeXeM8f",
    "outputId": "53502e96-a063-48d3-a56a-2fdfd20b33bc"
   },
   "outputs": [
    {
     "data": {
      "text/plain": [
       "[{'generated_text': '안녕하세요! 다이어리에 내년의 공휴일이 미리 표시되어 있는지에 대해 정확한 답변을 드리기 위해서는 제품 담당자에게 확인이 필요합니다. 현재로선 직접 확인이 어려우니, 저희가 안내드릴 수 있는 방법으로는 고객센터에 연락하시거나, 제품 페이지 내의 문의 게시판을 통해 질문해 보시는 것이 좋을 것 같습니다. 담당자분께서 빠르게 답변해 주실 거예요! 감사합니다.'}]"
      ]
     },
     "execution_count": 4,
     "metadata": {},
     "output_type": "execute_result"
    }
   ],
   "source": [
    "pipe(messages, max_new_tokens=200, return_full_text=False)"
   ]
  },
  {
   "cell_type": "code",
   "execution_count": null,
   "metadata": {
    "colab": {
     "base_uri": "https://localhost:8080/"
    },
    "executionInfo": {
     "elapsed": 4427,
     "status": "ok",
     "timestamp": 1734766093342,
     "user": {
      "displayName": "Haesun Park",
      "userId": "00757226561031077378"
     },
     "user_tz": -540
    },
    "id": "rX3PhJ291jw0",
    "outputId": "97d006fa-d6c5-4835-a688-551cdc130312"
   },
   "outputs": [
    {
     "name": "stdout",
     "output_type": "stream",
     "text": [
      "안녕하세요! 다이어리에 내년의 공휴일 정보가 포함되어 있는지에 대해 자세히 알려드리는 데 시간이 조금 걸릴 수 있습니다. 정확한 내용을 확인하려면 제조사 측이나 쇼핑몰의 고객센터에 연락하시는 것이 가장 확실할 것 같아요. 그럼 편하실 때 다시 연락주시면 도와드리겠습니다! 도움이 되셨길 바랍니다. 😊\n"
     ]
    }
   ],
   "source": [
    "output = pipe(messages, max_new_tokens=200, return_full_text=False,\n",
    "              do_sample=True)\n",
    "print(output[0]['generated_text'])"
   ]
  },
  {
   "cell_type": "markdown",
   "metadata": {
    "id": "pU1i5vWKodxq"
   },
   "source": [
    "## 토큰 디코딩 전략\n",
    "\n",
    "### 기본 샘플링"
   ]
  },
  {
   "cell_type": "code",
   "execution_count": null,
   "metadata": {
    "id": "Eo_cR5cRzZwr"
   },
   "outputs": [],
   "source": [
    "import numpy as np\n",
    "\n",
    "logits = np.array([1, 2, 3, 4, 100])"
   ]
  },
  {
   "cell_type": "code",
   "execution_count": null,
   "metadata": {
    "colab": {
     "base_uri": "https://localhost:8080/"
    },
    "executionInfo": {
     "elapsed": 14,
     "status": "ok",
     "timestamp": 1734766093343,
     "user": {
      "displayName": "Haesun Park",
      "userId": "00757226561031077378"
     },
     "user_tz": -540
    },
    "id": "czQNsdyHyQG4",
    "outputId": "973c2b41-70a9-49c6-a574-710e5aacccc5"
   },
   "outputs": [
    {
     "name": "stdout",
     "output_type": "stream",
     "text": [
      "[1.01122149e-43 2.74878501e-43 7.47197234e-43 2.03109266e-42\n",
      " 1.00000000e+00]\n"
     ]
    }
   ],
   "source": [
    "from scipy.special import softmax\n",
    "\n",
    "probas = softmax(logits)\n",
    "print(probas)"
   ]
  },
  {
   "cell_type": "code",
   "execution_count": null,
   "metadata": {
    "colab": {
     "base_uri": "https://localhost:8080/"
    },
    "executionInfo": {
     "elapsed": 5,
     "status": "ok",
     "timestamp": 1734766093343,
     "user": {
      "displayName": "Haesun Park",
      "userId": "00757226561031077378"
     },
     "user_tz": -540
    },
    "id": "fzV5-Erxzb3T",
    "outputId": "82b0345e-91ca-462b-8973-b3bbdd6c3f53"
   },
   "outputs": [
    {
     "data": {
      "text/plain": [
       "array([  0,   0,   0,   0, 100])"
      ]
     },
     "execution_count": 8,
     "metadata": {},
     "output_type": "execute_result"
    }
   ],
   "source": [
    "np.random.multinomial(100, probas)"
   ]
  },
  {
   "cell_type": "code",
   "execution_count": null,
   "metadata": {
    "colab": {
     "base_uri": "https://localhost:8080/"
    },
    "executionInfo": {
     "elapsed": 4,
     "status": "ok",
     "timestamp": 1734766093343,
     "user": {
      "displayName": "Haesun Park",
      "userId": "00757226561031077378"
     },
     "user_tz": -540
    },
    "id": "c1hiMBbP2fo-",
    "outputId": "b37b6617-14d5-4fbc-9cfd-9ab90e01d449"
   },
   "outputs": [
    {
     "data": {
      "text/plain": [
       "array([22, 13, 10, 12, 43])"
      ]
     },
     "execution_count": 9,
     "metadata": {},
     "output_type": "execute_result"
    }
   ],
   "source": [
    "probas = softmax(logits/100)\n",
    "np.random.multinomial(100, probas)"
   ]
  },
  {
   "cell_type": "code",
   "execution_count": null,
   "metadata": {
    "colab": {
     "base_uri": "https://localhost:8080/"
    },
    "executionInfo": {
     "elapsed": 7044,
     "status": "ok",
     "timestamp": 1734766100384,
     "user": {
      "displayName": "Haesun Park",
      "userId": "00757226561031077378"
     },
     "user_tz": -540
    },
    "id": "JVL3CbAW2ki5",
    "outputId": "99a6d52d-c1b2-444d-8dcc-18a5cc4a8fc1"
   },
   "outputs": [
    {
     "name": "stdout",
     "output_type": "stream",
     "text": [
      "저는 해당Qy 관리자 입장이지않그래서요qing 특정 브랜드 또는 제조업의 공휴일 포함사항들 자세힌 조회 권한 없으므로 공식 판매처인 판매처혹은회사 페이지의 Calendar 섹션까지 직접 검색recommension 부탁할답니다 그런 디테일 확인해봐 보아지에 확실이 정확히 될 수 밖니를 알 수도요... 거기엔 언제나 전문가, 예 쇼핑몰측이나 해당 제작 다이어리 관계자하시분들 의견들이 담겨볼 시간 필요 하셨겠다 이해 부탁드립니다 감사바겠! 😉🏰💫♖❕◫★.answer.note#DiaryContent#ChRIONlogicalEntries 정확 내용 제공 위해 담당자 요청 대기 부탁드립니다 🤕‍♀⚄ #NeedAssistantRightApprovalsFirst.handle.💰 ⁳|\n"
     ]
    }
   ],
   "source": [
    "output = pipe(messages, max_new_tokens=200, return_full_text=False,\n",
    "              do_sample=True, temperature=10.0)\n",
    "print(output[0]['generated_text'])"
   ]
  },
  {
   "cell_type": "code",
   "execution_count": null,
   "metadata": {
    "colab": {
     "base_uri": "https://localhost:8080/"
    },
    "executionInfo": {
     "elapsed": 4709,
     "status": "ok",
     "timestamp": 1734766105091,
     "user": {
      "displayName": "Haesun Park",
      "userId": "00757226561031077378"
     },
     "user_tz": -540
    },
    "id": "nOp0DaJq5lTc",
    "outputId": "b79c0076-6c1d-4390-f136-eb293dcd22d3"
   },
   "outputs": [
    {
     "name": "stdout",
     "output_type": "stream",
     "text": [
      "안녕하세요! 다이어리에 내년의 공휴일이 미리 표시되어 있는지에 대해 정확한 답변을 드리기 위해서는 제품 담당자에게 확인이 필요합니다. 현재로선 직접 확인이 어려우니, 저희가 안내드릴 수 있는 방법으로는 고객센터에 연락하시거나, 제품 페이지 내의 문의 게시판을 통해 질문해 보시는 것이 좋을 것 같습니다. 담당자분께서 빠르게 답변해 주실 거예요! 감사합니다.\n"
     ]
    }
   ],
   "source": [
    "output = pipe(messages, max_new_tokens=200, return_full_text=False,\n",
    "              do_sample=True, temperature=0.001)\n",
    "print(output[0]['generated_text'])"
   ]
  },
  {
   "cell_type": "markdown",
   "metadata": {
    "id": "iRH9m1tAox0c"
   },
   "source": [
    "### top-k 샘플링"
   ]
  },
  {
   "cell_type": "code",
   "execution_count": null,
   "metadata": {
    "colab": {
     "base_uri": "https://localhost:8080/"
    },
    "executionInfo": {
     "elapsed": 4880,
     "status": "ok",
     "timestamp": 1734766109969,
     "user": {
      "displayName": "Haesun Park",
      "userId": "00757226561031077378"
     },
     "user_tz": -540
    },
    "id": "h0U02SYXo0tA",
    "outputId": "adec3154-6eb4-4170-db66-1531830372ee"
   },
   "outputs": [
    {
     "name": "stdout",
     "output_type": "stream",
     "text": [
      "안녕하세요! 다이어리 정보에 대해 궁금하시군요. 죄송하지만, 실시간으로 모든 디테일을 확인하기는 어렵습니다. 정확한 답변을 드리려면 제품 담당자님께 직접 문의하시는 게 가장 좋을 것 같아요. 그분께서는 다이어리의 최신 정보와 공휴일 관련 내용을 자세히 알려드릴 수 있을 거예요. 혹시 연락처나 담당자 정보가 있으시다면 함께 공유해 주시면 더 도움을 드릴 수 있을 것 같습니다! 감사합니다.\n"
     ]
    }
   ],
   "source": [
    "output = pipe(messages, max_new_tokens=200, return_full_text=False,\n",
    "              do_sample=True, top_k=10)\n",
    "print(output[0]['generated_text'])"
   ]
  },
  {
   "cell_type": "code",
   "execution_count": null,
   "metadata": {
    "colab": {
     "base_uri": "https://localhost:8080/"
    },
    "executionInfo": {
     "elapsed": 9737,
     "status": "ok",
     "timestamp": 1734766119704,
     "user": {
      "displayName": "Haesun Park",
      "userId": "00757226561031077378"
     },
     "user_tz": -540
    },
    "id": "Sd8Bumm5qcKs",
    "outputId": "bccd4a90-fb50-4342-ee5f-22288a356f9b"
   },
   "outputs": [
    {
     "name": "stdout",
     "output_type": "stream",
     "text": [
      "안녕세요. 해당 다이어리 내에 내년도 전체 날짜 범위는 표시되고 그 속에서 정확한 각 국가별로 정해지지 공휴일은 아직 정확하기 확인을 못한 상황임을 죄송히 안내 드리지만용도는 충분히 활용하기 위함이기에 공휴일 날짜는 미리 알려드리는 서비스가 아직 적용되어있지 마세요._Please check directly in the diary by the year specified inside or confirm on one-to-[Your Country/Time Period]: 우리 고객지원으로 바로 도움주시거나 공식 고객서비스 번호에서 정확함 정보 확인 부탁드리요 감사함니다.] 이 정도의 응답 형식으로 이해하였으니 도움되신길 바랍니까?! 궁금하신 건 있으세요 더 물어 보시고 필요 시 전문가님께 연락 부탁드립니다. 🤩감사히!\n"
     ]
    }
   ],
   "source": [
    "output = pipe(messages, max_new_tokens=200, return_full_text=False,\n",
    "              do_sample=True, top_k=10, temperature=10.0)\n",
    "print(output[0]['generated_text'])"
   ]
  },
  {
   "cell_type": "markdown",
   "metadata": {
    "id": "MEfCc4wCrcXd"
   },
   "source": [
    "### top-p 샘플링"
   ]
  },
  {
   "cell_type": "code",
   "execution_count": null,
   "metadata": {
    "colab": {
     "base_uri": "https://localhost:8080/"
    },
    "executionInfo": {
     "elapsed": 7959,
     "status": "ok",
     "timestamp": 1734766127661,
     "user": {
      "displayName": "Haesun Park",
      "userId": "00757226561031077378"
     },
     "user_tz": -540
    },
    "id": "J7sZieDNreBn",
    "outputId": "711ee77d-406e-42af-daea-f2af4ee0c6a6"
   },
   "outputs": [
    {
     "name": "stdout",
     "output_type": "stream",
     "text": [
      "네, 맞습니다! 다이어리에 내년의 공휴일들이 표시되어 있어 날짜를 쉽게 기억하고 계획을 세울 수 있게 도와주고 있어요.  하지만 가장 정확한 정보는 올해의 해당 공휴일 일정을 확인해보시는 게 좋을 것 같아요. 혹시 특정 날짜나 지역에 대한 자세한 내용이 필요하시다면, 직접 고객 서비스팀에 문의해 보시는 것도 좋은 방법이 될 거예요. 저희가 바로 확인해 드리진 못하지만, 필요한 도움을 드릴 수 있도록 최선을 다하겠습니다!\n"
     ]
    }
   ],
   "source": [
    "output = pipe(messages, max_new_tokens=200, return_full_text=False,\n",
    "              do_sample=True, top_p=0.9)\n",
    "print(output[0]['generated_text'])"
   ]
  },
  {
   "cell_type": "code",
   "execution_count": null,
   "metadata": {
    "colab": {
     "base_uri": "https://localhost:8080/"
    },
    "executionInfo": {
     "elapsed": 4616,
     "status": "ok",
     "timestamp": 1734766132274,
     "user": {
      "displayName": "Haesun Park",
      "userId": "00757226561031077378"
     },
     "user_tz": -540
    },
    "id": "QN0EMpVM2vUZ",
    "outputId": "2f1b148b-71a6-4031-875d-d7724818621b"
   },
   "outputs": [
    {
     "name": "stdout",
     "output_type": "stream",
     "text": [
      "안녕하세요! 다이어리의 공휴일 정보에 대해 궁금하시군요. 정확한 답변을 드리기 위해서는 제품 담당자가 해당 다이어리의 상세 내용을 확인해야 합니다. 아마도 내년의 공휴일 정보가 다이어리 내부에 포함되어 있을 수 있지만, 가장 확실한 답변을 위해서는 저희가 직접 확인해야 할 것 같아요. 담당자분께 문의하시면 더 빠르게 도와드리실 수 있을 것 같습니다. 감사합니다!\n"
     ]
    }
   ],
   "source": [
    "output = pipe(messages, max_new_tokens=200, return_full_text=False,\n",
    "              do_sample=True, temperature=0.8, top_k=100, top_p=0.9)\n",
    "print(output[0]['generated_text'])"
   ]
  },
  {
   "cell_type": "markdown",
   "metadata": {
    "id": "Xg_gz457_mms"
   },
   "source": [
    "## GPT-4o로 상품 질문에 대한 대답 생성하기"
   ]
  },
  {
   "cell_type": "code",
   "execution_count": null,
   "metadata": {
    "id": "NafcUrDw_mU1"
   },
   "outputs": [],
   "source": [
    "from openai import OpenAI\n",
    "\n",
    "client = OpenAI(api_key=\"OpenAI 키를 입력하세요\")\n",
    "\n",
    "completion = client.chat.completions.create(\n",
    "    model=\"gpt-4o-mini\",\n",
    "    messages=messages\n",
    ")"
   ]
  },
  {
   "cell_type": "code",
   "execution_count": null,
   "metadata": {
    "colab": {
     "base_uri": "https://localhost:8080/"
    },
    "executionInfo": {
     "elapsed": 298,
     "status": "ok",
     "timestamp": 1734766144018,
     "user": {
      "displayName": "Haesun Park",
      "userId": "00757226561031077378"
     },
     "user_tz": -540
    },
    "id": "tEcGMzK5Hjc9",
    "outputId": "b6bbb8b0-2cd8-4b0a-ed7d-9aadf6132343"
   },
   "outputs": [
    {
     "name": "stdout",
     "output_type": "stream",
     "text": [
      "안녕하세요! 제품 담당자가 정확한 정보를 확인한 후에 답변드릴 수 있도록 시간이 필요합니다. 조금만 기다려 주시면 감사하겠습니다!\n"
     ]
    }
   ],
   "source": [
    "print(completion.choices[0].message.content)"
   ]
  },
  {
   "cell_type": "code",
   "execution_count": null,
   "metadata": {
    "colab": {
     "base_uri": "https://localhost:8080/"
    },
    "executionInfo": {
     "elapsed": 2406,
     "status": "ok",
     "timestamp": 1734768731644,
     "user": {
      "displayName": "Haesun Park",
      "userId": "00757226561031077378"
     },
     "user_tz": -540
    },
    "id": "Y4PqAIDiIiN_",
    "outputId": "89e48d2b-85af-49ed-d01c-bbcfb0d85a06"
   },
   "outputs": [
    {
     "name": "stdout",
     "output_type": "stream",
     "text": [
      "안녕하세요! 해당 다이어리에 내년도 공휴일이 표시되어 있는지 확인하기 위해 제품 담당자에게 문의해보겠습니다. 조금만 기다려 주시면 감사하겠습니다!\n"
     ]
    }
   ],
   "source": [
    "completion = client.chat.completions.create(\n",
    "    model=\"gpt-4o-mini\",\n",
    "    messages=messages,\n",
    "    top_p=0.9\n",
    ")\n",
    "print(completion.choices[0].message.content)"
   ]
  },
  {
   "cell_type": "code",
   "execution_count": null,
   "metadata": {
    "colab": {
     "base_uri": "https://localhost:8080/"
    },
    "executionInfo": {
     "elapsed": 1220,
     "status": "ok",
     "timestamp": 1734771201062,
     "user": {
      "displayName": "Haesun Park",
      "userId": "00757226561031077378"
     },
     "user_tz": -540
    },
    "id": "1MoZFdvaZ-36",
    "outputId": "6bb96457-ef12-466f-bd51-220ed02ab074"
   },
   "outputs": [
    {
     "name": "stdout",
     "output_type": "stream",
     "text": [
      "문의해 주셔서 감사합니다! 앞으로 내년도 공휴일이 다이어리에 포함되어 있는지에 대한 esclarecimento 사항은 제품 담당자에게 문의 드리겠습니다. 조금만 기다려 주시면 정확한 정보를 준비해드리겠습니다.\n"
     ]
    }
   ],
   "source": [
    "completion = client.chat.completions.create(\n",
    "    model=\"gpt-4o-mini\",\n",
    "    messages=messages,\n",
    "    temperature=1.8\n",
    ")\n",
    "print(completion.choices[0].message.content)"
   ]
  }
 ],
 "metadata": {
  "accelerator": "GPU",
  "colab": {
   "authorship_tag": "ABX9TyOfNQM64jeV+f2Y2P7t30mM",
   "gpuType": "T4",
   "provenance": []
  },
  "kernelspec": {
   "display_name": "Python 3 (ipykernel)",
   "language": "python",
   "name": "python3"
  },
  "language_info": {
   "codemirror_mode": {
    "name": "ipython",
    "version": 3
   },
   "file_extension": ".py",
   "mimetype": "text/x-python",
   "name": "python",
   "nbconvert_exporter": "python",
   "pygments_lexer": "ipython3",
   "version": "3.8.18"
  }
 },
 "nbformat": 4,
 "nbformat_minor": 1
}
